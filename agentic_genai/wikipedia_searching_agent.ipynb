{
 "cells": [
  {
   "cell_type": "markdown",
   "metadata": {},
   "source": [
    "# Wikipedia-searching agent\n",
    "\n",
    "Python 3.11"
   ]
  },
  {
   "cell_type": "code",
   "execution_count": null,
   "metadata": {},
   "outputs": [],
   "source": [
    "!pip install chromadb instructor wikipedia"
   ]
  },
  {
   "cell_type": "code",
   "execution_count": 2,
   "metadata": {},
   "outputs": [],
   "source": [
    "import instructor\n",
    "import pydantic\n",
    "import wikipedia"
   ]
  },
  {
   "cell_type": "code",
   "execution_count": 3,
   "metadata": {},
   "outputs": [],
   "source": [
    "# OpenAI setup\n",
    "\n",
    "import os\n",
    "\n",
    "from dotenv import load_dotenv\n",
    "from openai import OpenAI\n",
    "\n",
    "\n",
    "load_dotenv()\n",
    "\n",
    "openai_api_key = os.getenv(\"OPENAI_API_KEY\")\n",
    "if not openai_api_key:\n",
    "    raise ValueError(\"OpenAI API key not found\")\n",
    "\n",
    "client = OpenAI(api_key=openai_api_key)\n",
    "\n",
    "def openai_request(prompt, system=None, model=\"gpt-3.5-turbo\"):\n",
    "    response = client.chat.completions.create(\n",
    "        model=model,\n",
    "        messages=[\n",
    "            {\"role\": \"system\", \"content\": system or \"You are a helpful assistant.\"},\n",
    "            {\"role\": \"user\", \"content\": prompt}\n",
    "        ]\n",
    "    )\n",
    "    return response.choices[0].message.content.strip()"
   ]
  },
  {
   "cell_type": "markdown",
   "metadata": {},
   "source": [
    "## Calculator"
   ]
  },
  {
   "cell_type": "code",
   "execution_count": 4,
   "metadata": {},
   "outputs": [
    {
     "data": {
      "text/plain": [
       "'1. Add fifty five and eleven.\\n2. Subtract twenty two from the result.'"
      ]
     },
     "execution_count": 4,
     "metadata": {},
     "output_type": "execute_result"
    }
   ],
   "source": [
    "# Generate execution plan\n",
    "\n",
    "question = \"How much is fifty five plus eleven minus twenty two?\"  # 55 + 11 - 22\n",
    "system = \"\"\"You are a helpful assistant that uses its tools to solve problems. \n",
    "\n",
    "Help the user to create an algorithm as a list of steps that have to be performed in order to answer to the question. \n",
    "\n",
    "While plannninng the steps, you can only use the following tools:\n",
    "- calculator - while formulating a step using this tool, you should choose a single specific opeartion (eg. addition) and name the values that it should operate on. If the values proceed from previous steps, name the step in which the value was obtained. For example, you can phrase the step as: ```add the value from step 1 to the value from step 3.```. If the maht operation requires using several operations, phrase them all as separate steps.\n",
    "\n",
    "Use specific terms and give concise instructions. The number of steps should be as low as possible. Put the steps in separate lines and number them.\n",
    "\"\"\"\n",
    "prompt = f\"Create a list of steps that have to be performed in order to answer to the question: ```{question}```\"\n",
    "\n",
    "response = openai_request(prompt=prompt, system=system)\n",
    "response  #  '1. Add 2 and 2.\\n2. Subtract 1 from the result of step 1.'"
   ]
  },
  {
   "cell_type": "code",
   "execution_count": 38,
   "metadata": {},
   "outputs": [
    {
     "name": "stdout",
     "output_type": "stream",
     "text": [
      "<class '__main__.CalculatorStep'> step_number=1 operation=<CalculatorOpeartion.Add: 'Add'> first_value=55 second_value=11\n",
      "<class '__main__.CalculatorStep'> step_number=2 operation=<CalculatorOpeartion.Subtract: 'Subtract'> first_value=22 second_value=ResultOfPreviousStep(number_of_step=1)\n"
     ]
    }
   ],
   "source": [
    "# Extract list of steps and their details with Instructor package\n",
    "\n",
    "from enum import Enum\n",
    "\n",
    "from typing import Union\n",
    "from pydantic import BaseModel\n",
    "\n",
    "\n",
    "class Step(BaseModel):\n",
    "    step_number: int\n",
    "\n",
    "class ResultOfPreviousStep(BaseModel):\n",
    "    number_of_step: int\n",
    "\n",
    "class CalculatorOpeartion(str, Enum):\n",
    "    Add = \"Add\"\n",
    "    Subtract = \"Subtract\"\n",
    "    Multiply = \"Multiply\"\n",
    "    Divide = \"Divide\"\n",
    "\n",
    "class CalculatorStep(Step):\n",
    "    operation: CalculatorOpeartion\n",
    "    first_value: Union[int, float, ResultOfPreviousStep] # fails at order of values\n",
    "    second_value: Union[int, float, ResultOfPreviousStep]\n",
    "\n",
    "STEP_TYPES = [CalculatorStep]\n",
    "\n",
    "class StepsPlan(BaseModel):\n",
    "    steps_list: list[Union[*STEP_TYPES]]\n",
    "\n",
    "instructor_client = instructor.from_openai(OpenAI())\n",
    "\n",
    "def create_plan(data: str) -> StepsPlan:\n",
    "    return instructor_client.chat.completions.create(\n",
    "        model=\"gpt-3.5-turbo\",\n",
    "        response_model=StepsPlan,\n",
    "        messages=[\n",
    "            {\n",
    "                \"role\": \"user\",\n",
    "                \"content\": f\"Convert the following list of steps to a plan: {data}.\",\n",
    "            },\n",
    "        ],\n",
    "    )\n",
    "\n",
    "plan = create_plan(response)\n",
    "for step in plan.steps_list:\n",
    "    print(type(step), step) \n",
    "# <class '__main__.CalculatorStep'> step_number=1 operation=<CalculatorOpeartion.Add: 'Add'> first_value=55 second_value=11\n",
    "# <class '__main__.CalculatorStep'> step_number=2 operation=<CalculatorOpeartion.Subtract: 'Subtract'> first_value=22 second_value=ResultOfPreviousStep(number_of_step=1) # wrong order of values"
   ]
  },
  {
   "cell_type": "code",
   "execution_count": 39,
   "metadata": {},
   "outputs": [
    {
     "data": {
      "text/plain": [
       "{1: 66, 2: -44}"
      ]
     },
     "execution_count": 39,
     "metadata": {},
     "output_type": "execute_result"
    }
   ],
   "source": [
    "# Execute the plan with agents\n",
    "\n",
    "from abc import ABC, abstractmethod\n",
    "from dataclasses import dataclass\n",
    "\n",
    "\n",
    "class Agent(ABC):\n",
    "    @classmethod\n",
    "    @abstractmethod\n",
    "    def execute(cls):\n",
    "        pass\n",
    "\n",
    "@dataclass\n",
    "class CalculatorInput:\n",
    "    operation: CalculatorOpeartion\n",
    "    value1: Union[int, float]\n",
    "    value2: Union[int, float]\n",
    "    \n",
    "class CalculatorAgent(Agent):\n",
    "    @classmethod\n",
    "    def _calculate(cls, input: CalculatorInput) -> Union[int, float]:\n",
    "        if input.operation == CalculatorOpeartion.Add:\n",
    "            return input.value1 + input.value2\n",
    "        elif input.operation == CalculatorOpeartion.Subtract:\n",
    "            return input.value1 - input.value2\n",
    "        elif input.operation == CalculatorOpeartion.Multiply:\n",
    "            return input.value1 * input.value2\n",
    "        else:\n",
    "            return input.value1 / input.value2\n",
    "    \n",
    "    @classmethod\n",
    "    def execute(cls, input: CalculatorInput) -> Union[int, float]:\n",
    "        return CalculatorAgent._calculate(input)\n",
    "\n",
    "\n",
    "def execute_plan(plan: StepsPlan) -> dict:\n",
    "    execution = {}\n",
    "    for i, step in enumerate(plan.steps_list, 1):\n",
    "        if isinstance(step, CalculatorStep):\n",
    "            input = CalculatorInput(\n",
    "                operation=step.operation,\n",
    "                value1=execution[step.first_value.number_of_step] if isinstance(step.first_value, ResultOfPreviousStep) else step.first_value,\n",
    "                value2=execution[step.second_value.number_of_step] if isinstance(step.second_value, ResultOfPreviousStep) else step.second_value,\n",
    "            )\n",
    "            result = CalculatorAgent.execute(input)\n",
    "        execution[i] = result\n",
    "    return execution\n",
    "\n",
    "execute_plan(plan)"
   ]
  },
  {
   "cell_type": "code",
   "execution_count": null,
   "metadata": {},
   "outputs": [],
   "source": []
  },
  {
   "cell_type": "code",
   "execution_count": null,
   "metadata": {},
   "outputs": [],
   "source": []
  },
  {
   "cell_type": "code",
   "execution_count": null,
   "metadata": {},
   "outputs": [],
   "source": []
  },
  {
   "cell_type": "code",
   "execution_count": null,
   "metadata": {},
   "outputs": [],
   "source": []
  },
  {
   "cell_type": "code",
   "execution_count": null,
   "metadata": {},
   "outputs": [],
   "source": []
  },
  {
   "cell_type": "markdown",
   "metadata": {},
   "source": [
    "## Wikipedia"
   ]
  },
  {
   "cell_type": "code",
   "execution_count": null,
   "metadata": {},
   "outputs": [],
   "source": [
    "# Generate execution plan\n",
    "\n",
    "# question = \"What is the time difference between Lisbon and Buenos Aires?\"\n",
    "question = \"What is the time difference between Lisbon and Buenos Aires?\"\n",
    "system = \"\"\"You are a helpful assistant that uses its tools to solve problems. \n",
    "\n",
    "Help the user to create an algorithm as a list of steps that have to be performed in order to answer to the question. \n",
    "\n",
    "While plannninng the steps, you can only use the following tools:\n",
    "- wikipedia search - you can phrase the step as: search wikipedia page of topic,\n",
    "- calculator - should name the specific calculation operator, eg. subtract or add. If the values proceed from previous steps, name the step in which the valye was obtained. For example, you can phrase the step as: ```subtract the value from step from the value from step 3.```.\n",
    "\n",
    "Use specific terms and give concise instructions. The number of steps should be as low as possible. Put the steps in separate lines and number them.\n",
    "\"\"\"\n",
    "prompt = f\"Create a list of steps that have to be performed in order to answer to the question: ```{question}```\"\n",
    "\n",
    "response = openai_request(prompt=prompt, system=system)\n",
    "response  # '1. Search Wikipedia page for current local time in Lisbon.\\n2. Search Wikipedia page for current local time in Buenos Aires.\\n3. Calculate the time difference between the two cities by subtracting the time in Lisbon from the time in Buenos Aires.'"
   ]
  },
  {
   "cell_type": "code",
   "execution_count": null,
   "metadata": {},
   "outputs": [],
   "source": [
    "# Extract list of steps and their details with Instructor package\n",
    "\n",
    "from typing import Union\n",
    "from pydantic import BaseModel\n",
    "\n",
    "\n",
    "class Step(BaseModel):\n",
    "    step_number: int\n",
    "\n",
    "class WikipediaStep(Step):\n",
    "    wikipedia_page: str\n",
    "    what_to_find: str\n",
    "\n",
    "class CalculatorStep(Step):\n",
    "    operation: str\n",
    "    value1: str\n",
    "    value2: str\n",
    "\n",
    "# STEP_TYPES = [Wikipedia, Calculator]\n",
    "\n",
    "class StepsPlan(BaseModel):\n",
    "    steps_list: list[Union[WikipediaStep, CalculatorStep]]\n",
    "\n",
    "instructor_client = instructor.from_openai(OpenAI())\n",
    "\n",
    "def create_plan(data: str) -> StepsPlan:\n",
    "    return instructor_client.chat.completions.create(\n",
    "        model=\"gpt-3.5-turbo\",\n",
    "        response_model=StepsPlan,\n",
    "        messages=[\n",
    "            {\n",
    "                \"role\": \"user\",\n",
    "                \"content\": f\"Convert the following list of steps to a plan: {data}\",\n",
    "            },\n",
    "        ],\n",
    "    )\n",
    "\n",
    "classification = list(create_plan(response))\n",
    "classification\n",
    "# [('steps_list',\n",
    "#   [WikipediaStep(step_number=1, wikipedia_page='Lisbon', what_to_find='current local time'),\n",
    "#    WikipediaStep(step_number=2, wikipedia_page='Buenos Aires', what_to_find='current local time'),\n",
    "#    CalculatorStep(step_number=3, operation='subtract', value1='Lisbon', value2='Buenos Aires')])]"
   ]
  },
  {
   "cell_type": "code",
   "execution_count": 152,
   "metadata": {},
   "outputs": [
    {
     "data": {
      "text/plain": [
       "WikipediaStep(step_number=1, wikipedia_page='Lisbon', what_to_find='current local time')"
      ]
     },
     "execution_count": 152,
     "metadata": {},
     "output_type": "execute_result"
    }
   ],
   "source": [
    "wiki_step1, wiki_step2, calc_step = classification[0][1]\n",
    "wiki_step1"
   ]
  },
  {
   "cell_type": "code",
   "execution_count": 158,
   "metadata": {},
   "outputs": [],
   "source": [
    "# Get wikipedia page and search by item similarity\n",
    "def get_wikipedia_page_html(wikipedia_query: WikipediaStep) -> str:\n",
    "    page = wikipedia.page(wikipedia_query.wikipedia_page)\n",
    "    return page.html()\n",
    "\n",
    "def create_vector_db(html_content: str) -> str:\n",
    "    return \"Vector database\"\n",
    "\n",
    "\n",
    "page = get_wikipedia_page_html(wiki_step1)"
   ]
  },
  {
   "cell_type": "code",
   "execution_count": null,
   "metadata": {},
   "outputs": [],
   "source": [
    "page.html()"
   ]
  },
  {
   "cell_type": "code",
   "execution_count": null,
   "metadata": {},
   "outputs": [],
   "source": []
  },
  {
   "cell_type": "code",
   "execution_count": null,
   "metadata": {},
   "outputs": [],
   "source": []
  }
 ],
 "metadata": {
  "kernelspec": {
   "display_name": "exp",
   "language": "python",
   "name": "python3"
  },
  "language_info": {
   "codemirror_mode": {
    "name": "ipython",
    "version": 3
   },
   "file_extension": ".py",
   "mimetype": "text/x-python",
   "name": "python",
   "nbconvert_exporter": "python",
   "pygments_lexer": "ipython3",
   "version": "3.11.9"
  }
 },
 "nbformat": 4,
 "nbformat_minor": 2
}
