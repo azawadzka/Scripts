{
 "cells": [
  {
   "cell_type": "markdown",
   "metadata": {},
   "source": [
    "# Wikipedia-searching agent"
   ]
  },
  {
   "cell_type": "code",
   "execution_count": null,
   "metadata": {},
   "outputs": [],
   "source": [
    "!pip install chromadb instructor wikipedia"
   ]
  },
  {
   "cell_type": "code",
   "execution_count": 2,
   "metadata": {},
   "outputs": [],
   "source": [
    "import instructor\n",
    "import pydantic\n",
    "import wikipedia"
   ]
  },
  {
   "cell_type": "code",
   "execution_count": 3,
   "metadata": {},
   "outputs": [],
   "source": [
    "# OpenAI setup\n",
    "\n",
    "import os\n",
    "\n",
    "from dotenv import load_dotenv\n",
    "from openai import OpenAI\n",
    "\n",
    "\n",
    "load_dotenv()\n",
    "\n",
    "openai_api_key = os.getenv(\"OPENAI_API_KEY\")\n",
    "if not openai_api_key:\n",
    "    raise ValueError(\"OpenAI API key not found\")\n",
    "\n",
    "client = OpenAI(api_key=openai_api_key)\n",
    "\n",
    "def openai_request(prompt, system=None, model=\"gpt-3.5-turbo\"):\n",
    "    response = client.chat.completions.create(\n",
    "        model=model,\n",
    "        messages=[\n",
    "            {\"role\": \"system\", \"content\": system or \"You are a helpful assistant.\"},\n",
    "            {\"role\": \"user\", \"content\": prompt}\n",
    "        ]\n",
    "    )\n",
    "    return response.choices[0].message.content.strip()"
   ]
  },
  {
   "cell_type": "markdown",
   "metadata": {},
   "source": [
    "## Calculator"
   ]
  },
  {
   "cell_type": "code",
   "execution_count": 4,
   "metadata": {},
   "outputs": [
    {
     "data": {
      "text/plain": [
       "'1. Add fifty five and eleven.\\n2. Subtract twenty two from the result.'"
      ]
     },
     "execution_count": 4,
     "metadata": {},
     "output_type": "execute_result"
    }
   ],
   "source": [
    "# Generate execution plan\n",
    "\n",
    "question = \"How much is fifty five plus eleven minus twenty two?\"  # 55 + 11 - 22\n",
    "system = \"\"\"You are a helpful assistant that uses its tools to solve problems. \n",
    "\n",
    "Help the user to create an algorithm as a list of steps that have to be performed in order to answer to the question. \n",
    "\n",
    "While plannninng the steps, you can only use the following tools:\n",
    "- calculator - while formulating a step using this tool, you should choose a single specific opeartion (eg. addition) and name the values that it should operate on. If the values proceed from previous steps, name the step in which the value was obtained. For example, you can phrase the step as: ```add the value from step 1 to the value from step 3.```. If the maht operation requires using several operations, phrase them all as separate steps.\n",
    "\n",
    "Use specific terms and give concise instructions. The number of steps should be as low as possible. Put the steps in separate lines and number them.\n",
    "\"\"\"\n",
    "prompt = f\"Create a list of steps that have to be performed in order to answer to the question: ```{question}```\"\n",
    "\n",
    "response = openai_request(prompt=prompt, system=system)\n",
    "response  #  '1. Add 2 and 2.\\n2. Subtract 1 from the result of step 1.'"
   ]
  },
  {
   "cell_type": "code",
   "execution_count": 14,
   "metadata": {},
   "outputs": [
    {
     "name": "stdout",
     "output_type": "stream",
     "text": [
      "step_number=1 operation=<CalculatorOptions.Add: 'Add'> first_value=55 second_value=11\n",
      "step_number=2 operation=<CalculatorOptions.Subtract: 'Subtract'> first_value=22 second_value=ResultOfPreviousStep(number_of_step=1)\n"
     ]
    },
    {
     "data": {
      "text/plain": [
       "{1: 66, 2: -44}"
      ]
     },
     "execution_count": 14,
     "metadata": {},
     "output_type": "execute_result"
    }
   ],
   "source": [
    "# Extract list of steps and their details with Instructor package\n",
    "\n",
    "from abc import ABC, abstractmethod\n",
    "from enum import Enum\n",
    "\n",
    "from typing import Union\n",
    "from pydantic import BaseModel\n",
    "\n",
    "\n",
    "class Step(ABC, BaseModel):\n",
    "    step_number: int\n",
    "\n",
    "    @abstractmethod\n",
    "    def execute(self, previous_steps: dict):\n",
    "        pass\n",
    "\n",
    "class WikipediaStep(Step):\n",
    "    wikipedia_page: str\n",
    "    what_to_find: str\n",
    "\n",
    "    def execute(self, previous_steps: dict):\n",
    "        pass\n",
    "\n",
    "class CalculatorOptions(str, Enum):\n",
    "    Add = \"Add\"\n",
    "    Subtract = \"Subtract\"\n",
    "    Multiply = \"Multiply\"\n",
    "    Divide = \"Divide\"\n",
    "\n",
    "    def execute(self, value1, value2):\n",
    "        if self == CalculatorOptions.Add:\n",
    "            return value1 + value2\n",
    "        elif self == CalculatorOptions.Subtract:\n",
    "            return value1 - value2\n",
    "        elif self == CalculatorOptions.Multiply:\n",
    "            return value1 * value2\n",
    "        elif self == CalculatorOptions.Divide:\n",
    "            return value1 / value2\n",
    "        raise ValueError(\"Invalid operation\")\n",
    "\n",
    "class ResultOfPreviousStep(BaseModel):\n",
    "    number_of_step: int\n",
    "\n",
    "class CalculatorStep(Step):\n",
    "    operation: CalculatorOptions\n",
    "    first_value: Union[int, float, ResultOfPreviousStep] # fails at order of values\n",
    "    second_value: Union[int, float, ResultOfPreviousStep]\n",
    "\n",
    "    def execute(self, previous_steps: dict):\n",
    "        v1 = previous_steps[self.first_value.number_of_step] if isinstance(self.first_value, ResultOfPreviousStep) else self.first_value\n",
    "        v2 = previous_steps[self.second_value.number_of_step] if isinstance(self.second_value, ResultOfPreviousStep) else self.second_value\n",
    "        return self.operation.execute(v1, v2)\n",
    "\n",
    "STEP_TYPES = [WikipediaStep, CalculatorStep]\n",
    "\n",
    "class StepsPlan(BaseModel):\n",
    "    steps_list: list[Union[*STEP_TYPES]]\n",
    "\n",
    "    def execute(self):\n",
    "        execution = {}\n",
    "        for i, step in enumerate(self.steps_list, 1):\n",
    "            execution[i] = step.execute(previous_steps=execution)\n",
    "        return execution\n",
    "\n",
    "instructor_client = instructor.from_openai(OpenAI())\n",
    "\n",
    "def create_plan(data: str) -> StepsPlan:\n",
    "    return instructor_client.chat.completions.create(\n",
    "        model=\"gpt-3.5-turbo\",\n",
    "        response_model=StepsPlan,\n",
    "        messages=[\n",
    "            {\n",
    "                \"role\": \"user\",\n",
    "                \"content\": f\"Convert the following list of steps to a plan: {data}.\",\n",
    "            },\n",
    "        ],\n",
    "    )\n",
    "\n",
    "classification = create_plan(response)\n",
    "for step in classification.steps_list:\n",
    "    print(step) \n",
    "# step_number=1 operation=<CalculatorOptions.Add: 'Add'> value1=55 value2=11\n",
    "# step_number=2 operation=<CalculatorOptions.Subtract: 'Subtract'> value1=22 value2=ResultOfPreviousStep(number_of_step=1)\n",
    "classification.execute()"
   ]
  },
  {
   "cell_type": "code",
   "execution_count": null,
   "metadata": {},
   "outputs": [],
   "source": []
  },
  {
   "cell_type": "code",
   "execution_count": null,
   "metadata": {},
   "outputs": [],
   "source": []
  },
  {
   "cell_type": "code",
   "execution_count": null,
   "metadata": {},
   "outputs": [],
   "source": []
  },
  {
   "cell_type": "code",
   "execution_count": null,
   "metadata": {},
   "outputs": [],
   "source": []
  },
  {
   "cell_type": "code",
   "execution_count": null,
   "metadata": {},
   "outputs": [],
   "source": []
  },
  {
   "cell_type": "code",
   "execution_count": null,
   "metadata": {},
   "outputs": [],
   "source": []
  },
  {
   "cell_type": "markdown",
   "metadata": {},
   "source": [
    "## Wikipedia"
   ]
  },
  {
   "cell_type": "code",
   "execution_count": null,
   "metadata": {},
   "outputs": [],
   "source": [
    "# Generate execution plan\n",
    "\n",
    "# question = \"What is the time difference between Lisbon and Buenos Aires?\"\n",
    "question = \"What is the time difference between Lisbon and Buenos Aires?\"\n",
    "system = \"\"\"You are a helpful assistant that uses its tools to solve problems. \n",
    "\n",
    "Help the user to create an algorithm as a list of steps that have to be performed in order to answer to the question. \n",
    "\n",
    "While plannninng the steps, you can only use the following tools:\n",
    "- wikipedia search - you can phrase the step as: search wikipedia page of topic,\n",
    "- calculator - should name the specific calculation operator, eg. subtract or add. If the values proceed from previous steps, name the step in which the valye was obtained. For example, you can phrase the step as: ```subtract the value from step from the value from step 3.```.\n",
    "\n",
    "Use specific terms and give concise instructions. The number of steps should be as low as possible. Put the steps in separate lines and number them.\n",
    "\"\"\"\n",
    "prompt = f\"Create a list of steps that have to be performed in order to answer to the question: ```{question}```\"\n",
    "\n",
    "response = openai_request(prompt=prompt, system=system)\n",
    "response  # '1. Search Wikipedia page for current local time in Lisbon.\\n2. Search Wikipedia page for current local time in Buenos Aires.\\n3. Calculate the time difference between the two cities by subtracting the time in Lisbon from the time in Buenos Aires.'"
   ]
  },
  {
   "cell_type": "code",
   "execution_count": null,
   "metadata": {},
   "outputs": [],
   "source": [
    "# Extract list of steps and their details with Instructor package\n",
    "\n",
    "from typing import Union\n",
    "from pydantic import BaseModel\n",
    "\n",
    "\n",
    "class Step(BaseModel):\n",
    "    step_number: int\n",
    "\n",
    "class WikipediaStep(Step):\n",
    "    wikipedia_page: str\n",
    "    what_to_find: str\n",
    "\n",
    "class CalculatorStep(Step):\n",
    "    operation: str\n",
    "    value1: str\n",
    "    value2: str\n",
    "\n",
    "# STEP_TYPES = [Wikipedia, Calculator]\n",
    "\n",
    "class StepsPlan(BaseModel):\n",
    "    steps_list: list[Union[WikipediaStep, CalculatorStep]]\n",
    "\n",
    "instructor_client = instructor.from_openai(OpenAI())\n",
    "\n",
    "def create_plan(data: str) -> StepsPlan:\n",
    "    return instructor_client.chat.completions.create(\n",
    "        model=\"gpt-3.5-turbo\",\n",
    "        response_model=StepsPlan,\n",
    "        messages=[\n",
    "            {\n",
    "                \"role\": \"user\",\n",
    "                \"content\": f\"Convert the following list of steps to a plan: {data}\",\n",
    "            },\n",
    "        ],\n",
    "    )\n",
    "\n",
    "classification = list(create_plan(response))\n",
    "classification\n",
    "# [('steps_list',\n",
    "#   [WikipediaStep(step_number=1, wikipedia_page='Lisbon', what_to_find='current local time'),\n",
    "#    WikipediaStep(step_number=2, wikipedia_page='Buenos Aires', what_to_find='current local time'),\n",
    "#    CalculatorStep(step_number=3, operation='subtract', value1='Lisbon', value2='Buenos Aires')])]"
   ]
  },
  {
   "cell_type": "code",
   "execution_count": 152,
   "metadata": {},
   "outputs": [
    {
     "data": {
      "text/plain": [
       "WikipediaStep(step_number=1, wikipedia_page='Lisbon', what_to_find='current local time')"
      ]
     },
     "execution_count": 152,
     "metadata": {},
     "output_type": "execute_result"
    }
   ],
   "source": [
    "wiki_step1, wiki_step2, calc_step = classification[0][1]\n",
    "wiki_step1"
   ]
  },
  {
   "cell_type": "code",
   "execution_count": 158,
   "metadata": {},
   "outputs": [],
   "source": [
    "# Get wikipedia page and search by item similarity\n",
    "def get_wikipedia_page_html(wikipedia_query: WikipediaStep) -> str:\n",
    "    page = wikipedia.page(wikipedia_query.wikipedia_page)\n",
    "    return page.html()\n",
    "\n",
    "def create_vector_db(html_content: str) -> str:\n",
    "    return \"Vector database\"\n",
    "\n",
    "\n",
    "page = get_wikipedia_page_html(wiki_step1)"
   ]
  },
  {
   "cell_type": "code",
   "execution_count": null,
   "metadata": {},
   "outputs": [],
   "source": [
    "page.html()"
   ]
  },
  {
   "cell_type": "code",
   "execution_count": null,
   "metadata": {},
   "outputs": [],
   "source": []
  },
  {
   "cell_type": "code",
   "execution_count": null,
   "metadata": {},
   "outputs": [],
   "source": []
  }
 ],
 "metadata": {
  "kernelspec": {
   "display_name": "exp",
   "language": "python",
   "name": "python3"
  },
  "language_info": {
   "codemirror_mode": {
    "name": "ipython",
    "version": 3
   },
   "file_extension": ".py",
   "mimetype": "text/x-python",
   "name": "python",
   "nbconvert_exporter": "python",
   "pygments_lexer": "ipython3",
   "version": "3.11.9"
  }
 },
 "nbformat": 4,
 "nbformat_minor": 2
}
