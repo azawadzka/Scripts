{
 "cells": [
  {
   "cell_type": "markdown",
   "metadata": {},
   "source": [
    "# Unicode\n",
    "- `ord` return code point in **Unicode table**\n",
    "- `chr` is reverse\n",
    "- ex. `U+XXXX`\n",
    "- The **Unicode table** is a comprehensive catalog that assigns a unique **code point** (a non-negative integer) to each character in the Unicode standard\n",
    "- Unlike Unicode tables, which are **abstract**, encoding formats define how characters are represented as binary data.\n",
    "- **Encoding formats** are methods used to convert Unicode code points into a specific sequence of bytes for storage or transmission. Each encoding format has its own rules for how many bytes are used for each character. Exmples:\n",
    "    - UTF-8: A variable-length encoding that uses one to four bytes per character. It is backward compatible with ASCII, making it widely used on the web.\n",
    "    - UTF-16: Uses one or two 16-bit code units (2 or 4 bytes) per character, often used in environments like Windows.\n",
    "    - UTF-32: A fixed-length encoding that uses four bytes for every character, simplifying processing but consuming more space."
   ]
  },
  {
   "cell_type": "code",
   "execution_count": null,
   "metadata": {},
   "outputs": [
    {
     "name": "stdout",
     "output_type": "stream",
     "text": [
      "65\n",
      "97\n",
      "8364\n"
     ]
    }
   ],
   "source": [
    "print(ord('A'))  # 65\n",
    "print(ord('a'))  # 97\n",
    "print(ord('€'))  # 8364"
   ]
  },
  {
   "cell_type": "code",
   "execution_count": null,
   "metadata": {},
   "outputs": [
    {
     "name": "stdout",
     "output_type": "stream",
     "text": [
      "A\n",
      "a\n",
      "€\n"
     ]
    }
   ],
   "source": [
    "print(chr(65))    # A\n",
    "print(chr(97))    # a\n",
    "print(chr(8364))  # €"
   ]
  },
  {
   "cell_type": "code",
   "execution_count": null,
   "metadata": {},
   "outputs": [
    {
     "name": "stdout",
     "output_type": "stream",
     "text": [
      "['✐', '✑', '✒', '✓', '✔', '✕', '✖', '✗', '✘', '✙', '✚', '✛', '✜', '✝', '✞', '✟', '✠', '✡', '✢', '✣', '✤', '✥', '✦', '✧', '✨', '✩', '✪', '✫', '✬', '✭', '✮', '✯', '✰', '✱', '✲', '✳', '✴', '✵', '✶', '✷', '✸', '✹', '✺', '✻', '✼', '✽', '✾', '✿', '❀', '❁', '❂', '❃', '❄', '❅', '❆', '❇', '❈', '❉', '❊', '❋', '❌', '❍', '❎', '❏', '❐', '❑', '❒', '❓', '❔', '❕', '❖', '❗', '❘', '❙', '❚', '❛', '❜', '❝', '❞', '❟', '❠', '❡', '❢', '❣', '❤', '❥', '❦', '❧', '❨', '❩', '❪', '❫', '❬', '❭', '❮', '❯', '❰', '❱', '❲', '❳']\n"
     ]
    }
   ],
   "source": [
    "print([chr(i) for i in range(10000, 10100)])"
   ]
  },
  {
   "cell_type": "code",
   "execution_count": null,
   "metadata": {},
   "outputs": [
    {
     "data": {
      "text/plain": [
       "8195"
      ]
     },
     "metadata": {},
     "output_type": "display_data"
    }
   ],
   "source": [
    "ord(\" \") # unicode space"
   ]
  },
  {
   "cell_type": "code",
   "execution_count": null,
   "metadata": {},
   "outputs": [
    {
     "ename": "TypeError",
     "evalue": "ord() expected a character, but string of length 2 found",
     "output_type": "error",
     "traceback": [
      "\u001b[0;31m---------------------------------------------------------------------------\u001b[0m\n",
      "\u001b[0;31mTypeError\u001b[0m                                 Traceback (most recent call last)\n",
      "Cell \u001b[0;32mIn[12], line 1\u001b[0m\n",
      "\u001b[0;32m----> 1\u001b[0m \u001b[38;5;28;43mord\u001b[39;49m\u001b[43m(\u001b[49m\u001b[38;5;124;43m'\u001b[39;49m\u001b[38;5;124;43mAa\u001b[39;49m\u001b[38;5;124;43m'\u001b[39;49m\u001b[43m)\u001b[49m\n",
      "\n",
      "\u001b[0;31mTypeError\u001b[0m: ord() expected a character, but string of length 2 found"
     ]
    }
   ],
   "source": [
    "ord('Aa')"
   ]
  }
 ],
 "metadata": {
  "language_info": {
   "name": "python"
  }
 },
 "nbformat": 4,
 "nbformat_minor": 2
}
