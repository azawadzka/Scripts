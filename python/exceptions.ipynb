{
 "cells": [
  {
   "cell_type": "markdown",
   "metadata": {},
   "source": [
    "https://realpython.com/python311-exception-groups/#exception-groups-and-except-in-python-311"
   ]
  },
  {
   "cell_type": "code",
   "execution_count": 4,
   "metadata": {},
   "outputs": [
    {
     "name": "stdout",
     "output_type": "stream",
     "text": [
      "Handling ValueError: (ValueError(654),)\n",
      "Handling TypeError: (TypeError('str'), TypeError('int'))\n"
     ]
    }
   ],
   "source": [
    "# intr Python 3.11\n",
    "try:\n",
    "    raise ExceptionGroup(\n",
    "        \"group\", [TypeError(\"str\"), ValueError(654), TypeError(\"int\")]\n",
    "    )\n",
    "except* ValueError as eg:\n",
    "    print(f\"Handling ValueError: {eg.exceptions}\")\n",
    "except* TypeError as eg:\n",
    "    print(f\"Handling TypeError: {eg.exceptions}\")\n",
    "    \n",
    "# Handling ValueError: (ValueError(654),)\n",
    "# Handling TypeError: (TypeError('str'), TypeError('int'))"
   ]
  },
  {
   "cell_type": "code",
   "execution_count": 5,
   "metadata": {},
   "outputs": [
    {
     "name": "stderr",
     "output_type": "stream",
     "text": [
      "  + Exception Group Traceback (most recent call last):\n",
      "  |   File \"/Users/az/.pyenv/versions/expo/lib/python3.11/site-packages/IPython/core/interactiveshell.py\", line 3577, in run_code\n",
      "  |     exec(code_obj, self.user_global_ns, self.user_ns)\n",
      "  |   File \"/var/folders/rw/0ngmxz7n6hl0tb17f2b4fb780000gr/T/ipykernel_8017/1450596389.py\", line 3, in <module>\n",
      "  |     raise ExceptionGroup(\n",
      "  | ExceptionGroup: group (3 sub-exceptions)\n",
      "  +-+---------------- 1 ----------------\n",
      "    | TypeError: str\n",
      "    +---------------- 2 ----------------\n",
      "    | ValueError: 654\n",
      "    +---------------- 3 ----------------\n",
      "    | TypeError: int\n",
      "    +------------------------------------\n"
     ]
    }
   ],
   "source": [
    "# no * in except\n",
    "# except* clauses that match an error remove that error from the exception group\n",
    "try:\n",
    "    raise ExceptionGroup(\n",
    "        \"group\", [TypeError(\"str\"), ValueError(654), TypeError(\"int\")]\n",
    "    )\n",
    "except ValueError as eg:\n",
    "    print(f\"Handling ValueError: {eg.exceptions}\")\n",
    "except TypeError as eg:\n",
    "    print(f\"Handling TypeError: {eg.exceptions}\")\n",
    "\n",
    "#  + Exception Group Traceback (most recent call last):\n",
    "#   |   File \"/Users/az/.pyenv/versions/expo/lib/python3.11/site-packages/IPython/core/interactiveshell.py\", line 3577, in run_code\n",
    "#   |     exec(code_obj, self.user_global_ns, self.user_ns)\n",
    "#   |   File \"/var/folders/rw/0ngmxz7n6hl0tb17f2b4fb780000gr/T/ipykernel_8017/1450596389.py\", line 3, in <module>\n",
    "#   |     raise ExceptionGroup(\n",
    "#   | ExceptionGroup: group (3 sub-exceptions)\n",
    "#   +-+---------------- 1 ----------------\n",
    "#     | TypeError: str\n",
    "#     +---------------- 2 ----------------\n",
    "#     | ValueError: 654\n",
    "#     +---------------- 3 ----------------\n",
    "#     | TypeError: int\n",
    "#     +------------------------------------"
   ]
  },
  {
   "cell_type": "code",
   "execution_count": 2,
   "metadata": {},
   "outputs": [
    {
     "name": "stdout",
     "output_type": "stream",
     "text": [
      "Handling ValueError: (ValueError(654),)\n"
     ]
    }
   ],
   "source": [
    "# no group\n",
    "try:\n",
    "    raise ValueError(654)\n",
    "except* ValueError as eg:\n",
    "    print(f\"Handling ValueError: {eg.exceptions}\")"
   ]
  }
 ],
 "metadata": {
  "kernelspec": {
   "display_name": "expo",
   "language": "python",
   "name": "python3"
  },
  "language_info": {
   "codemirror_mode": {
    "name": "ipython",
    "version": 3
   },
   "file_extension": ".py",
   "mimetype": "text/x-python",
   "name": "python",
   "nbconvert_exporter": "python",
   "pygments_lexer": "ipython3",
   "version": "3.11.9"
  }
 },
 "nbformat": 4,
 "nbformat_minor": 2
}
