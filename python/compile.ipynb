{
 "cells": [
  {
   "cell_type": "markdown",
   "metadata": {},
   "source": [
    "**compile** source code into a code object that can be executed by the Python interpreter.\n",
    "\n",
    "syntax: \n",
    "\n",
    "`compile(source, filename, mode, flags=0, dont_inherit=False, optimize=-1)`"
   ]
  },
  {
   "cell_type": "code",
   "execution_count": 11,
   "metadata": {},
   "outputs": [
    {
     "name": "stdout",
     "output_type": "stream",
     "text": [
      "3\n"
     ]
    }
   ],
   "source": [
    "code = compile('a + b', '<string>', 'eval')\n",
    "result = eval(code, {'a': 1, 'b': 2})\n",
    "print(result)  # Output: 3"
   ]
  },
  {
   "cell_type": "markdown",
   "metadata": {},
   "source": [
    "A **code** object in Python is a low-level representation of compiled executable code.\n",
    "- Dynamic Code Execution: Code objects allow for dynamic execution of code, which can be useful in various applications like interpreters, code analysis tools, and more.\n",
    "- Performance Analysis: By examining code objects, you can gain insights into how Python executes your code, which can help with performance optimization.\n",
    "- Custom scripting environments"
   ]
  },
  {
   "cell_type": "code",
   "execution_count": 16,
   "metadata": {},
   "outputs": [
    {
     "name": "stdout",
     "output_type": "stream",
     "text": [
      "<class 'code'>\n",
      "b'\\x97\\x00e\\x00e\\x01z\\x00\\x00\\x00S\\x00'\n",
      "('a', 'b')\n",
      "()\n"
     ]
    }
   ],
   "source": [
    "source_code = 'a + b'\n",
    "code_obj = compile(source_code, '<string>', 'eval')\n",
    "\n",
    "print(type(code_obj))  # Output: <class 'code'>\n",
    "print(code_obj.co_code)  # Bytecode instructions\n",
    "print(code_obj.co_names)  # Variable names used in the code\n",
    "print(code_obj.co_varnames)  # Variable names used in the code"
   ]
  },
  {
   "cell_type": "code",
   "execution_count": null,
   "metadata": {},
   "outputs": [],
   "source": []
  }
 ],
 "metadata": {
  "kernelspec": {
   "display_name": "Python 3",
   "language": "python",
   "name": "python3"
  },
  "language_info": {
   "codemirror_mode": {
    "name": "ipython",
    "version": 3
   },
   "file_extension": ".py",
   "mimetype": "text/x-python",
   "name": "python",
   "nbconvert_exporter": "python",
   "pygments_lexer": "ipython3",
   "version": "3.12.1"
  }
 },
 "nbformat": 4,
 "nbformat_minor": 2
}
