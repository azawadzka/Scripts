{
 "cells": [
  {
   "cell_type": "markdown",
   "metadata": {},
   "source": [
    "## TextBlob\n",
    "- features:\n",
    "  - sentiment analysis\n",
    "  - classification\n",
    "  - noun phrases detection\n",
    "  - spelling correction\n",
    "  - POS tagging\n",
    "  - lang detection, translation? (not in api)\n",
    "- lower accuracy compared to other tools like VADER and Flair\n",
    "- relies on external APIs (like Google Translate)\n",
    "- easy to use but very limited\n",
    "\n",
    "GenAI (perplexity.ai) was used to create this file."
   ]
  },
  {
   "cell_type": "code",
   "execution_count": null,
   "metadata": {},
   "outputs": [],
   "source": [
    "!pip install textblob"
   ]
  },
  {
   "cell_type": "code",
   "execution_count": null,
   "metadata": {},
   "outputs": [],
   "source": [
    "import nltk\n",
    "nltk.download('brown') # required for noun_phrases"
   ]
  },
  {
   "cell_type": "code",
   "execution_count": 7,
   "metadata": {},
   "outputs": [
    {
     "name": "stdout",
     "output_type": "stream",
     "text": [
      "Polarity: 0.625, Subjectivity: 0.6\n"
     ]
    }
   ],
   "source": [
    "from textblob import TextBlob"
   ]
  },
  {
   "cell_type": "code",
   "execution_count": 8,
   "metadata": {},
   "outputs": [
    {
     "name": "stdout",
     "output_type": "stream",
     "text": [
      "blob.sentiment.polarity=0.625, blob.sentiment.subjectivity=0.6\n"
     ]
    }
   ],
   "source": [
    "blob = TextBlob(\"I love programming in Python!\")\n",
    "print(f\"{blob.sentiment.polarity=}, {blob.sentiment.subjectivity=}\")"
   ]
  },
  {
   "cell_type": "code",
   "execution_count": 25,
   "metadata": {},
   "outputs": [
    {
     "name": "stdout",
     "output_type": "stream",
     "text": [
      "blob.sentiment.polarity=0.0875, blob.sentiment.subjectivity=0.6\n"
     ]
    }
   ],
   "source": [
    "blob = TextBlob(\"Programming in Python is considered to be extreme fun.\")\n",
    "print(f\"{blob.sentiment.polarity=}, {blob.sentiment.subjectivity=}\")"
   ]
  },
  {
   "cell_type": "code",
   "execution_count": 24,
   "metadata": {},
   "outputs": [
    {
     "name": "stdout",
     "output_type": "stream",
     "text": [
      "blob.sentiment.polarity=0.0, blob.sentiment.subjectivity=0.0\n"
     ]
    }
   ],
   "source": [
    "blob = TextBlob(\"She hates programming in Python.\")\n",
    "print(f\"{blob.sentiment.polarity=}, {blob.sentiment.subjectivity=}\")"
   ]
  },
  {
   "cell_type": "code",
   "execution_count": 23,
   "metadata": {},
   "outputs": [
    {
     "name": "stdout",
     "output_type": "stream",
     "text": [
      "blob.sentiment.polarity=-0.8, blob.sentiment.subjectivity=0.9\n"
     ]
    }
   ],
   "source": [
    "blob = TextBlob(\"I hate programming in Python.\")\n",
    "print(f\"{blob.sentiment.polarity=}, {blob.sentiment.subjectivity=}\")"
   ]
  },
  {
   "cell_type": "code",
   "execution_count": 31,
   "metadata": {},
   "outputs": [
    {
     "data": {
      "text/plain": [
       "WordList(['textblob', 'simple library', 'processing textual data'])"
      ]
     },
     "execution_count": 31,
     "metadata": {},
     "output_type": "execute_result"
    }
   ],
   "source": [
    "# Noun phrases\n",
    "blob = TextBlob(\"TextBlob is a simple library for processing textual data.\")\n",
    "blob.noun_phrases"
   ]
  },
  {
   "cell_type": "code",
   "execution_count": 43,
   "metadata": {},
   "outputs": [
    {
     "data": {
      "text/plain": [
       "TextBlob(\"I have goooood spelling! You're spelling is bad. Lint is bettah.\")"
      ]
     },
     "execution_count": 43,
     "metadata": {},
     "output_type": "execute_result"
    }
   ],
   "source": [
    "# Spelling Correction\n",
    "blob = TextBlob(\"I havv goooood speling! You're speling is bad. Mint is betta.\")\n",
    "blob.correct()  # Didn't detect you're/your. Non-contextual. Probably uses Levensthein distance 1 or 2"
   ]
  },
  {
   "cell_type": "code",
   "execution_count": 33,
   "metadata": {},
   "outputs": [
    {
     "name": "stdout",
     "output_type": "stream",
     "text": [
      "[('TextBlob', 'NNP'), ('makes', 'VBZ'), ('it', 'PRP'), ('easy', 'JJ'), ('to', 'TO'), ('process', 'VB'), ('textual', 'JJ'), ('data', 'NNS')]\n"
     ]
    }
   ],
   "source": [
    "# POS tagging\n",
    "blob = TextBlob(\"TextBlob makes it easy to process textual data.\")\n",
    "blob.tags"
   ]
  },
  {
   "cell_type": "code",
   "execution_count": null,
   "metadata": {},
   "outputs": [],
   "source": []
  }
 ],
 "metadata": {
  "kernelspec": {
   "display_name": "expo",
   "language": "python",
   "name": "python3"
  },
  "language_info": {
   "codemirror_mode": {
    "name": "ipython",
    "version": 3
   },
   "file_extension": ".py",
   "mimetype": "text/x-python",
   "name": "python",
   "nbconvert_exporter": "python",
   "pygments_lexer": "ipython3",
   "version": "3.11.9"
  }
 },
 "nbformat": 4,
 "nbformat_minor": 2
}
