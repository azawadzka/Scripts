{
 "cells": [
  {
   "cell_type": "markdown",
   "metadata": {},
   "source": [
    "https://towardsdatascience.com/make-the-cutest-chart-in-python-visualize-your-data-with-hand-drawn-charts-f21157f76b4b\n",
    "\n",
    "Code supported by perplexity.ai\n",
    "\n",
    "Interactive charts <3"
   ]
  },
  {
   "cell_type": "code",
   "execution_count": null,
   "metadata": {},
   "outputs": [],
   "source": [
    "!pip install cutecharts pandas scikit-learn"
   ]
  },
  {
   "cell_type": "code",
   "execution_count": 7,
   "metadata": {},
   "outputs": [],
   "source": [
    "import pandas as pd\n",
    "import cutecharts.charts as ctc"
   ]
  },
  {
   "cell_type": "code",
   "execution_count": 10,
   "metadata": {},
   "outputs": [],
   "source": [
    "from sklearn import datasets\n",
    "\n",
    "iris = datasets.load_iris()"
   ]
  },
  {
   "cell_type": "code",
   "execution_count": 23,
   "metadata": {},
   "outputs": [],
   "source": [
    "# Load the Iris dataset\n",
    "df_iris = pd.DataFrame(data=iris.data, columns=iris.feature_names)\n",
    "df_iris['target'] = iris.target\n",
    "df_iris['species'] = df_iris['target'].map({0: 'setosa', 1: 'versicolor', 2: 'virginica'})"
   ]
  },
  {
   "cell_type": "code",
   "execution_count": 46,
   "metadata": {},
   "outputs": [
    {
     "data": {
      "text/html": [
       "<div>\n",
       "<style scoped>\n",
       "    .dataframe tbody tr th:only-of-type {\n",
       "        vertical-align: middle;\n",
       "    }\n",
       "\n",
       "    .dataframe tbody tr th {\n",
       "        vertical-align: top;\n",
       "    }\n",
       "\n",
       "    .dataframe thead th {\n",
       "        text-align: right;\n",
       "    }\n",
       "</style>\n",
       "<table border=\"1\" class=\"dataframe\">\n",
       "  <thead>\n",
       "    <tr style=\"text-align: right;\">\n",
       "      <th></th>\n",
       "      <th>species</th>\n",
       "      <th>sepal length (cm)</th>\n",
       "      <th>sepal width (cm)</th>\n",
       "      <th>petal length (cm)</th>\n",
       "      <th>petal width (cm)</th>\n",
       "    </tr>\n",
       "  </thead>\n",
       "  <tbody>\n",
       "    <tr>\n",
       "      <th>0</th>\n",
       "      <td>setosa</td>\n",
       "      <td>5.006</td>\n",
       "      <td>3.428</td>\n",
       "      <td>1.462</td>\n",
       "      <td>0.246</td>\n",
       "    </tr>\n",
       "    <tr>\n",
       "      <th>1</th>\n",
       "      <td>versicolor</td>\n",
       "      <td>5.936</td>\n",
       "      <td>2.770</td>\n",
       "      <td>4.260</td>\n",
       "      <td>1.326</td>\n",
       "    </tr>\n",
       "    <tr>\n",
       "      <th>2</th>\n",
       "      <td>virginica</td>\n",
       "      <td>6.588</td>\n",
       "      <td>2.974</td>\n",
       "      <td>5.552</td>\n",
       "      <td>2.026</td>\n",
       "    </tr>\n",
       "  </tbody>\n",
       "</table>\n",
       "</div>"
      ],
      "text/plain": [
       "      species  sepal length (cm)  sepal width (cm)  petal length (cm)  \\\n",
       "0      setosa              5.006             3.428              1.462   \n",
       "1  versicolor              5.936             2.770              4.260   \n",
       "2   virginica              6.588             2.974              5.552   \n",
       "\n",
       "   petal width (cm)  \n",
       "0             0.246  \n",
       "1             1.326  \n",
       "2             2.026  "
      ]
     },
     "execution_count": 46,
     "metadata": {},
     "output_type": "execute_result"
    }
   ],
   "source": [
    "# Group by species and calculate mean values\n",
    "grouped_data = df_iris.drop(['target'], axis=1).groupby('species').mean().reset_index()\n",
    "grouped_data.head()"
   ]
  },
  {
   "cell_type": "code",
   "execution_count": 50,
   "metadata": {},
   "outputs": [
    {
     "data": {
      "text/html": [
       "\n",
       "<script>\n",
       "    require.config({\n",
       "        paths: {\n",
       "            'chartXkcd':'https://cdn.jsdelivr.net/npm/chart.xkcd@1.1/dist/chart.xkcd.min'\n",
       "        }\n",
       "    });\n",
       "</script>\n",
       "\n",
       "<div id=\"df13d766de1e46ca9c72702cd8a1b4b6\" class=\"chart-container\" style=\"width: 600px\">\n",
       "        <svg id=\"chart_df13d766de1e46ca9c72702cd8a1b4b6\"></svg>\n",
       "    </div>\n",
       "    <script>\n",
       "        require(['chartXkcd'], function(chartXkcd) {\n",
       "            const svg_df13d766de1e46ca9c72702cd8a1b4b6 = document.querySelector('#chart_df13d766de1e46ca9c72702cd8a1b4b6')\n",
       "            const chart_df13d766de1e46ca9c72702cd8a1b4b6 = new chartXkcd.Radar(svg_df13d766de1e46ca9c72702cd8a1b4b6, {\"title\": \"Iris Species Comparison\", \"data\": {\"datasets\": [{\"label\": \"setosa\", \"data\": [5.006, 3.428, 1.462, 0.24600000000000002]}, {\"label\": \"versicolor\", \"data\": [5.936, 2.77, 4.26, 1.3259999999999998]}, {\"label\": \"virginica\", \"data\": [6.587999999999999, 2.9739999999999998, 5.5520000000000005, 2.026]}], \"labels\": [\"sepal length (cm)\", \"sepal width (cm)\", \"petal length (cm)\", \"petal width (cm)\"]}, \"options\": {\"showLegend\": true, \"showLabel\": true, \"tickCount\": 3, \"legendPosition\": 1}});\n",
       "        })\n",
       "    </script>\n"
      ],
      "text/plain": [
       "<cutecharts.render.engine.HTML at 0x129e74970>"
      ]
     },
     "execution_count": 50,
     "metadata": {},
     "output_type": "execute_result"
    }
   ],
   "source": [
    "# Create a Radar chart\n",
    "radar_chart = ctc.Radar('Iris Species Comparison', width='600px', height='400px')\n",
    "\n",
    "# Set options for the chart\n",
    "radar_chart.set_options(\n",
    "    labels=list(grouped_data.columns[1:]),\n",
    "    is_show_legend=True,\n",
    "    legend_pos='upLeft'\n",
    ")\n",
    "\n",
    "# Add data series for each species\n",
    "for index, row in grouped_data.iterrows():\n",
    "    radar_chart.add_series(row['species'], row[1:].tolist())\n",
    "\n",
    "# Render the chart\n",
    "radar_chart.render_notebook()\n",
    "\n",
    "# where legend?"
   ]
  },
  {
   "cell_type": "code",
   "execution_count": null,
   "metadata": {},
   "outputs": [],
   "source": []
  },
  {
   "cell_type": "code",
   "execution_count": null,
   "metadata": {},
   "outputs": [],
   "source": []
  }
 ],
 "metadata": {
  "kernelspec": {
   "display_name": "exp",
   "language": "python",
   "name": "python3"
  },
  "language_info": {
   "codemirror_mode": {
    "name": "ipython",
    "version": 3
   },
   "file_extension": ".py",
   "mimetype": "text/x-python",
   "name": "python",
   "nbconvert_exporter": "python",
   "pygments_lexer": "ipython3",
   "version": "3.10.14"
  }
 },
 "nbformat": 4,
 "nbformat_minor": 2
}
