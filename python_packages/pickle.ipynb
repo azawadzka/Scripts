{
 "cells": [
  {
   "cell_type": "markdown",
   "metadata": {},
   "source": [
    "**Pickle is not secure, only use with trusted data.**"
   ]
  },
  {
   "cell_type": "markdown",
   "metadata": {},
   "source": [
    "**pickle protocols**\n",
    "- The data format used by pickle is Python-specific. Non-Python programs may not be able to reconstruct pickled Python objects\n",
    "- 6 protocols, higher protocol = more recent the version of Python\n",
    "- binaries can be further compressed\n",
    "\n",
    "\n",
    "https://docs.python.org/3/library/pickle.html#pickle-protocols"
   ]
  },
  {
   "cell_type": "markdown",
   "metadata": {},
   "source": [
    "**Persistent objects** \n",
    "- objects that can be stored and retrieved from a storage medium (such as a file or a database) while retaining their state and behavior\n",
    "- `__get_state__`, `__set_state__` methods in `pickle` package"
   ]
  },
  {
   "cell_type": "markdown",
   "metadata": {},
   "source": [
    "`__reduce__()`\n",
    "- handle properties that don't serialize well\n",
    "- method that runs upon deserialization\n",
    "- potentially malicious\n",
    "\n",
    "Src\n",
    "- https://docs.python.org/3/library/pickle.html#object.\\_\\_reduce\\_\\_\n",
    "- https://stackoverflow.com/questions/19855156/whats-the-exact-usage-of-reduce-in-pickler"
   ]
  },
  {
   "cell_type": "code",
   "execution_count": 8,
   "metadata": {},
   "outputs": [
    {
     "name": "stdout",
     "output_type": "stream",
     "text": [
      "b'\\x80\\x04\\x95k\\x00\\x00\\x00\\x00\\x00\\x00\\x00\\x8c\\x08__main__\\x94\\x8c\\x04Test\\x94\\x93\\x94\\x8cO/var/folders/rw/0ngmxz7n6hl0tb17f2b4fb780000gr/T/tmps4b6cm1l/test1234567890.txt\\x94\\x85\\x94R\\x94.'\n",
      "{'_file_name_we_opened': '/var/folders/rw/0ngmxz7n6hl0tb17f2b4fb780000gr/T/tmps4b6cm1l/test1234567890.txt', 'some_file_i_have_opened': <_io.BufferedWriter name='/var/folders/rw/0ngmxz7n6hl0tb17f2b4fb780000gr/T/tmps4b6cm1l/test1234567890.txt'>}\n"
     ]
    }
   ],
   "source": [
    "import pickle\n",
    "import tempfile\n",
    "\n",
    "class Test:\n",
    "    def __init__(self, file_path):\n",
    "        # Used later in __reduce__\n",
    "        self._file_name_we_opened = file_path\n",
    "        # An open file in write mode\n",
    "        self.some_file_i_have_opened = open(self._file_name_we_opened, 'wb')\n",
    "    def __reduce__(self):\n",
    "        # we return a tuple of class_name to call,\n",
    "        # and optional parameters to pass when re-creating\n",
    "        return (self.__class__, (self._file_name_we_opened, ))\n",
    "\n",
    "\n",
    "with tempfile.TemporaryDirectory() as tmpdirname:\n",
    "    fname = tmpdirname + \"/test1234567890.txt\"\n",
    "    my_test = Test(fname)\n",
    "    saved_object = pickle.dumps(my_test)\n",
    "    # Just print the representation of the string of the object,\n",
    "    # because it contains newlines.\n",
    "    print(repr(saved_object))\n",
    "    \n",
    "    # vars = dict containing object's mutable attributes\n",
    "    print(vars(pickle.loads(saved_object)))"
   ]
  },
  {
   "cell_type": "code",
   "execution_count": null,
   "metadata": {},
   "outputs": [],
   "source": []
  }
 ],
 "metadata": {
  "kernelspec": {
   "display_name": "expo",
   "language": "python",
   "name": "python3"
  },
  "language_info": {
   "codemirror_mode": {
    "name": "ipython",
    "version": 3
   },
   "file_extension": ".py",
   "mimetype": "text/x-python",
   "name": "python",
   "nbconvert_exporter": "python",
   "pygments_lexer": "ipython3",
   "version": "3.11.9"
  }
 },
 "nbformat": 4,
 "nbformat_minor": 2
}
