{
 "cells": [
  {
   "cell_type": "markdown",
   "metadata": {},
   "source": [
    "# Fickling\n",
    "\n",
    "https://github.com/trailofbits/fickling/tree/master\n",
    "\n",
    "More examples to explore:\n",
    "\n",
    "https://github.com/trailofbits/fickling/tree/master/example"
   ]
  },
  {
   "cell_type": "code",
   "execution_count": null,
   "metadata": {},
   "outputs": [],
   "source": [
    "!pip install fickling"
   ]
  },
  {
   "cell_type": "code",
   "execution_count": 14,
   "metadata": {},
   "outputs": [],
   "source": [
    "import os\n",
    "import pickle\n",
    "import tempfile\n",
    "from pprint import pprint\n",
    "\n",
    "import fickling\n",
    "\n",
    "fickling.always_check_safety()"
   ]
  },
  {
   "cell_type": "code",
   "execution_count": 54,
   "metadata": {},
   "outputs": [],
   "source": [
    "obj = \"Hello world\"\n",
    "pickled_obj = pickle.dumps(obj)\n",
    "\n",
    "try:\n",
    "    pickle.load(pickled_obj)\n",
    "except fickling.exception.UnsafeFileError as e:\n",
    "    pprint(e.info)"
   ]
  },
  {
   "cell_type": "code",
   "execution_count": null,
   "metadata": {},
   "outputs": [
    {
     "name": "stdout",
     "output_type": "stream",
     "text": [
      "{'analysis': '`from __main__ import SafeClass` imports a Python module that is '\n",
      "             'not a part of the standard library; this can execute arbitrary '\n",
      "             'code and is inherently unsafe\\n'\n",
      "             \"Call to `SafeClass('Hello world')` can execute arbitrary code \"\n",
      "             'and is inherently unsafe\\n'\n",
      "             \"Variable `_var0` is assigned value `SafeClass('Hello world')` \"\n",
      "             'but unused afterward; this is suspicious and indicative of a '\n",
      "             'malicious pickle file',\n",
      " 'detailed_results': {'AnalysisResult': {'NonStandardImports': 'from __main__ '\n",
      "                                                               'import '\n",
      "                                                               'SafeClass',\n",
      "                                         'OvertlyBadEval': \"SafeClass('Hello \"\n",
      "                                                           \"world')\",\n",
      "                                         'UnusedVariables': ('_var0',\n",
      "                                                             \"SafeClass('Hello \"\n",
      "                                                             \"world')\")}},\n",
      " 'severity': 'LIKELY_UNSAFE'}\n"
     ]
    }
   ],
   "source": [
    "class SafeClass:\n",
    "    def __init__(self, value):\n",
    "        self.value = value\n",
    "\n",
    "    def __reduce__(self):\n",
    "        return (self.__class__, (self.value,))\n",
    "\n",
    "obj = SafeClass(\"Hello world\")\n",
    "pickled_obj = pickle.dumps(obj)\n",
    "\n",
    "try:\n",
    "    pickle.load(pickled_obj)\n",
    "except fickling.exception.UnsafeFileError as e:\n",
    "    pprint(e.info)"
   ]
  },
  {
   "cell_type": "code",
   "execution_count": 59,
   "metadata": {},
   "outputs": [
    {
     "name": "stdout",
     "output_type": "stream",
     "text": [
      "{'analysis': '`from posix import system` is suspicious and indicative of an '\n",
      "             'overtly malicious pickle file\\n'\n",
      "             'Variable `_var0` is assigned value `system(...)` but unused '\n",
      "             'afterward; this is suspicious and indicative of a malicious '\n",
      "             'pickle file',\n",
      " 'detailed_results': {'AnalysisResult': {'UnsafeImports': 'from posix import '\n",
      "                                                          'system',\n",
      "                                         'UnusedVariables': ('_var0',\n",
      "                                                             'system(...)')}},\n",
      " 'severity': 'LIKELY_OVERTLY_MALICIOUS'}\n"
     ]
    }
   ],
   "source": [
    "class UnsafeClass:\n",
    "    def __init__(self):\n",
    "        self.cmd = \"echo 'This could be a malicious script'\"\n",
    "\n",
    "    def __reduce__(self):\n",
    "        return (os.system, (self.cmd,))\n",
    "\n",
    "obj = UnsafeClass()\n",
    "pickled_obj = pickle.dumps(obj)\n",
    "\n",
    "try:\n",
    "    pickle.load(pickled_obj)\n",
    "except fickling.exception.UnsafeFileError as e:\n",
    "    pprint(e.info)"
   ]
  },
  {
   "cell_type": "code",
   "execution_count": 60,
   "metadata": {},
   "outputs": [],
   "source": [
    "with tempfile.NamedTemporaryFile(delete=False) as temp_file:\n",
    "    pickle.dump(obj, temp_file)"
   ]
  },
  {
   "cell_type": "code",
   "execution_count": 61,
   "metadata": {},
   "outputs": [
    {
     "data": {
      "text/plain": [
       "256"
      ]
     },
     "execution_count": 61,
     "metadata": {},
     "output_type": "execute_result"
    }
   ],
   "source": [
    "os.system(f\"fickling --check-safety {temp_file.name}\")\n",
    "# 0 = safe\n",
    "# 256, 512 = unsafe"
   ]
  },
  {
   "cell_type": "code",
   "execution_count": null,
   "metadata": {},
   "outputs": [
    {
     "name": "stdout",
     "output_type": "stream",
     "text": [
      "PROTO\n",
      "FRAME\n",
      "SHORT_BINUNICODE\n",
      "\tPushed 'posix'\n",
      "MEMOIZE\n",
      "\tMemoized 0 -> 'posix'\n",
      "SHORT_BINUNICODE\n",
      "\tPushed 'system'\n",
      "MEMOIZE\n",
      "\tMemoized 1 -> 'system'\n",
      "STACK_GLOBAL\n",
      "\tfrom posix import system\n",
      "\tPopped 'system'\n",
      "\tPopped 'posix'\n",
      "\tPushed system\n",
      "MEMOIZE\n",
      "\tMemoized 2 -> system\n",
      "SHORT_BINUNICODE\n",
      "\tPushed \"echo 'This could be a malicious script'\"\n",
      "MEMOIZE\n",
      "\tMemoized 3 -> \"echo 'This could be a malicious script'\"\n",
      "TUPLE1\n",
      "\tPopped \"echo 'This could be a malicious script'\"\n",
      "\tPushed (\"echo 'This could be a malicious script'\",)\n",
      "MEMOIZE\n",
      "\tMemoized 4 -> (\"echo 'This could be a malicious script'\",)\n",
      "REDUCE\n",
      "\t_var0 = system(\"echo 'This could be a malicious script'\")\n",
      "\tPopped (\"echo 'This could be a malicious script'\",)\n",
      "\tPopped system\n",
      "\tPushed _var0\n",
      "MEMOIZE\n",
      "\tMemoized 5 -> _var0\n",
      "STOP\n",
      "\tresult0 = _var0\n",
      "\tPopped _var0\n",
      "from posix import system\n",
      "_var0 = system(\"echo 'This could be a malicious script'\")\n",
      "result0 = _var0\n"
     ]
    },
    {
     "data": {
      "text/plain": [
       "0"
      ]
     },
     "execution_count": 62,
     "metadata": {},
     "output_type": "execute_result"
    }
   ],
   "source": [
    "os.system(f\"fickling --trace {temp_file.name}\")\n",
    "# Pickle virtual machine opcodes:\n",
    "# https://github.com/Legoclones/pickledoc/blob/main/Opcodes.md"
   ]
  },
  {
   "cell_type": "code",
   "execution_count": null,
   "metadata": {},
   "outputs": [],
   "source": []
  }
 ],
 "metadata": {
  "kernelspec": {
   "display_name": "Python 3",
   "language": "python",
   "name": "python3"
  },
  "language_info": {
   "codemirror_mode": {
    "name": "ipython",
    "version": 3
   },
   "file_extension": ".py",
   "mimetype": "text/x-python",
   "name": "python",
   "nbconvert_exporter": "python",
   "pygments_lexer": "ipython3",
   "version": "3.12.1"
  }
 },
 "nbformat": 4,
 "nbformat_minor": 2
}
