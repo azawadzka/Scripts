{
 "cells": [
  {
   "cell_type": "code",
   "execution_count": null,
   "metadata": {},
   "outputs": [],
   "source": [
    "!python -m pip install redlines"
   ]
  },
  {
   "cell_type": "code",
   "execution_count": 22,
   "metadata": {},
   "outputs": [],
   "source": [
    "# redlines uses difflib.SequenceMatcher\n",
    "\n",
    "from redlines import Redlines\n",
    "from IPython.display import display, Markdown"
   ]
  },
  {
   "cell_type": "code",
   "execution_count": 16,
   "metadata": {},
   "outputs": [],
   "source": [
    "texts = [\n",
    "    \"Requirement already satisfied: typing-extensions in site-packages (from rich-click<2.0.0,>=1.6.1->redlines) (4.11.0)\",\n",
    "    \"Requirement already satisfied: mdurl~=0.1 in site-packages (from markdown-it-py>=2.2.0->rich<14.0.0,>=13.3.5->redlines) (0.1.2)\"\n",
    "]\n",
    "diff = Redlines(*texts)"
   ]
  },
  {
   "cell_type": "code",
   "execution_count": 17,
   "metadata": {},
   "outputs": [
    {
     "data": {
      "text/html": [
       "<pre style=\"white-space:pre;overflow-x:auto;line-height:normal;font-family:Menlo,'DejaVu Sans Mono',consolas,'Courier New',monospace\">Requirement already satisfied: <span style=\"color: #800000; text-decoration-color: #800000; text-decoration: line-through\">typing-extensions </span><span style=\"color: #008000; text-decoration-color: #008000\">mdurl~=0.1 </span>in site-packages (from \n",
       "<span style=\"color: #800000; text-decoration-color: #800000; text-decoration: line-through\">rich-click&lt;2.0.0,&gt;=1.6.1-&gt;redlines</span><span style=\"color: #008000; text-decoration-color: #008000\">markdown-it-py&gt;=2.2.0-&gt;rich&lt;14.0.0,&gt;=13.3.5-&gt;redlines</span>) (<span style=\"color: #800000; text-decoration-color: #800000; text-decoration: line-through\">4.11.0</span><span style=\"color: #008000; text-decoration-color: #008000\">0.1.2</span>)\n",
       "</pre>\n"
      ],
      "text/plain": [
       "Requirement already satisfied: \u001b[9;31mtyping-extensions \u001b[0m\u001b[32mmdurl~=0.1 \u001b[0min site-packages (from \n",
       "\u001b[9;31mrich-click<2.0.0,>=1.6.1->redlines\u001b[0m\u001b[32mmarkdown-it-py>=2.2.0->rich<14.0.0,>=13.3.5->redlines\u001b[0m) (\u001b[9;31m4.11.0\u001b[0m\u001b[32m0.1.2\u001b[0m)\n"
      ]
     },
     "execution_count": 17,
     "metadata": {},
     "output_type": "execute_result"
    }
   ],
   "source": [
    "diff.output_rich"
   ]
  },
  {
   "cell_type": "code",
   "execution_count": 18,
   "metadata": {},
   "outputs": [
    {
     "data": {
      "text/markdown": [
       "Requirement already satisfied: <span style='color:red;font-weight:700;text-decoration:line-through;'>typing-extensions </span><span style='color:green;font-weight:700;'>mdurl~=0.1 </span>in site-packages (from <span style='color:red;font-weight:700;text-decoration:line-through;'>rich-click<2.0.0,>=1.6.1->redlines</span><span style='color:green;font-weight:700;'>markdown-it-py>=2.2.0->rich<14.0.0,>=13.3.5->redlines</span>) (<span style='color:red;font-weight:700;text-decoration:line-through;'>4.11.0</span><span style='color:green;font-weight:700;'>0.1.2</span>)"
      ],
      "text/plain": [
       "<IPython.core.display.Markdown object>"
      ]
     },
     "metadata": {},
     "output_type": "display_data"
    }
   ],
   "source": [
    "display(Markdown(diff.output_markdown))"
   ]
  },
  {
   "cell_type": "code",
   "execution_count": 21,
   "metadata": {},
   "outputs": [
    {
     "name": "stdout",
     "output_type": "stream",
     "text": [
      "                                                                                \n",
      "                       \u001b[1;31m--__--\u001b[0m \u001b[1mRedlines CLI\u001b[0m \u001b[35mv0.4.2\u001b[0m \u001b[1;31m--__--\u001b[0m                        \n",
      "                                                                                \n",
      "                 \u001b[2m➡️ Showing differences in text in the terminal⬅️\u001b[0m                 \n",
      "                                  \u001b[2m \u001b[0m\u001b[1;2m🏠 \u001b[0m\u001b]8;id=193877;https://github.com/houfu/redlines\u001b\\\u001b[1;2mHomepage\u001b[0m\u001b]8;;\u001b\\                                  \n",
      "                                                                                \n",
      "                                                                                \n",
      "                                                                                \n",
      "╭─ redline ────────────────────────────────────────────────────────────────────╮\n",
      "│ Requirement already satisfied: \u001b[9;31mtyping-extensions \u001b[0m\u001b[32mmdurl~=0.1 \u001b[0min site-packages │\n",
      "│ (from                                                                        │\n",
      "│ \u001b[9;31mrich-click<2.0.0,>=1.6.1->redlines\u001b[0m\u001b[32mmarkdown-it-py>=2.2.0->rich<14.0.0,>=13.3.\u001b[0m │\n",
      "│ \u001b[32m5->redlines\u001b[0m) (\u001b[9;31m4.11.0\u001b[0m\u001b[32m0.1.2\u001b[0m)                                                   │\n",
      "│                                                                              │\n",
      "│                                                                              │\n",
      "╰──────────────────────────────────────────────────────────────────────────────╯\n",
      "╭─ Source ─────────────────────────────╮╭─ Test ───────────────────────────────╮\n",
      "│ Requirement already satisfied:       ││ Requirement already satisfied:       │\n",
      "│ typing-extensions in site-packages   ││ mdurl~=0.1 in site-packages (from    │\n",
      "│ (from                                ││ markdown-it-py>=2.2.0->rich<14.0.0,> │\n",
      "│ rich-click<2.0.0,>=1.6.1->redlines)  ││ =13.3.5->redlines) (0.1.2)           │\n",
      "│ (4.11.0)                             ││                                      │\n",
      "│                                      ││                                      │\n",
      "╰──────────────────────────────────────╯╰──────────────────────────────────────╯\n"
     ]
    }
   ],
   "source": [
    "!redlines text \"Requirement already satisfied: typing-extensions in site-packages (from rich-click<2.0.0,>=1.6.1->redlines) (4.11.0)\" \"Requirement already satisfied: mdurl~=0.1 in site-packages (from markdown-it-py>=2.2.0->rich<14.0.0,>=13.3.5->redlines) (0.1.2)\""
   ]
  },
  {
   "cell_type": "code",
   "execution_count": null,
   "metadata": {},
   "outputs": [],
   "source": []
  }
 ],
 "metadata": {
  "kernelspec": {
   "display_name": "Python 3",
   "language": "python",
   "name": "python3"
  },
  "language_info": {
   "codemirror_mode": {
    "name": "ipython",
    "version": 3
   },
   "file_extension": ".py",
   "mimetype": "text/x-python",
   "name": "python",
   "nbconvert_exporter": "python",
   "pygments_lexer": "ipython3",
   "version": "3.10.14"
  },
  "orig_nbformat": 4,
  "vscode": {
   "interpreter": {
    "hash": "31f2aee4e71d21fbe5cf8b01ff0e069b9275f58929596ceb00d14d90e3e16cd6"
   }
  }
 },
 "nbformat": 4,
 "nbformat_minor": 2
}
