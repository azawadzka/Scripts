{
 "cells": [
  {
   "cell_type": "code",
   "execution_count": null,
   "metadata": {},
   "outputs": [],
   "source": [
    "!pip install ics"
   ]
  },
  {
   "cell_type": "code",
   "execution_count": 385,
   "metadata": {},
   "outputs": [],
   "source": [
    "from ics import Calendar, Event\n",
    "c = Calendar()\n",
    "e = Event()\n",
    "e.name = \"My cool event\"\n",
    "e.begin = '2014-01-01 00:00:00'\n",
    "c.events.add(e)\n",
    "c.events # [<Event 'My cool event' begin:2014-01-01 00:00:00 end:2014-01-01 00:00:01>]\n",
    "with open('data/ignored/my.ics', 'w') as my_file:\n",
    "    my_file.writelines(c.serialize_iter())"
   ]
  },
  {
   "cell_type": "markdown",
   "metadata": {},
   "source": [
    "## Create calendar from PDF table"
   ]
  },
  {
   "cell_type": "code",
   "execution_count": 384,
   "metadata": {},
   "outputs": [],
   "source": [
    "# From PDF\n",
    "from unstructured.partition.auto import partition\n",
    "\n",
    "path = \"/Users/az/Downloads/raport.pdf\"\n",
    "elements = partition(filename=path)\n",
    "with open(\"data/ignored/raport/raport_unstructured_raw.txt\", \"w\") as fh:\n",
    "    for e in elements:\n",
    "        fh.write(str(e) + \"\\n\")"
   ]
  },
  {
   "cell_type": "code",
   "execution_count": 299,
   "metadata": {},
   "outputs": [],
   "source": [
    "with open(\"data/ignored/raport/ed/raport_unstructured_raw.txt\", \"r\") as fh:\n",
    "    content = fh.readlines()\n",
    "    content = [x.strip() for x in content if x.strip() and x.strip() not in [\"RPS\"]]\n",
    "    content = [x.replace(\"ONLINE\", \"|ONLINE\")\n",
    "               .replace(\"WSS\", \"|WSS\")\n",
    "               .replace(\"FB_3\", \"|FB_3\")\n",
    "               .replace(\"USK\", \"|USK\")\n",
    "               .replace(\"Rad_2_nr_4\", \"|Rad_2_nr_4\")\n",
    "               .replace(\"CSM_116_P\", \"|CSM_116_P\")\n",
    "               .replace(\"Rad_9_nr_2\", \"|Rad_9_nr_2\")\n",
    "               .replace(\"FB_5\", \"|FB_5\")\n",
    "               for x in content]\n",
    "\n",
    "new_content = []\n",
    "for c in content:\n",
    "    new_content.extend(c.split(\"|\"))\n",
    "new_content = [x.strip() for x in new_content if x.strip()]\n",
    "\n",
    "with open(\"data/ignored/raport/raport_unstructured_for_manual_clean.txt\", \"w\") as fh:\n",
    "    for line in new_content:\n",
    "        fh.write(line + \"\\n\")"
   ]
  },
  {
   "cell_type": "code",
   "execution_count": 351,
   "metadata": {},
   "outputs": [],
   "source": [
    "with open(\"data/ignored/raport/raport_unstructured_for_manual_clean.txt\", \"r\") as fh:\n",
    "    content = fh.readlines()\n",
    "    content = [x.strip() for x in content if x.strip()]"
   ]
  },
  {
   "cell_type": "code",
   "execution_count": 352,
   "metadata": {},
   "outputs": [],
   "source": [
    "from dataclasses import dataclass\n",
    "\n",
    "@dataclass\n",
    "class Day:\n",
    "    day: str\n",
    "\n",
    "    @staticmethod\n",
    "    def is_day(text):\n",
    "        return text.endswith((\"Pon.\", \"Wt.\", \"Śr.\", \"Czw.\", \"Pt.\", \"Sb.\", \"Nd.\"))\n",
    "    \n",
    "@dataclass\n",
    "class Type:\n",
    "    type: str\n",
    "\n",
    "    @staticmethod\n",
    "    def is_type(text):\n",
    "        return text in (\"Sem\", \"Ćwi\", \"Wyk\")\n",
    "\n",
    "@dataclass\n",
    "class Hour:\n",
    "    hour: str\n",
    "\n",
    "@dataclass\n",
    "class Details:\n",
    "    day: Day\n",
    "    type: Type\n",
    "    hour: Hour"
   ]
  },
  {
   "cell_type": "code",
   "execution_count": 353,
   "metadata": {},
   "outputs": [],
   "source": [
    "for i, c in enumerate(content):\n",
    "    if isinstance(c, str) and Day.is_day(c):\n",
    "        content[i] = Day(c)"
   ]
  },
  {
   "cell_type": "code",
   "execution_count": 354,
   "metadata": {},
   "outputs": [],
   "source": [
    "for i, c in enumerate(content):\n",
    "    if isinstance(c, str) and Type.is_type(c):\n",
    "        content[i] = Type(c)\n",
    "        content[i-1] = Hour(content[i-1])"
   ]
  },
  {
   "cell_type": "code",
   "execution_count": 355,
   "metadata": {},
   "outputs": [],
   "source": [
    "# Replace \n",
    "# [\n",
    "#     Day1\n",
    "#     Hour1\n",
    "#     Type1\n",
    "#     Hour2\n",
    "#     Type2\n",
    "# ]\n",
    "# with\n",
    "# [\n",
    "#     Details(Day1, Type1, Hour1)\n",
    "#     Details(Day1, Type2, Hour2)\n",
    "# ]\n",
    "new_content = []\n",
    "last_day = None\n",
    "for i, c in enumerate(content):\n",
    "    if isinstance(c, Day):\n",
    "        last_day = c\n",
    "    elif isinstance(c, Hour):\n",
    "        new_content.append(Details(day=last_day, type=content[i+1], hour=c))\n",
    "    elif isinstance(c, Type):\n",
    "        pass\n",
    "    else:\n",
    "        new_content.append(c)\n",
    "content = new_content"
   ]
  },
  {
   "cell_type": "code",
   "execution_count": null,
   "metadata": {},
   "outputs": [],
   "source": [
    "from itertools import groupby\n",
    "\n",
    "new_content = []\n",
    "for key, group in groupby(content, key=type):        # aggragate content list into groups of (n x Details + 4n x str) x 12 pages\n",
    "    if key == Details:\n",
    "        new_content.append(list(group))              # day, hour, type\n",
    "    else:\n",
    "        length = len(new_content[-1])\n",
    "        items = list(group)\n",
    "        new_content.append(items[:length])           # name\n",
    "        new_content.append(items[length:2*length])   # group\n",
    "        new_content.append(items[2*length:3*length]) # place\n",
    "        new_content.append(items[3*length:])         # teacher\n",
    "content = new_content\n",
    "# content"
   ]
  },
  {
   "cell_type": "code",
   "execution_count": null,
   "metadata": {},
   "outputs": [],
   "source": [
    "# Each batch contains [[details1, details2, ...], [name1, name2, ...], [group1, group2, ...], [place1, place2, ...], [teacher1, teacher2, ...]]\n",
    "batches = [content[start:end] for start, end in zip(range(0, len(content), 5), range(5, len(content), 5))]\n",
    "# slices"
   ]
  },
  {
   "cell_type": "code",
   "execution_count": 377,
   "metadata": {},
   "outputs": [],
   "source": [
    "from datetime import datetime\n",
    "from ics import Calendar, Event\n",
    "\n",
    "strp = \"%d-%m-%Y %H:%M\"\n",
    "\n",
    "@dataclass\n",
    "class Class:\n",
    "    day: str\n",
    "    type: str\n",
    "    hour: str\n",
    "    name: str\n",
    "    group: str\n",
    "    place: str\n",
    "    teacher: str\n",
    "\n",
    "    def __post_init__(self):\n",
    "        try:\n",
    "            self.start_hour, self.end_hour = self.hour.split(\"-\")\n",
    "        except Exception as e:\n",
    "            print(\"ERROR \", self.hour, self.day, e)\n",
    "\n",
    "    def to_event(self):\n",
    "        e = Event()\n",
    "        e.name = f\"{self.name} ({self.group})\"\n",
    "        e.description = f\"Prowadzący: {self.teacher}\\nMiejsce: {self.place}\"\n",
    "        e.begin = datetime.strptime(f\"{self.day.split(' ')[0]} {self.start_hour}\", strp)\n",
    "        e.end = datetime.strptime(f\"{self.day.split(' ')[0]} {self.end_hour}\", strp)\n",
    "        return e"
   ]
  },
  {
   "cell_type": "code",
   "execution_count": 378,
   "metadata": {},
   "outputs": [],
   "source": [
    "classes = []\n",
    "for batch in batches:\n",
    "    for a, b, c, d, e in zip(*batch):\n",
    "        classes.append(Class(day=a.day.day, type=a.type.type, hour=a.hour.hour, name=b, group=c, place=d, teacher=e))\n",
    "# classes"
   ]
  },
  {
   "cell_type": "code",
   "execution_count": 379,
   "metadata": {},
   "outputs": [],
   "source": [
    "calendar = Calendar()\n",
    "for c in classes:\n",
    "    calendar.events.add(c.to_event())"
   ]
  },
  {
   "cell_type": "code",
   "execution_count": 380,
   "metadata": {},
   "outputs": [],
   "source": [
    "with open('data/ignored/raport/raport.ics', 'w') as fh:\n",
    "    fh.writelines(calendar.serialize_iter())"
   ]
  },
  {
   "cell_type": "code",
   "execution_count": null,
   "metadata": {},
   "outputs": [],
   "source": []
  }
 ],
 "metadata": {
  "kernelspec": {
   "display_name": "expo",
   "language": "python",
   "name": "python3"
  },
  "language_info": {
   "codemirror_mode": {
    "name": "ipython",
    "version": 3
   },
   "file_extension": ".py",
   "mimetype": "text/x-python",
   "name": "python",
   "nbconvert_exporter": "python",
   "pygments_lexer": "ipython3",
   "version": "3.11.9"
  }
 },
 "nbformat": 4,
 "nbformat_minor": 2
}
