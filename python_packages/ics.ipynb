{
 "cells": [
  {
   "cell_type": "code",
   "execution_count": null,
   "metadata": {},
   "outputs": [],
   "source": [
    "!pip install ics icalendar"
   ]
  },
  {
   "cell_type": "code",
   "execution_count": 245,
   "metadata": {},
   "outputs": [
    {
     "data": {
      "text/plain": [
       "{<Event 'My cool event' begin:2014-01-01T00:00:00+00:00 end:2014-01-01T00:00:00+00:00>}"
      ]
     },
     "execution_count": 245,
     "metadata": {},
     "output_type": "execute_result"
    }
   ],
   "source": [
    "from ics import Calendar, Event\n",
    "# from ics.timezone import UTC, is_utc\n",
    "c = Calendar()\n",
    "e = Event()\n",
    "e.name = \"My cool event\"\n",
    "e.begin = '2014-01-01 00:00:00'\n",
    "c.events.add(e)\n",
    "c.events # [<Event 'My cool event' begin:2014-01-01 00:00:00 end:2014-01-01 00:00:01>]\n",
    "# with open('data/ignored/my.ics', 'w') as my_file:\n",
    "#     my_file.writelines(c.serialize_iter())"
   ]
  },
  {
   "cell_type": "code",
   "execution_count": 250,
   "metadata": {},
   "outputs": [
    {
     "data": {
      "text/plain": [
       "b'BEGIN:VCALENDAR\\r\\nBEGIN:VEVENT\\r\\nSUMMARY:My cool event\\r\\nDTSTART:20240101T110000Z\\r\\nDTEND:20240101T120000Z\\r\\nEND:VEVENT\\r\\nEND:VCALENDAR\\r\\n'"
      ]
     },
     "execution_count": 250,
     "metadata": {},
     "output_type": "execute_result"
    }
   ],
   "source": [
    "import icalendar\n",
    "cal = icalendar.Calendar()\n",
    "cal[\"\"]\n",
    "event = icalendar.Event()\n",
    "event.add('summary', \"My cool event\")\n",
    "event.add('dtstart', datetime.strptime(\"01-01-2024 12:00\", strp).astimezone(timezone.utc))\n",
    "event.add('dtend', datetime.strptime(\"01-01-2024 13:00\", strp).astimezone(timezone.utc))\n",
    "# event.add('dtstamp', module.closing_time)\n",
    "# event['uid'] = \"module/\" + str(module.id) + \"/A+\"\n",
    "cal.add_component(event)\n",
    "cal.to_ical()\n"
   ]
  },
  {
   "cell_type": "markdown",
   "metadata": {},
   "source": [
    "## Create calendar from PDF table"
   ]
  },
  {
   "cell_type": "code",
   "execution_count": 155,
   "metadata": {},
   "outputs": [],
   "source": [
    "from pathlib import Path\n",
    "base_path = Path(\"/Users/az/Documents/repos/Scripts/python_packages/data/ignored/raport3/\")\n",
    "i = 3\n",
    "src_path = base_path / f\"plan {i}.pdf\"\n",
    "raw_path = base_path / f\"raport{i}_raw.txt\"\n",
    "man_path = base_path / f\"raport{i}_manual_review.txt\"\n",
    "tgt_path = base_path / f\"raport.ics\""
   ]
  },
  {
   "cell_type": "code",
   "execution_count": 142,
   "metadata": {},
   "outputs": [],
   "source": [
    "# From PDF\n",
    "from unstructured.partition.auto import partition\n",
    "\n",
    "elements = partition(filename=str(src_path))\n",
    "\n",
    "with open(raw_path, \"w\") as fh:\n",
    "    for e in elements:\n",
    "        fh.write(str(e) + \"\\n\")"
   ]
  },
  {
   "cell_type": "code",
   "execution_count": 86,
   "metadata": {},
   "outputs": [],
   "source": [
    "IGONRED_LINES = (\n",
    "    \"RPS\", \"data/blok\", \"rodz.\", \"kierunek: Lekarski\", \"przedmiot\", \"PLAN ZAJĘĆ\", \"tryb. stac.\", \"rodzaj\", \"grupa\", \"wybór\", \"sala\", \"prowadzący\", \"Data Wydruku\", \"Koniec grupy\", \"SJM\",\n",
    ")\n",
    "\n",
    "with open(raw_path, \"r\") as fh:\n",
    "    content = fh.readlines()\n",
    "    content = [x.strip() for x in content if x.strip() and not x.strip().startswith(IGONRED_LINES)]\n",
    "    rok_id = content.index(\"rok\")\n",
    "    del content[rok_id:rok_id+4 + 1]\n",
    "    content = [x.replace(\"ONLINE\", \"|ONLINE\")\n",
    "               .replace(\"WSS\", \"|WSS\")\n",
    "               .replace(\"FB_3\", \"|FB_3\")\n",
    "               .replace(\"USK\", \"|USK\")\n",
    "               .replace(\"Rad_2_nr_4\", \"|Rad_2_nr_4\")\n",
    "               .replace(\"CSM_116_P\", \"|CSM_116_P\")\n",
    "               .replace(\"Rad_9_nr_2\", \"|Rad_9_nr_2\")\n",
    "               .replace(\"FB_5\", \"|FB_5\")\n",
    "               for x in content]\n",
    "\n",
    "new_content = []\n",
    "for c in content:\n",
    "    new_content.extend(c.split(\"|\"))\n",
    "new_content = [x.strip() for x in new_content if x.strip()]\n",
    "\n",
    "with open(man_path, \"w\") as fh:\n",
    "    for line in new_content:\n",
    "        fh.write(line + \"\\n\")"
   ]
  },
  {
   "cell_type": "code",
   "execution_count": 143,
   "metadata": {},
   "outputs": [],
   "source": [
    "with open(man_path, \"r\") as fh:\n",
    "    content = fh.readlines()\n",
    "    content = [x.strip() for x in content if x.strip()]"
   ]
  },
  {
   "cell_type": "code",
   "execution_count": 87,
   "metadata": {},
   "outputs": [],
   "source": [
    "from dataclasses import dataclass\n",
    "\n",
    "@dataclass\n",
    "class Day:\n",
    "    day: str\n",
    "\n",
    "    @staticmethod\n",
    "    def is_day(text):\n",
    "        return text.endswith((\"Pon.\", \"Wt.\", \"Śr.\", \"Czw.\", \"Pt.\", \"Sb.\", \"Nd.\"))\n",
    "    \n",
    "@dataclass\n",
    "class Type:\n",
    "    type: str\n",
    "\n",
    "    @staticmethod\n",
    "    def is_type(text):\n",
    "        return text in (\"Sem\", \"Ćwi\", \"Wyk\")\n",
    "\n",
    "@dataclass\n",
    "class Hour:\n",
    "    hour: str\n",
    "\n",
    "@dataclass\n",
    "class Details:\n",
    "    day: Day\n",
    "    type: Type\n",
    "    hour: Hour"
   ]
  },
  {
   "cell_type": "code",
   "execution_count": 144,
   "metadata": {},
   "outputs": [],
   "source": [
    "for i, c in enumerate(content):\n",
    "    if isinstance(c, str) and Day.is_day(c):\n",
    "        content[i] = Day(c)"
   ]
  },
  {
   "cell_type": "code",
   "execution_count": 145,
   "metadata": {},
   "outputs": [],
   "source": [
    "for i, c in enumerate(content):\n",
    "    if isinstance(c, str) and Type.is_type(c):\n",
    "        content[i] = Type(c)\n",
    "        content[i-1] = Hour(content[i-1])"
   ]
  },
  {
   "cell_type": "code",
   "execution_count": 146,
   "metadata": {},
   "outputs": [],
   "source": [
    "# Replace \n",
    "# [\n",
    "#     Day1\n",
    "#     Hour1\n",
    "#     Type1\n",
    "#     Hour2\n",
    "#     Type2\n",
    "# ]\n",
    "# with\n",
    "# [\n",
    "#     Details(Day1, Type1, Hour1)\n",
    "#     Details(Day1, Type2, Hour2)\n",
    "# ]\n",
    "new_content = []\n",
    "last_day = None\n",
    "for i, c in enumerate(content):\n",
    "    if isinstance(c, Day):\n",
    "        last_day = c\n",
    "    elif isinstance(c, Hour):\n",
    "        new_content.append(Details(day=last_day, type=content[i+1], hour=c))\n",
    "    elif isinstance(c, Type):\n",
    "        pass\n",
    "    else:\n",
    "        new_content.append(c)\n",
    "content = new_content"
   ]
  },
  {
   "cell_type": "code",
   "execution_count": 147,
   "metadata": {},
   "outputs": [],
   "source": [
    "from itertools import groupby\n",
    "\n",
    "new_content = []\n",
    "for key, group in groupby(content, key=type):        # aggragate content list into groups of (n x Details + 4n x str) x 12 pages\n",
    "    if key == Details:\n",
    "        new_content.append(list(group))              # day, hour, type\n",
    "    else:\n",
    "        length = len(new_content[-1])\n",
    "        items = list(group)\n",
    "        assert len(items) == 4 * length, f\"Expected 4 x {length}, got {len(items)}, last day: {new_content[-1][-1]}\"\n",
    "        new_content.append(items[:length])           # name\n",
    "        new_content.append(items[length:2*length])   # group\n",
    "        new_content.append(items[2*length:3*length]) # place\n",
    "        new_content.append(items[3*length:])         # teacher\n",
    "content = new_content\n",
    "# content"
   ]
  },
  {
   "cell_type": "code",
   "execution_count": 148,
   "metadata": {},
   "outputs": [],
   "source": [
    "# Each batch contains [[details1, details2, ...], [name1, name2, ...], [group1, group2, ...], [place1, place2, ...], [teacher1, teacher2, ...]]\n",
    "n = 5\n",
    "batches = [content[start:end] for start, end in zip(range(0, len(content), n), range(n, len(content) + n, n))]\n",
    "# batches"
   ]
  },
  {
   "cell_type": "code",
   "execution_count": 149,
   "metadata": {},
   "outputs": [],
   "source": [
    "from __future__ import annotations\n",
    "\n",
    "import pytz\n",
    "from datetime import datetime, timezone\n",
    "from ics import Calendar, Event\n",
    "\n",
    "strp = \"%d-%m-%Y %H:%M\"\n",
    "\n",
    "@dataclass\n",
    "class Class:\n",
    "    day: str\n",
    "    type: str\n",
    "    hour: str\n",
    "    name: str\n",
    "    group: str\n",
    "    place: str\n",
    "    teacher: str\n",
    "\n",
    "    def __post_init__(self):\n",
    "        self.day = self.day.split(' ')[0]\n",
    "        try:\n",
    "            start_hour, end_hour = self.hour.split(\"-\")\n",
    "            tz = pytz.timezone('Europe/Warsaw')\n",
    "            self.start_hour = datetime.strptime(f\"{self.day} {start_hour}\", strp).astimezone(timezone.utc)\n",
    "            self.end_hour = datetime.strptime(f\"{self.day} {end_hour}\", strp).astimezone(timezone.utc)\n",
    "        except Exception as e:\n",
    "            print(\"ERROR \", self.hour, self.day, e)\n",
    "\n",
    "    def matches_on_time_and_group(self, other: Class) -> bool:\n",
    "        return self.day == other.day and self.hour == other.hour and self.group == other.group\n",
    "\n",
    "    def to_event(self):\n",
    "        e = Event()\n",
    "        e.name = f\"{self.name} ({self.group})\"\n",
    "        e.description = f\"Prowadzący: {self.teacher}\\nMiejsce: {self.place}\"\n",
    "        e.begin = self.start_hour\n",
    "        e.end = self.end_hour\n",
    "        return e"
   ]
  },
  {
   "cell_type": "code",
   "execution_count": 150,
   "metadata": {},
   "outputs": [],
   "source": [
    "classes = []\n",
    "for batch in batches:\n",
    "    for a, b, c, d, e in zip(*batch):\n",
    "        classes.append(Class(day=a.day.day, type=a.type.type, hour=a.hour.hour, name=b, group=c, place=d, teacher=e))\n",
    "# classes"
   ]
  },
  {
   "cell_type": "code",
   "execution_count": 151,
   "metadata": {},
   "outputs": [],
   "source": [
    "# Remove duplicated entries on page division\n",
    "new_classes = [classes[0]]\n",
    "for c in classes[1:]:\n",
    "    prev_c = new_classes[-1]\n",
    "    if c.matches_on_time_and_group(prev_c):\n",
    "        # print(f\"Joined classes:\\n{prev_c}\\n{c}\\n\")\n",
    "        if c.place != prev_c.place:\n",
    "            new_classes[-1].place = f\"{prev_c.place} {c.place}\"\n",
    "        if c.name != prev_c.name:\n",
    "            new_classes[-1].name = f\"{prev_c.name} {c.name}\"\n",
    "    else:\n",
    "        new_classes.append(c)\n",
    "classes = new_classes"
   ]
  },
  {
   "cell_type": "code",
   "execution_count": 152,
   "metadata": {},
   "outputs": [],
   "source": [
    "calendar = Calendar()"
   ]
  },
  {
   "cell_type": "code",
   "execution_count": 153,
   "metadata": {},
   "outputs": [],
   "source": [
    "for c in classes:\n",
    "    calendar.events.add(c.to_event())"
   ]
  },
  {
   "cell_type": "code",
   "execution_count": 154,
   "metadata": {},
   "outputs": [],
   "source": [
    "with open(tgt_path, 'w') as fh:\n",
    "    fh.writelines(calendar.serialize_iter())"
   ]
  },
  {
   "cell_type": "code",
   "execution_count": null,
   "metadata": {},
   "outputs": [],
   "source": []
  }
 ],
 "metadata": {
  "kernelspec": {
   "display_name": "expo",
   "language": "python",
   "name": "python3"
  },
  "language_info": {
   "codemirror_mode": {
    "name": "ipython",
    "version": 3
   },
   "file_extension": ".py",
   "mimetype": "text/x-python",
   "name": "python",
   "nbconvert_exporter": "python",
   "pygments_lexer": "ipython3",
   "version": "3.11.9"
  }
 },
 "nbformat": 4,
 "nbformat_minor": 2
}
