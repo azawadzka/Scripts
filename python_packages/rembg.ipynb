{
 "cells": [
  {
   "cell_type": "markdown",
   "metadata": {},
   "source": [
    "https://pypi.org/project/rembg/\n",
    "\n",
    "u2net https://github.com/xuebinqin/U-2-Net"
   ]
  },
  {
   "cell_type": "code",
   "execution_count": null,
   "metadata": {},
   "outputs": [],
   "source": [
    "!pip install rembg"
   ]
  },
  {
   "cell_type": "code",
   "execution_count": 1,
   "metadata": {},
   "outputs": [],
   "source": [
    "from rembg import remove\n",
    "from PIL import Image"
   ]
  },
  {
   "cell_type": "code",
   "execution_count": 3,
   "metadata": {},
   "outputs": [
    {
     "name": "stderr",
     "output_type": "stream",
     "text": [
      "Downloading data from 'https://github.com/danielgatis/rembg/releases/download/v0.0.0/u2net.onnx' to file '/Users/az/.u2net/u2net.onnx'.\n",
      "100%|████████████████████████████████████████| 176M/176M [00:00<00:00, 165GB/s]\n"
     ]
    }
   ],
   "source": [
    "input = Image.open('data/flower.png')\n",
    "output = remove(input)\n",
    "output.save('data/flower_nobg.png')"
   ]
  },
  {
   "cell_type": "markdown",
   "metadata": {},
   "source": [
    "<img src=\"data/flower.png\" width=200>\n",
    "<img src=\"data/flower_nobg.png\" width=200>"
   ]
  },
  {
   "cell_type": "markdown",
   "metadata": {},
   "source": [
    "U2net architecture:\n",
    "\n",
    "<img src=\"https://github.com/xuebinqin/U-2-Net/raw/master/figures/U2NETPR.png\" width=400>\n",
    "\n",
    "Architecture Overview (perplexity.ai)\n",
    "\n",
    "1. Nested U-Structure: The architecture is characterized by its nested U-shaped design, which consists of multiple encoder and decoder blocks. This structure allows the network to extract features at various scales while maintaining high resolution.\n",
    "2. ReSidual U-Blocks (RSU): U2-Net employs a novel building block called the ReSidual U-block. These blocks are responsible for capturing intra-stage multi-scale features without degrading the resolution of the feature maps. Each RSU block combines elements of U-Net and residual learning, enhancing the model's ability to learn complex representations.\n",
    "3. Encoder-Decoder Configuration: The architecture includes six encoder blocks and five decoder blocks. The encoder blocks (En_1 to En_6) progressively downsample the input while extracting features, whereas the decoder blocks (De_1 to De_5) upsample the feature maps and concatenate them with corresponding encoder outputs to refine the segmentation.\n",
    "4. Saliency Fusion Module: A saliency fusion module is integrated into the decoder blocks to generate the final saliency map, effectively combining information from different stages of the network."
   ]
  }
 ],
 "metadata": {
  "kernelspec": {
   "display_name": "exp",
   "language": "python",
   "name": "python3"
  },
  "language_info": {
   "codemirror_mode": {
    "name": "ipython",
    "version": 3
   },
   "file_extension": ".py",
   "mimetype": "text/x-python",
   "name": "python",
   "nbconvert_exporter": "python",
   "pygments_lexer": "ipython3",
   "version": "3.10.14"
  }
 },
 "nbformat": 4,
 "nbformat_minor": 2
}
