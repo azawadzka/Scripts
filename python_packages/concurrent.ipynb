{
 "cells": [
  {
   "cell_type": "markdown",
   "metadata": {},
   "source": [
    "- `ThreadPoolExecutor` (I/O-bound) and `ProcessPoolExecutor` (CPU-bound tasks)\n",
    "- `Future` object represents the execution of the callable\n",
    "- Error Handling - if the callable raises an exception, it can be caught when calling `result()` on the `Future` oject"
   ]
  },
  {
   "cell_type": "markdown",
   "metadata": {},
   "source": [
    "https://realpython.com/python-gil/\n",
    "\n",
    "Global Interpreter Lock (GIL)\n",
    "- problem for **threads**\n",
    "- not a problem for **processes** - each has their own GIL and memory space\n",
    "- CPython implementation\n",
    "- mutex - prevents deadlocks (as there is only one lock)\n",
    "- only one thread holds the control of the Python interpreter\n",
    "- allows for easier **integration with C libraries** (need for b-compatibility) that are not thread-safe, but this comes at the cost of limiting parallelism in multi-threaded applications\n",
    "- effectively makes any CPU-bound Python program single-threaded\n",
    "- problems source: reference counting `sys.getrefcount(a)`\n",
    "- much impact on performance of **CPU-bound** programs, not much on I/O-bound\n",
    "- acquire and release **overheads** added by the lock\n",
    "- currently no better solutions that would not decrease the performace of single-threaded programs\n",
    "- **starvation of I/O threads problem** \n",
    "    - in mixed I/O and CPU programs GIL can starve I/O-bound threads by creating a situation where they are unable to reacquire the GIL promptly due to the intensity of CPU-bound threads that reacquire for themselves immediately\n",
    "    - added checking for chcking other threads\n",
    "    - https://dabeaz.blogspot.com/2010/01/python-gil-visualized.html\n",
    "\n",
    "Workarounds:\n",
    "- multiprocessing - `multiprocessing` module creates separate processes that each have their own GIL and memory space\n",
    "    - multiple processes are heavier than multiple threads, so, keep in mind that this could become a scaling bottleneck.\n",
    "- Python implementations that do not have a GIL, such as Jython or IronPython (may lack compatibility)\n",
    "\n",
    "Further reading: https://www.youtube.com/watch?v=Obt-vMVdM8s"
   ]
  },
  {
   "cell_type": "code",
   "execution_count": 1,
   "metadata": {},
   "outputs": [],
   "source": [
    "import concurrent.futures\n",
    "import time\n",
    "import random"
   ]
  },
  {
   "cell_type": "code",
   "execution_count": 7,
   "metadata": {},
   "outputs": [],
   "source": [
    "def do_work(seconds):\n",
    "    print(f\"Sleeping for {seconds} seconds\")\n",
    "    time.sleep(seconds)\n",
    "    return f\"Finished sleeping for {seconds} seconds\""
   ]
  },
  {
   "cell_type": "code",
   "execution_count": 8,
   "metadata": {},
   "outputs": [
    {
     "name": "stdout",
     "output_type": "stream",
     "text": [
      "Sleeping for 5 seconds\n",
      "Sleeping for 1 seconds\n",
      "Sleeping for 3 seconds\n",
      "Sleeping for 2 secondsFinished sleeping for 1 seconds\n",
      "\n",
      "Sleeping for 1 secondsFinished sleeping for 3 seconds\n",
      "\n",
      "Sleeping for 2 seconds\n",
      "Finished sleeping for 2 seconds\n",
      "Sleeping for 2 secondsFinished sleeping for 1 seconds\n",
      "\n",
      "Sleeping for 1 secondsFinished sleeping for 5 seconds\n",
      "\n",
      "Sleeping for 3 seconds\n",
      "Finished sleeping for 2 seconds\n",
      "Sleeping for 5 secondsFinished sleeping for 1 seconds\n",
      "\n",
      "Finished sleeping for 2 seconds\n",
      "Finished sleeping for 3 seconds\n",
      "Finished sleeping for 5 seconds\n"
     ]
    }
   ],
   "source": [
    "with concurrent.futures.ThreadPoolExecutor(max_workers=3) as executor:\n",
    "    futures = [executor.submit(do_work, random.randint(1, 5)) for _ in range(10)]\n",
    "    for future in concurrent.futures.as_completed(futures):\n",
    "        print(future.result())"
   ]
  },
  {
   "cell_type": "code",
   "execution_count": null,
   "metadata": {},
   "outputs": [],
   "source": []
  }
 ],
 "metadata": {
  "kernelspec": {
   "display_name": "exp",
   "language": "python",
   "name": "python3"
  },
  "language_info": {
   "codemirror_mode": {
    "name": "ipython",
    "version": 3
   },
   "file_extension": ".py",
   "mimetype": "text/x-python",
   "name": "python",
   "nbconvert_exporter": "python",
   "pygments_lexer": "ipython3",
   "version": "3.10.14"
  }
 },
 "nbformat": 4,
 "nbformat_minor": 2
}
