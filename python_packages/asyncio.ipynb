{
 "cells": [
  {
   "cell_type": "markdown",
   "metadata": {},
   "source": [
    "https://jxnl.github.io/instructor/blog/2023/11/13/learn-async/"
   ]
  },
  {
   "cell_type": "markdown",
   "metadata": {},
   "source": [
    "`OpenAI()` vs. `AsyncOpenAI()`"
   ]
  },
  {
   "cell_type": "code",
   "execution_count": 12,
   "metadata": {},
   "outputs": [],
   "source": [
    "import asyncio"
   ]
  },
  {
   "cell_type": "code",
   "execution_count": 2,
   "metadata": {},
   "outputs": [],
   "source": [
    "import instructor\n",
    "from pydantic import BaseModel\n",
    "from openai import AsyncOpenAI\n",
    "\n",
    "# Enables `response_model` in `create` method\n",
    "client = instructor.patch(AsyncOpenAI())  \n",
    "\n",
    "\n",
    "class Person(BaseModel):\n",
    "    name: str\n",
    "    age: int\n",
    "\n",
    "\n",
    "async def extract_person(text: str) -> Person:\n",
    "    return await client.chat.completions.create(  \n",
    "        model=\"gpt-3.5-turbo\",\n",
    "        messages=[\n",
    "            {\"role\": \"user\", \"content\": text},\n",
    "        ],\n",
    "        response_model=Person,\n",
    "    )"
   ]
  },
  {
   "cell_type": "code",
   "execution_count": 3,
   "metadata": {},
   "outputs": [],
   "source": [
    "dataset = [\n",
    "    \"My name is John and I am 20 years old\",\n",
    "    \"My name is Mary and I am 21 years old\",\n",
    "    \"My name is Bob and I am 22 years old\",\n",
    "    \"My name is Alice and I am 23 years old\",\n",
    "    \"My name is Jane and I am 24 years old\",\n",
    "    \"My name is Joe and I am 25 years old\",\n",
    "    \"My name is Jill and I am 26 years old\",\n",
    "]"
   ]
  },
  {
   "cell_type": "code",
   "execution_count": 15,
   "metadata": {},
   "outputs": [],
   "source": [
    "# When all tasks completed\n",
    "# Result order guaranteed, execution order not\n",
    "async def gather(dataset):\n",
    "    tasks_get_persons = [extract_person(text) for text in dataset]\n",
    "    all_persons = await asyncio.gather(*tasks_get_persons)\n",
    "    return all_persons "
   ]
  },
  {
   "cell_type": "code",
   "execution_count": 8,
   "metadata": {},
   "outputs": [],
   "source": [
    "# When ready, streaming\n",
    "# Result order not guaranteed\n",
    "# For large datasets\n",
    "async def as_completed(dataset):\n",
    "    all_persons = []\n",
    "    tasks_get_persons = [extract_person(text) for text in dataset]\n",
    "    for person in asyncio.as_completed(tasks_get_persons):\n",
    "        all_persons.append(await person)\n",
    "    return all_persons\n",
    "\n",
    "# persons = await as_completed(dataset)"
   ]
  },
  {
   "cell_type": "code",
   "execution_count": 16,
   "metadata": {},
   "outputs": [],
   "source": [
    "# Semaphores \n",
    "# (PW EiTI dr Kruk <3)\n",
    "# Same for as_completed\n",
    "\n",
    "sem = asyncio.Semaphore(2)\n",
    "\n",
    "\n",
    "async def rate_limited_extract_person(text: str, sem: asyncio.Semaphore) -> Person:\n",
    "    async with sem:  \n",
    "        return await extract_person(text)\n",
    "\n",
    "\n",
    "async def rate_limited_gather(dataset: list[str], sem: asyncio.Semaphore):\n",
    "    tasks_get_persons = [rate_limited_extract_person(text, sem) for text in dataset]\n",
    "    return await asyncio.gather(*tasks_get_persons)"
   ]
  },
  {
   "cell_type": "markdown",
   "metadata": {},
   "source": [
    "![](data/asyncio_times.png)"
   ]
  },
  {
   "cell_type": "code",
   "execution_count": null,
   "metadata": {},
   "outputs": [],
   "source": []
  }
 ],
 "metadata": {
  "kernelspec": {
   "display_name": "exp",
   "language": "python",
   "name": "python3"
  },
  "language_info": {
   "codemirror_mode": {
    "name": "ipython",
    "version": 3
   },
   "file_extension": ".py",
   "mimetype": "text/x-python",
   "name": "python",
   "nbconvert_exporter": "python",
   "pygments_lexer": "ipython3",
   "version": "3.10.14"
  }
 },
 "nbformat": 4,
 "nbformat_minor": 2
}
