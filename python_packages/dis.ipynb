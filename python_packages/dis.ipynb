{
 "cells": [
  {
   "cell_type": "markdown",
   "metadata": {},
   "source": [
    "`dis.dis()` - disassemble classes, methods, functions, and other **compiled** objects.\n",
    "\n",
    "Compiled objects:\n",
    "- modules\n",
    "- functions\n",
    "- classes\n",
    "- expressions\n",
    "- statements\n",
    "\n",
    "Uncompiled objects (do not get compiled into the bytecode):\n",
    "- primitives\n",
    "- collections\n",
    "- comments\n",
    "- docstrings\n",
    "- whitespaces\n",
    "- annotations (type and function)"
   ]
  },
  {
   "cell_type": "markdown",
   "metadata": {},
   "source": [
    "https://unpyc.sourceforge.net/Opcodes.html\n",
    "\n",
    "TODO:\n",
    "\n",
    "https://medium.com/tenable-techblog/remapping-python-opcodes-67d79586bfd5\n"
   ]
  },
  {
   "cell_type": "code",
   "execution_count": null,
   "metadata": {},
   "outputs": [],
   "source": [
    "import dis"
   ]
  },
  {
   "cell_type": "code",
   "execution_count": null,
   "metadata": {},
   "outputs": [
    {
     "name": "stdout",
     "output_type": "stream",
     "text": [
      "  1           0 RESUME                   0\n",
      "\n",
      "  2           2 LOAD_FAST                0 (a)\n",
      "              4 LOAD_FAST                1 (b)\n",
      "              6 BINARY_OP                0 (+)\n",
      "             10 RETURN_VALUE\n"
     ]
    }
   ],
   "source": [
    "def my_function(a, b):\n",
    "    return a + b\n",
    "\n",
    "dis.dis(my_function)"
   ]
  },
  {
   "cell_type": "code",
   "execution_count": 26,
   "metadata": {},
   "outputs": [
    {
     "name": "stdout",
     "output_type": "stream",
     "text": [
      "  1           0 RESUME                   0\n",
      "\n",
      "  2           2 LOAD_FAST                0 (l)\n",
      "              4 LOAD_ATTR                1 (NULL|self + append)\n",
      "             24 LOAD_CONST               1 (1)\n",
      "             26 CALL                     1\n",
      "             34 RETURN_VALUE\n"
     ]
    }
   ],
   "source": [
    "def my_function(l):\n",
    "    return l.append(1)\n",
    "\n",
    "dis.dis(my_function)"
   ]
  },
  {
   "cell_type": "code",
   "execution_count": 24,
   "metadata": {},
   "outputs": [
    {
     "name": "stdout",
     "output_type": "stream",
     "text": [
      "  1           0 RESUME                   0\n",
      "\n",
      "  2           2 LOAD_FAST                0 (i)\n",
      "              4 LOAD_CONST               1 (1)\n",
      "              6 COMPARE_OP              40 (==)\n",
      "             10 POP_JUMP_IF_FALSE        2 (to 16)\n",
      "\n",
      "  3          12 LOAD_FAST                0 (i)\n",
      "             14 RETURN_VALUE\n",
      "\n",
      "  4     >>   16 LOAD_FAST                0 (i)\n",
      "             18 LOAD_GLOBAL              1 (NULL + my_function)\n",
      "             28 LOAD_FAST                0 (i)\n",
      "             30 LOAD_CONST               1 (1)\n",
      "             32 BINARY_OP               10 (-)\n",
      "             36 CALL                     1\n",
      "             44 BINARY_OP                0 (+)\n",
      "             48 RETURN_VALUE\n"
     ]
    }
   ],
   "source": [
    "def my_function(i):\n",
    "    if i == 1:\n",
    "        return i\n",
    "    return i + my_function(i - 1)\n",
    "\n",
    "dis.dis(my_function)"
   ]
  },
  {
   "cell_type": "code",
   "execution_count": 31,
   "metadata": {},
   "outputs": [
    {
     "name": "stdout",
     "output_type": "stream",
     "text": [
      "  1           0 RESUME                   0\n",
      "\n",
      "  2           2 BUILD_LIST               0\n",
      "              4 STORE_FAST               1 (res)\n",
      "\n",
      "  3           6 LOAD_FAST                0 (n)\n",
      "              8 GET_ITER\n",
      "        >>   10 FOR_ITER                22 (to 58)\n",
      "             14 STORE_FAST               2 (x)\n",
      "\n",
      "  4          16 LOAD_FAST                0 (n)\n",
      "             18 LOAD_ATTR                1 (NULL|self + append)\n",
      "             38 LOAD_FAST                2 (x)\n",
      "             40 LOAD_CONST               1 (2)\n",
      "             42 BINARY_OP                5 (*)\n",
      "             46 CALL                     1\n",
      "             54 POP_TOP\n",
      "             56 JUMP_BACKWARD           24 (to 10)\n",
      "\n",
      "  3     >>   58 END_FOR\n",
      "             60 RETURN_CONST             0 (None)\n"
     ]
    }
   ],
   "source": [
    "def loop_example(n):\n",
    "    res = []\n",
    "    for x in n:\n",
    "        n.append(x * 2)\n",
    "\n",
    "dis.dis(loop_example)"
   ]
  },
  {
   "cell_type": "code",
   "execution_count": 27,
   "metadata": {},
   "outputs": [
    {
     "name": "stdout",
     "output_type": "stream",
     "text": [
      "  0           0 RESUME                   0\n",
      "\n",
      "  1           2 PUSH_NULL\n",
      "              4 LOAD_NAME                0 (range)\n",
      "              6 LOAD_CONST               0 (10)\n",
      "              8 CALL                     1\n",
      "             16 GET_ITER\n",
      "             18 LOAD_FAST_AND_CLEAR      0 (x)\n",
      "             20 SWAP                     2\n",
      "             22 BUILD_LIST               0\n",
      "             24 SWAP                     2\n",
      "        >>   26 FOR_ITER                 7 (to 44)\n",
      "             30 STORE_FAST               0 (x)\n",
      "             32 LOAD_FAST                0 (x)\n",
      "             34 LOAD_CONST               1 (2)\n",
      "             36 BINARY_OP                5 (*)\n",
      "             40 LIST_APPEND              2\n",
      "             42 JUMP_BACKWARD            9 (to 26)\n",
      "        >>   44 END_FOR\n",
      "             46 SWAP                     2\n",
      "             48 STORE_FAST               0 (x)\n",
      "             50 RETURN_VALUE\n",
      "        >>   52 SWAP                     2\n",
      "             54 POP_TOP\n",
      "             56 SWAP                     2\n",
      "             58 STORE_FAST               0 (x)\n",
      "             60 RERAISE                  0\n",
      "ExceptionTable:\n",
      "  22 to 44 -> 52 [2]\n"
     ]
    }
   ],
   "source": [
    "code = compile('[x * 2 for x in range(10)]', '<string>', 'eval')\n",
    "dis.dis(code)"
   ]
  },
  {
   "cell_type": "code",
   "execution_count": 28,
   "metadata": {},
   "outputs": [
    {
     "name": "stdout",
     "output_type": "stream",
     "text": [
      "  0           0 RESUME                   0\n",
      "\n",
      "  1           2 LOAD_CONST               0 (<code object <genexpr> at 0x719179196f10, file \"<string>\", line 1>)\n",
      "              4 MAKE_FUNCTION            0\n",
      "              6 PUSH_NULL\n",
      "              8 LOAD_NAME                0 (range)\n",
      "             10 LOAD_CONST               1 (10)\n",
      "             12 CALL                     1\n",
      "             20 GET_ITER\n",
      "             22 CALL                     0\n",
      "             30 RETURN_VALUE\n",
      "\n",
      "Disassembly of <code object <genexpr> at 0x719179196f10, file \"<string>\", line 1>:\n",
      "  1           0 RETURN_GENERATOR\n",
      "              2 POP_TOP\n",
      "              4 RESUME                   0\n",
      "              6 LOAD_FAST                0 (.0)\n",
      "        >>    8 FOR_ITER                 9 (to 30)\n",
      "             12 STORE_FAST               1 (x)\n",
      "             14 LOAD_FAST                1 (x)\n",
      "             16 LOAD_CONST               0 (2)\n",
      "             18 BINARY_OP                5 (*)\n",
      "             22 YIELD_VALUE              1\n",
      "             24 RESUME                   1\n",
      "             26 POP_TOP\n",
      "             28 JUMP_BACKWARD           11 (to 8)\n",
      "        >>   30 END_FOR\n",
      "             32 RETURN_CONST             1 (None)\n",
      "        >>   34 CALL_INTRINSIC_1         3 (INTRINSIC_STOPITERATION_ERROR)\n",
      "             36 RERAISE                  1\n",
      "ExceptionTable:\n",
      "  4 to 32 -> 34 [0] lasti\n"
     ]
    }
   ],
   "source": [
    "code = compile('(x * 2 for x in range(10))', '<string>', 'eval')\n",
    "dis.dis(code)"
   ]
  },
  {
   "cell_type": "code",
   "execution_count": null,
   "metadata": {},
   "outputs": [],
   "source": []
  }
 ],
 "metadata": {
  "kernelspec": {
   "display_name": "Python 3",
   "language": "python",
   "name": "python3"
  },
  "language_info": {
   "codemirror_mode": {
    "name": "ipython",
    "version": 3
   },
   "file_extension": ".py",
   "mimetype": "text/x-python",
   "name": "python",
   "nbconvert_exporter": "python",
   "pygments_lexer": "ipython3",
   "version": "3.12.1"
  }
 },
 "nbformat": 4,
 "nbformat_minor": 2
}
