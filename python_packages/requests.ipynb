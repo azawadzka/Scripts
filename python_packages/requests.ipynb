{
 "cells": [
  {
   "cell_type": "markdown",
   "metadata": {},
   "source": [
    "## Cookies\n",
    "- API Interactions\n",
    "- Automated Testing\n",
    "- Web Scraping\n",
    "- Session Management\n",
    "\n",
    "lib `cookielib` is deprecated since Python 3.0 in favor of `http.cookiejar` (low-level) and `requests` (simplified)"
   ]
  },
  {
   "cell_type": "code",
   "execution_count": null,
   "metadata": {},
   "outputs": [],
   "source": [
    "# Automatic cookies with Session\n",
    "\n",
    "import requests\n",
    "\n",
    "login_url = 'https://example.com/login'\n",
    "protected_url = 'https://example.com/protected'\n",
    "payload = {\n",
    "    'username': 'your_username',\n",
    "    'password': 'your_password'\n",
    "}\n",
    "\n",
    "session = requests.Session()\n",
    "response = session.post(login_url, data=payload)\n",
    "\n",
    "if response.status_code == 200:\n",
    "    protected_response = session.get(protected_url)"
   ]
  },
  {
   "cell_type": "code",
   "execution_count": 2,
   "metadata": {},
   "outputs": [],
   "source": [
    "# Manual cookies\n",
    "\n",
    "import requests\n",
    "from requests.cookies import RequestsCookieJar\n",
    "\n",
    "jar = RequestsCookieJar()\n",
    "jar.set('cookie_name', 'cookie_value', domain='example.com', path='/')\n",
    "\n",
    "response = requests.get('https://example.com', cookies=jar)\n",
    "\n",
    "for cookie in response.cookies:\n",
    "    print(cookie.name, cookie.value)\n",
    "\n",
    "if response.status_code == 200:\n",
    "    jar.update(response.cookies)\n",
    "    protected_response = session.get(protected_url, cookies=jar)"
   ]
  },
  {
   "cell_type": "code",
   "execution_count": 6,
   "metadata": {},
   "outputs": [
    {
     "name": "stdout",
     "output_type": "stream",
     "text": [
      "WMF-Last-Access 26-Jan-2025\n",
      "NetworkProbeLimit 0.001\n",
      "WMF-Last-Access-Global 26-Jan-2025\n",
      "GeoIP NL:NH:Amsterdam:52.38:4.90:v4\n"
     ]
    }
   ],
   "source": [
    "response = requests.get('https://www.wikipedia.org/', cookies=jar)\n",
    "\n",
    "for cookie in response.cookies:\n",
    "    print(cookie.name, cookie.value)"
   ]
  },
  {
   "cell_type": "code",
   "execution_count": null,
   "metadata": {},
   "outputs": [],
   "source": []
  }
 ],
 "metadata": {
  "kernelspec": {
   "display_name": "Python 3",
   "language": "python",
   "name": "python3"
  },
  "language_info": {
   "codemirror_mode": {
    "name": "ipython",
    "version": 3
   },
   "file_extension": ".py",
   "mimetype": "text/x-python",
   "name": "python",
   "nbconvert_exporter": "python",
   "pygments_lexer": "ipython3",
   "version": "3.12.1"
  }
 },
 "nbformat": 4,
 "nbformat_minor": 2
}
