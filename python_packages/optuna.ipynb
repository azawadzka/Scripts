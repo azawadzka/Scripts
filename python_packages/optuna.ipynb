{
 "cells": [
  {
   "cell_type": "markdown",
   "metadata": {},
   "source": [
    "https://www.youtube.com/watch?v=H4Fd7wsueZw\n",
    "https://www.youtube.com/watch?v=OBjYJ5UvMQc\n",
    "https://towardsdatascience.com/imdb-reviews-or-8143fe57c825\n",
    "https://www.kaggle.com/datasets/lakshmi25npathi/imdb-dataset-of-50k-movie-reviews"
   ]
  },
  {
   "cell_type": "code",
   "execution_count": null,
   "metadata": {},
   "outputs": [],
   "source": [
    "!pip install mlflow==2.11.1 optuna==4.0.0"
   ]
  },
  {
   "cell_type": "code",
   "execution_count": 1,
   "metadata": {},
   "outputs": [
    {
     "name": "stderr",
     "output_type": "stream",
     "text": [
      "/Users/az/.pyenv/versions/expo/lib/python3.11/site-packages/tqdm/auto.py:21: TqdmWarning: IProgress not found. Please update jupyter and ipywidgets. See https://ipywidgets.readthedocs.io/en/stable/user_install.html\n",
      "  from .autonotebook import tqdm as notebook_tqdm\n"
     ]
    }
   ],
   "source": [
    "import optuna\n",
    "import pandas as pd"
   ]
  },
  {
   "cell_type": "code",
   "execution_count": 2,
   "metadata": {},
   "outputs": [],
   "source": [
    "from sklearn.feature_extraction.text import TfidfVectorizer\n",
    "from sklearn.model_selection import train_test_split\n",
    "\n",
    "dataset = pd.read_csv(\"data/IMDB_Dataset.csv\")[:10_000]\n",
    "vectorizer = TfidfVectorizer(stop_words='english', max_features=5_000)\n",
    "X = vectorizer.fit_transform(dataset[\"review\"])\n",
    "y = dataset[\"sentiment\"].map({\"positive\": 1, \"negative\": 0})\n",
    "X_train, X_test, y_train, y_test = train_test_split(X, y, test_size=0.2, stratify=y, random_state=42)"
   ]
  },
  {
   "cell_type": "code",
   "execution_count": null,
   "metadata": {},
   "outputs": [],
   "source": [
    "import mlflow\n",
    "from sklearn.ensemble import RandomForestClassifier\n",
    "from sklearn.metrics import accuracy_score, precision_score, recall_score,  f1_score\n",
    "\n",
    "\n",
    "def objective(trial):\n",
    "    mlflow.set_experiment(\"ML-RFC-IMDB-Reviews3\")\n",
    "    \n",
    "    with mlflow.start_run():\n",
    "        params = dict(\n",
    "            n_estimators=trial.suggest_int(\"n_estimators\", low=1, high=200),\n",
    "            max_depth=trial.suggest_int(\"max_depth\", low=1, high=16),\n",
    "        )\n",
    "\n",
    "        model = RandomForestClassifier(**params, n_jobs=-1, random_state=42)\n",
    "        model.fit(X_train, y_train)\n",
    "\n",
    "        metrics = {\n",
    "            \"accuracy_train\": accuracy_score(y_train, model.predict(X_train)),\n",
    "            \"accuracy_test\": accuracy_score(y_test, model.predict(X_test)),\n",
    "            \"precision_test\": precision_score(y_test, model.predict(X_test)),\n",
    "            \"recall_test\": recall_score(y_test, model.predict(X_test)),\n",
    "            \"f1_test\": f1_score(y_test, model.predict(X_test)),\n",
    "        }\n",
    "        \n",
    "        mlflow.log_params(params)\n",
    "        mlflow.log_metrics(metrics)\n",
    "        mlflow.sklearn.log_model(\n",
    "            sk_model=model,\n",
    "            input_example=X_train,\n",
    "            artifact_path=\"model\"\n",
    "        )\n",
    "\n",
    "    return metrics[\"f1_test\"]\n",
    "\n",
    "study = optuna.create_study()\n",
    "study.optimize(objective, n_trials=50)\n",
    "\n",
    "study.best_params"
   ]
  },
  {
   "cell_type": "code",
   "execution_count": null,
   "metadata": {},
   "outputs": [],
   "source": [
    "!mlflow server --host 127.0.0.1 --port 8080"
   ]
  },
  {
   "cell_type": "code",
   "execution_count": null,
   "metadata": {},
   "outputs": [],
   "source": []
  }
 ],
 "metadata": {
  "kernelspec": {
   "display_name": "expo",
   "language": "python",
   "name": "python3"
  },
  "language_info": {
   "codemirror_mode": {
    "name": "ipython",
    "version": 3
   },
   "file_extension": ".py",
   "mimetype": "text/x-python",
   "name": "python",
   "nbconvert_exporter": "python",
   "pygments_lexer": "ipython3",
   "version": "3.11.9"
  }
 },
 "nbformat": 4,
 "nbformat_minor": 2
}
