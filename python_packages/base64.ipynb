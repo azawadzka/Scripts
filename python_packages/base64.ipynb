{
 "cells": [
  {
   "cell_type": "markdown",
   "metadata": {},
   "source": [
    "Binary to Text Conversion: Base64 encodes binary data by taking 6 bits at a time and mapping these bits to one of 64 unique ASCII characters. This is because 2^6=64, which allows for a compact representation of binary data using printable characters. \n",
    "\n",
    "Padding `=` characters\n",
    "\n",
    "Increases the size of the data by approximately 33% (3 bytes of binary data are represented as 4 bytes of Base64 text)\n",
    "\n",
    "Applications:\n",
    "- email attachments\n",
    "- data urls\n",
    "- web apis\n",
    "- mild obfuscation"
   ]
  },
  {
   "cell_type": "code",
   "execution_count": null,
   "metadata": {},
   "outputs": [],
   "source": [
    "import base64\n",
    "\n",
    "# Original binary data\n",
    "data = b'Hello, World!'\n",
    "\n",
    "# Encoding the data\n",
    "enc = base64.b64encode(data) # b'SGVsbG8sIFdvcmxkIQ=='\n",
    "enc.decode('utf-8') # 'SGVsbG8sIFdvcmxkIQ==' (non-binary object, str)\n",
    "base64.decodebytes(enc) # b'Hello, World!'\n",
    "base64.decodebytes(enc).decode('utf-8') # 'Hello, World!'"
   ]
  },
  {
   "cell_type": "code",
   "execution_count": 2,
   "metadata": {},
   "outputs": [
    {
     "data": {
      "text/plain": [
       "'iVBORw0KGgoAAAANSUhEUgAAAxoAAAONCAYAAAABIxapAAUWqklEQVR4Aez9V2xk+bbmiS268JbepjeVleVOHXPPPde0ne4eaCRAAkbSSBgI8yAJGgEaAYIGmAdJGD0IGgnyL3qUntWCunt6Zrqnu6f73r7H1jnlsiozKz29Z3gfwdDv+0dGFZNJZpLMIBkk978qkmSY'"
      ]
     },
     "execution_count": 2,
     "metadata": {},
     "output_type": "execute_result"
    }
   ],
   "source": [
    "import base64\n",
    "import httpx\n",
    "\n",
    "# France map\n",
    "image1_url = \"https://upload.wikimedia.org/wikipedia/commons/c/cf/France_and_its_region.png\"\n",
    "image1_data = base64.b64encode(httpx.get(image1_url).content).decode(\"utf-8\")\n",
    "image1_data[:200]"
   ]
  }
 ],
 "metadata": {
  "kernelspec": {
   "display_name": "expo",
   "language": "python",
   "name": "python3"
  },
  "language_info": {
   "codemirror_mode": {
    "name": "ipython",
    "version": 3
   },
   "file_extension": ".py",
   "mimetype": "text/x-python",
   "name": "python",
   "nbconvert_exporter": "python",
   "pygments_lexer": "ipython3",
   "version": "3.11.9"
  }
 },
 "nbformat": 4,
 "nbformat_minor": 2
}
