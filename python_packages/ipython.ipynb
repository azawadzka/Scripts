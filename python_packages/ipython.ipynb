{
 "cells": [
  {
   "cell_type": "markdown",
   "metadata": {},
   "source": [
    "https://ipython.readthedocs.io/en/stable/interactive/magics.html\n",
    "\n",
    "Usage, in line mode:\n",
    "\n",
    "`%timeit [-n<N> -r<R> [-t|-c] -q -p<P> -o] statement`\n",
    "\n",
    "or in cell mode:\n",
    "\n",
    "`%%timeit [-n<N> -r<R> [-t|-c] -q -p<P> -o] setup_code code code…`\n",
    "\n",
    "Options: \n",
    "\n",
    "-nN: execute the given statement N times in a loop. If N is not provided, N is determined so as to get sufficient accuracy.\n",
    "\n",
    "-rR: number of repeats R, each consisting of N loops, and take the average result. Default: 7\n",
    "\n",
    "-t: use time.time to measure the time, which is the default on Unix. This function measures wall time.\n",
    "\n",
    "-c: use time.clock to measure the time, which is the default on Windows and measures wall time. On Unix, resource.getrusage is used instead and returns the CPU user time.\n",
    "\n",
    "-pP: use a precision of P digits to display the timing result. Default: 3\n",
    "\n",
    "-q: Quiet, do not print result.\n",
    "\n",
    "-o: return a TimeitResult that can be stored in a variable to inspect\n",
    "the result in more details."
   ]
  },
  {
   "cell_type": "markdown",
   "metadata": {},
   "source": [
    "`%%html` - displays cell code in HTML\n",
    "\n",
    "`%%writefile filename.html` - saves cell code to file\n",
    "\n",
    "`display(HTML(html))` - renders code result"
   ]
  },
  {
   "cell_type": "code",
   "execution_count": null,
   "metadata": {},
   "outputs": [],
   "source": [
    "!pip install python-dotenv openai"
   ]
  },
  {
   "cell_type": "code",
   "execution_count": 53,
   "metadata": {},
   "outputs": [],
   "source": [
    "from IPython.display import display, HTML, Markdown"
   ]
  },
  {
   "cell_type": "code",
   "execution_count": 63,
   "metadata": {},
   "outputs": [
    {
     "name": "stdout",
     "output_type": "stream",
     "text": [
      "Overwriting data/generated_openai_setup.py\n"
     ]
    }
   ],
   "source": [
    "%%writefile data/generated_openai_setup.py\n",
    "# generated in file ipython.ipynb\n",
    "\n",
    "import os\n",
    "\n",
    "from dotenv import load_dotenv, find_dotenv\n",
    "from openai import OpenAI\n",
    "\n",
    "\n",
    "load_dotenv(find_dotenv())\n",
    "openai_api_key = os.getenv(\"OPENAI_API_KEY\")\n",
    "if not openai_api_key:\n",
    "    raise ValueError(\"OpenAI API key not found. Please set it in the .env file.\")\n",
    "\n",
    "client = OpenAI(api_key=openai_api_key)\n",
    "\n",
    "\n",
    "def openai_request(prompt, system=None, model=\"gpt-3.5-turbo\") -> str:\n",
    "    response = client.chat.completions.create(\n",
    "        model=model,\n",
    "        messages=[\n",
    "            {\"role\": \"system\", \"content\": system or \"You are a helpful assistant.\"},\n",
    "            {\"role\": \"user\", \"content\": prompt}\n",
    "        ]\n",
    "    )\n",
    "    return response.choices[0].message.content.strip()"
   ]
  },
  {
   "cell_type": "code",
   "execution_count": 4,
   "metadata": {},
   "outputs": [],
   "source": [
    "system = \"\"\"\n",
    "You are an assistant that gives information from the book The Three-Body Problem by Cixin Liu. Answer according to the contents of the book.\n",
    "\"\"\"\n",
    "prompt = \"\"\"\n",
    "List all historical figures were present in the game according to the book. \n",
    "\n",
    "Give a short description of their theories on the problem in the plot and their short biograms according to historical facts. \n",
    "\n",
    "Provide the answer in table format.\n",
    "\n",
    "The table should be in HTML code format. Return only the code with no additional text or backticks, not inside code block.\n",
    "\"\"\""
   ]
  },
  {
   "cell_type": "code",
   "execution_count": 32,
   "metadata": {},
   "outputs": [],
   "source": [
    "html = openai_request(prompt=prompt, system=system)"
   ]
  },
  {
   "cell_type": "code",
   "execution_count": 33,
   "metadata": {},
   "outputs": [
    {
     "data": {
      "text/html": [
       "<table>\n",
       "  <tr>\n",
       "    <th>Historical Figure</th>\n",
       "    <th>Theory on the Problem</th>\n",
       "    <th>Biography</th>\n",
       "  </tr>\n",
       "  <tr>\n",
       "    <td>Zeno of Elea</td>\n",
       "    <td>Proposed the idea of the Dichotomy Paradox to demonstrate that motion is an illusion and that all change is an illusion.</td>\n",
       "    <td>One of the pre-Socratic philosophers of ancient Greece, Zeno of Elea was known for his paradoxes that challenged ideas about motion and existence.</td>\n",
       "  </tr>\n",
       "  <tr>\n",
       "    <td>Copernicus</td>\n",
       "    <td>Developed the heliocentric model of the solar system, challenging the geocentric view and proposing that the Earth revolves around the Sun.</td>\n",
       "    <td>Nicolaus Copernicus was a Renaissance mathematician and astronomer known for his revolutionary work \"On the Revolutions of the Celestial Spheres,\" proposing the heliocentric model.</td>\n",
       "  </tr>\n",
       "  <tr>\n",
       "    <td>Galileo</td>\n",
       "    <td>Advocated for the Copernican theory, supporting heliocentrism and the idea of a sun-centered solar system.</td>\n",
       "    <td>Galileo Galilei was an Italian astronomer, physicist, and engineer who played a key role in the Scientific Revolution and is known for his astronomical observations and support for Copernicanism.</td>\n",
       "  </tr>\n",
       "</table>"
      ],
      "text/plain": [
       "<IPython.core.display.HTML object>"
      ]
     },
     "metadata": {},
     "output_type": "display_data"
    }
   ],
   "source": [
    "display(HTML(html))"
   ]
  },
  {
   "cell_type": "code",
   "execution_count": 21,
   "metadata": {},
   "outputs": [
    {
     "data": {
      "text/html": [
       "\n",
       "<table>\n",
       "  <tr>\n",
       "    <th>Historical Figure</th>\n",
       "    <th>Theory in the Plot</th>\n",
       "    <th>Biogram</th>\n",
       "  </tr>\n",
       "  <tr>\n",
       "    <td>Isaac Newton</td>\n",
       "    <td>Attempted to use classical mechanics to predict the movements of the Trisolaran planets but failed due to the complexity of the three-body problem.</td>\n",
       "    <td>Isaac Newton (1643-1727) was an English mathematician, physicist, astronomer, and author. He is widely recognized for his work in classical mechanics, gravitation, and the laws of motion.</td>\n",
       "  </tr>\n",
       "  <tr>\n",
       "    <td>Albert Einstein</td>\n",
       "    <td>Tried to use general relativity to solve the three-body problem but also failed, indicating the limitations of even the most advanced human theories.</td>\n",
       "    <td>Albert Einstein (1879-1955) was a German-born theoretical physicist who developed the theory of relativity, one of the two pillars of modern physics. His work on the photoelectric effect earned him the Nobel Prize in Physics in 1921.</td>\n",
       "  </tr>\n",
       "  <tr>\n",
       "    <td>King Wen of Zhou</td>\n",
       "    <td>Implemented a system of divination to understand the chaotic order of the Trisolaran world, reflecting an early attempt at finding patterns in nature.</td>\n",
       "    <td>King Wen of Zhou (1152-1056 BC) was a ruler of the Zhou dynasty in ancient China. He is credited with the foundation of the Zhou dynasty and the development of the I Ching, an ancient Chinese divination text.</td>\n",
       "  </tr>\n",
       "  <tr>\n",
       "    <td>Mozi</td>\n",
       "    <td>Proposed using giant mirrors to deflect sunlight and stabilize the Trisolaran climate, showing an early understanding of using technology to solve environmental problems.</td>\n",
       "    <td>Mozi (c. 470-391 BC) was a Chinese philosopher during the Hundred Schools of Thought period. He founded the school of Mohism and advocated for universal love, meritocracy, and utilitarianism.</td>\n",
       "  </tr>\n",
       "  <tr>\n",
       "    <td>Copernicus</td>\n",
       "    <td>Suggested a heliocentric model which was quickly discarded due to the instability it would cause in a three-sun system.</td>\n",
       "    <td>Nicolaus Copernicus (1473-1543) was a Renaissance-era mathematician and astronomer who formulated a model of the universe that placed the Sun rather than the Earth at its center.</td>\n",
       "  </tr>\n",
       "  <tr>\n",
       "    <td>Galileo</td>\n",
       "    <td>Used his telescopic observations to provide empirical evidence but ultimately failed to provide a solution to the three-body problem.</td>\n",
       "    <td>Galileo Galilei (1564-1642) was an Italian astronomer, physicist, and engineer. His contributions to observational astronomy include the telescopic confirmation of the phases of Venus and the discovery of the four largest satellites of Jupiter.</td>\n",
       "  </tr>\n",
       "  <tr>\n",
       "    <td>Kepler</td>\n",
       "    <td>Applied his laws of planetary motion, which worked for two bodies but failed for the three-body system of Trisolaris.</td>\n",
       "    <td>Johannes Kepler (1571-1630) was a German mathematician, astronomer, and astrologer. He is best known for his laws of planetary motion, which laid the groundwork for Newton's theory of universal gravitation.</td>\n",
       "  </tr>\n",
       "  <tr>\n",
       "    <td>von Neumann</td>\n",
       "    <td>Attempted to create a computational model to predict Trisolaran movements, but the chaotic nature of the system made accurate prediction impossible.</td>\n",
       "    <td>John von Neumann (1903-1957) was a Hungarian-American mathematician, physicist, computer scientist, and polymath. He made major contributions to many fields, including mathematics, physics, economics, and computing.</td>\n",
       "  </tr>\n",
       "</table>\n"
      ],
      "text/plain": [
       "<IPython.core.display.HTML object>"
      ]
     },
     "metadata": {},
     "output_type": "display_data"
    }
   ],
   "source": [
    "html = \"\"\"\n",
    "<table>\n",
    "  <tr>\n",
    "    <th>Historical Figure</th>\n",
    "    <th>Theory in the Plot</th>\n",
    "    <th>Biogram</th>\n",
    "  </tr>\n",
    "  <tr>\n",
    "    <td>Isaac Newton</td>\n",
    "    <td>Attempted to use classical mechanics to predict the movements of the Trisolaran planets but failed due to the complexity of the three-body problem.</td>\n",
    "    <td>Isaac Newton (1643-1727) was an English mathematician, physicist, astronomer, and author. He is widely recognized for his work in classical mechanics, gravitation, and the laws of motion.</td>\n",
    "  </tr>\n",
    "  <tr>\n",
    "    <td>Albert Einstein</td>\n",
    "    <td>Tried to use general relativity to solve the three-body problem but also failed, indicating the limitations of even the most advanced human theories.</td>\n",
    "    <td>Albert Einstein (1879-1955) was a German-born theoretical physicist who developed the theory of relativity, one of the two pillars of modern physics. His work on the photoelectric effect earned him the Nobel Prize in Physics in 1921.</td>\n",
    "  </tr>\n",
    "  <tr>\n",
    "    <td>King Wen of Zhou</td>\n",
    "    <td>Implemented a system of divination to understand the chaotic order of the Trisolaran world, reflecting an early attempt at finding patterns in nature.</td>\n",
    "    <td>King Wen of Zhou (1152-1056 BC) was a ruler of the Zhou dynasty in ancient China. He is credited with the foundation of the Zhou dynasty and the development of the I Ching, an ancient Chinese divination text.</td>\n",
    "  </tr>\n",
    "  <tr>\n",
    "    <td>Mozi</td>\n",
    "    <td>Proposed using giant mirrors to deflect sunlight and stabilize the Trisolaran climate, showing an early understanding of using technology to solve environmental problems.</td>\n",
    "    <td>Mozi (c. 470-391 BC) was a Chinese philosopher during the Hundred Schools of Thought period. He founded the school of Mohism and advocated for universal love, meritocracy, and utilitarianism.</td>\n",
    "  </tr>\n",
    "  <tr>\n",
    "    <td>Copernicus</td>\n",
    "    <td>Suggested a heliocentric model which was quickly discarded due to the instability it would cause in a three-sun system.</td>\n",
    "    <td>Nicolaus Copernicus (1473-1543) was a Renaissance-era mathematician and astronomer who formulated a model of the universe that placed the Sun rather than the Earth at its center.</td>\n",
    "  </tr>\n",
    "  <tr>\n",
    "    <td>Galileo</td>\n",
    "    <td>Used his telescopic observations to provide empirical evidence but ultimately failed to provide a solution to the three-body problem.</td>\n",
    "    <td>Galileo Galilei (1564-1642) was an Italian astronomer, physicist, and engineer. His contributions to observational astronomy include the telescopic confirmation of the phases of Venus and the discovery of the four largest satellites of Jupiter.</td>\n",
    "  </tr>\n",
    "  <tr>\n",
    "    <td>Kepler</td>\n",
    "    <td>Applied his laws of planetary motion, which worked for two bodies but failed for the three-body system of Trisolaris.</td>\n",
    "    <td>Johannes Kepler (1571-1630) was a German mathematician, astronomer, and astrologer. He is best known for his laws of planetary motion, which laid the groundwork for Newton's theory of universal gravitation.</td>\n",
    "  </tr>\n",
    "  <tr>\n",
    "    <td>von Neumann</td>\n",
    "    <td>Attempted to create a computational model to predict Trisolaran movements, but the chaotic nature of the system made accurate prediction impossible.</td>\n",
    "    <td>John von Neumann (1903-1957) was a Hungarian-American mathematician, physicist, computer scientist, and polymath. He made major contributions to many fields, including mathematics, physics, economics, and computing.</td>\n",
    "  </tr>\n",
    "</table>\n",
    "\"\"\"\n",
    "display(HTML(html))\n"
   ]
  },
  {
   "cell_type": "code",
   "execution_count": 30,
   "metadata": {},
   "outputs": [
    {
     "name": "stdout",
     "output_type": "stream",
     "text": [
      "2.72 s ± 183 ms per loop (mean ± std. dev. of 3 runs, 1 loop each)\n"
     ]
    }
   ],
   "source": [
    "%timeit -r 3 openai_request(prompt=prompt, system=system)"
   ]
  },
  {
   "cell_type": "code",
   "execution_count": 49,
   "metadata": {},
   "outputs": [],
   "source": [
    "%%capture code_result\n",
    "html"
   ]
  },
  {
   "cell_type": "code",
   "execution_count": 50,
   "metadata": {},
   "outputs": [
    {
     "data": {
      "text/plain": [
       "'<table>\\n  <tr>\\n    <th>Historical Figure</th>\\n    <th>Theory on the Problem</th>\\n    <th>Biography</th>\\n  </tr>\\n  <tr>\\n    <td>Zeno of Elea</td>\\n    <td>Proposed the idea of the Dichotomy Paradox to demonstrate that motion is an illusion and that all change is an illusion.</td>\\n    <td>One of the pre-Socratic philosophers of ancient Greece, Zeno of Elea was known for his paradoxes that challenged ideas about motion and existence.</td>\\n  </tr>\\n  <tr>\\n    <td>Copernicus</td>\\n    <td>Developed the heliocentric model of the solar system, challenging the geocentric view and proposing that the Earth revolves around the Sun.</td>\\n    <td>Nicolaus Copernicus was a Renaissance mathematician and astronomer known for his revolutionary work \"On the Revolutions of the Celestial Spheres,\" proposing the heliocentric model.</td>\\n  </tr>\\n  <tr>\\n    <td>Galileo</td>\\n    <td>Advocated for the Copernican theory, supporting heliocentrism and the idea of a sun-centered solar system.</td>\\n    <td>Galileo Galilei was an Italian astronomer, physicist, and engineer who played a key role in the Scientific Revolution and is known for his astronomical observations and support for Copernicanism.</td>\\n  </tr>\\n</table>'"
      ]
     },
     "metadata": {},
     "output_type": "display_data"
    }
   ],
   "source": [
    "code_result.show()"
   ]
  },
  {
   "cell_type": "code",
   "execution_count": 15,
   "metadata": {},
   "outputs": [
    {
     "name": "stdout",
     "output_type": "stream",
     "text": [
      "llama-cloud                              0.0.15\n",
      "llama-index                              0.11.2\n",
      "llama-index-agent-openai                 0.3.0\n",
      "llama-index-cli                          0.3.0\n",
      "llama-index-core                         0.11.2\n",
      "llama-index-embeddings-openai            0.2.3\n",
      "llama-index-indices-managed-llama-cloud  0.3.0\n",
      "llama-index-legacy                       0.9.48.post3\n",
      "llama-index-llms-openai                  0.2.0\n",
      "llama-index-multi-modal-llms-openai      0.2.0\n",
      "llama-index-program-openai               0.2.0\n",
      "llama-index-question-gen-openai          0.2.0\n",
      "llama-index-readers-file                 0.2.0\n",
      "llama-index-readers-llama-parse          0.2.0\n",
      "llama-parse                              0.5.1\n"
     ]
    }
   ],
   "source": [
    "%%script bash  # or %%bash\n",
    "pip list | grep llama"
   ]
  },
  {
   "cell_type": "code",
   "execution_count": 25,
   "metadata": {},
   "outputs": [
    {
     "name": "stdout",
     "output_type": "stream",
     "text": [
      "html\t openai_api_key\t prompt\t system\t \n"
     ]
    }
   ],
   "source": [
    "%who str # active variables"
   ]
  },
  {
   "cell_type": "code",
   "execution_count": 26,
   "metadata": {},
   "outputs": [
    {
     "name": "stdout",
     "output_type": "stream",
     "text": [
      "display\t find_dotenv\t load_dotenv\t openai_request\t \n"
     ]
    }
   ],
   "source": [
    "%who function"
   ]
  },
  {
   "cell_type": "code",
   "execution_count": 37,
   "metadata": {},
   "outputs": [
    {
     "name": "stderr",
     "output_type": "stream",
     "text": [
      "UsageError: Cell magic `%%tb` not found (But line magic `%tb` exists, did you mean that instead?).\n"
     ]
    }
   ],
   "source": [
    "%tb"
   ]
  },
  {
   "cell_type": "markdown",
   "metadata": {},
   "source": [
    "## nbconvert\n",
    "https://nbconvert.readthedocs.io/en/latest/usage.html\n",
    "\n",
    "`!jupyter nbconvert ipython.ipynb --to script `\n",
    "\n",
    "The following formats are available: ['asciidoc', 'custom', 'html', 'latex', 'markdown', 'notebook', 'pdf', 'python', 'qtpdf', 'qtpng', 'rst', 'script', 'slides', 'webpdf']\n",
    "- python - quite inusable, has weird cell delimiters\n",
    "- html - very nice\n",
    "- slides - looks promising but doesn't work, maybe dig deeper https://digitalhumanities.hkust.edu.hk/tutorials/turn-your-jupyter-notebook-into-interactive-presentation-slides-using-anaconda/\n",
    "\n",
    "`jupyter nbconvert --to notebook --execute mynotebook.ipynb` - will open and execute all cells and save to new file,m useful for demos"
   ]
  },
  {
   "cell_type": "code",
   "execution_count": 61,
   "metadata": {},
   "outputs": [
    {
     "name": "stdout",
     "output_type": "stream",
     "text": [
      "[NbConvertApp] Converting notebook ipython.ipynb to slides\n",
      "[NbConvertApp] Writing 300806 bytes to ipython.slides.html\n"
     ]
    }
   ],
   "source": [
    "!jupyter nbconvert ipython.ipynb --to html "
   ]
  }
 ],
 "metadata": {
  "kernelspec": {
   "display_name": "exp",
   "language": "python",
   "name": "python3"
  },
  "language_info": {
   "codemirror_mode": {
    "name": "ipython",
    "version": 3
   },
   "file_extension": ".py",
   "mimetype": "text/x-python",
   "name": "python",
   "nbconvert_exporter": "python",
   "pygments_lexer": "ipython3",
   "version": "3.10.14"
  }
 },
 "nbformat": 4,
 "nbformat_minor": 2
}
