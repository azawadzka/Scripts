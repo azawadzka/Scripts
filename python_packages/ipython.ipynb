{
 "cells": [
  {
   "cell_type": "code",
   "execution_count": null,
   "metadata": {},
   "outputs": [],
   "source": [
    "!pip install python-dotenv openai"
   ]
  },
  {
   "cell_type": "code",
   "execution_count": 1,
   "metadata": {},
   "outputs": [],
   "source": [
    "import os\n",
    "from dotenv import load_dotenv, find_dotenv\n",
    "from IPython.display import display, HTML, Markdown\n",
    "\n",
    "from openai import OpenAI"
   ]
  },
  {
   "cell_type": "code",
   "execution_count": 2,
   "metadata": {},
   "outputs": [],
   "source": [
    "load_dotenv(find_dotenv())\n",
    "\n",
    "openai_api_key = os.getenv(\"OPENAI_API_KEY\")\n",
    "if not openai_api_key:\n",
    "    raise ValueError(\"OpenAI API key not found. Please set it in the .env file.\")\n",
    "\n",
    "client = OpenAI(api_key=openai_api_key)"
   ]
  },
  {
   "cell_type": "code",
   "execution_count": 7,
   "metadata": {},
   "outputs": [],
   "source": [
    "def openai_request(prompt, system=None, model=\"gpt-3.5-turbo\"):\n",
    "    response = client.chat.completions.create(\n",
    "        model=model,\n",
    "        messages=[\n",
    "            {\"role\": \"system\", \"content\": system or \"You are a helpful assistant.\"},\n",
    "            {\"role\": \"user\", \"content\": prompt}\n",
    "        ]\n",
    "    )\n",
    "    return response.choices[0].message.content.strip()"
   ]
  },
  {
   "cell_type": "code",
   "execution_count": null,
   "metadata": {},
   "outputs": [],
   "source": [
    "system = \"\"\"\n",
    "You are an assistant that gives information from the book The Three-Body Problem by Cixin Liu. Answer according to the contents of the book.\n",
    "\"\"\"\n",
    "prompt = \"\"\"\n",
    "List all historical figures were present in the game according to the book. \n",
    "\n",
    "Give a short description of their theories on the problem in the plot and their short biograms according to historical facts. \n",
    "\n",
    "Provide the answer in table format.\n",
    "\n",
    "The table should be in HTML code format. Return only the code with no additional text or backticks, not inside code block.\n",
    "\"\"\"\n",
    "html = openai_request(prompt=prompt, system=system)\n",
    "display(HTML(html))"
   ]
  },
  {
   "cell_type": "code",
   "execution_count": 21,
   "metadata": {},
   "outputs": [
    {
     "data": {
      "text/html": [
       "\n",
       "<table>\n",
       "  <tr>\n",
       "    <th>Historical Figure</th>\n",
       "    <th>Theory in the Plot</th>\n",
       "    <th>Biogram</th>\n",
       "  </tr>\n",
       "  <tr>\n",
       "    <td>Isaac Newton</td>\n",
       "    <td>Attempted to use classical mechanics to predict the movements of the Trisolaran planets but failed due to the complexity of the three-body problem.</td>\n",
       "    <td>Isaac Newton (1643-1727) was an English mathematician, physicist, astronomer, and author. He is widely recognized for his work in classical mechanics, gravitation, and the laws of motion.</td>\n",
       "  </tr>\n",
       "  <tr>\n",
       "    <td>Albert Einstein</td>\n",
       "    <td>Tried to use general relativity to solve the three-body problem but also failed, indicating the limitations of even the most advanced human theories.</td>\n",
       "    <td>Albert Einstein (1879-1955) was a German-born theoretical physicist who developed the theory of relativity, one of the two pillars of modern physics. His work on the photoelectric effect earned him the Nobel Prize in Physics in 1921.</td>\n",
       "  </tr>\n",
       "  <tr>\n",
       "    <td>King Wen of Zhou</td>\n",
       "    <td>Implemented a system of divination to understand the chaotic order of the Trisolaran world, reflecting an early attempt at finding patterns in nature.</td>\n",
       "    <td>King Wen of Zhou (1152-1056 BC) was a ruler of the Zhou dynasty in ancient China. He is credited with the foundation of the Zhou dynasty and the development of the I Ching, an ancient Chinese divination text.</td>\n",
       "  </tr>\n",
       "  <tr>\n",
       "    <td>Mozi</td>\n",
       "    <td>Proposed using giant mirrors to deflect sunlight and stabilize the Trisolaran climate, showing an early understanding of using technology to solve environmental problems.</td>\n",
       "    <td>Mozi (c. 470-391 BC) was a Chinese philosopher during the Hundred Schools of Thought period. He founded the school of Mohism and advocated for universal love, meritocracy, and utilitarianism.</td>\n",
       "  </tr>\n",
       "  <tr>\n",
       "    <td>Copernicus</td>\n",
       "    <td>Suggested a heliocentric model which was quickly discarded due to the instability it would cause in a three-sun system.</td>\n",
       "    <td>Nicolaus Copernicus (1473-1543) was a Renaissance-era mathematician and astronomer who formulated a model of the universe that placed the Sun rather than the Earth at its center.</td>\n",
       "  </tr>\n",
       "  <tr>\n",
       "    <td>Galileo</td>\n",
       "    <td>Used his telescopic observations to provide empirical evidence but ultimately failed to provide a solution to the three-body problem.</td>\n",
       "    <td>Galileo Galilei (1564-1642) was an Italian astronomer, physicist, and engineer. His contributions to observational astronomy include the telescopic confirmation of the phases of Venus and the discovery of the four largest satellites of Jupiter.</td>\n",
       "  </tr>\n",
       "  <tr>\n",
       "    <td>Kepler</td>\n",
       "    <td>Applied his laws of planetary motion, which worked for two bodies but failed for the three-body system of Trisolaris.</td>\n",
       "    <td>Johannes Kepler (1571-1630) was a German mathematician, astronomer, and astrologer. He is best known for his laws of planetary motion, which laid the groundwork for Newton's theory of universal gravitation.</td>\n",
       "  </tr>\n",
       "  <tr>\n",
       "    <td>von Neumann</td>\n",
       "    <td>Attempted to create a computational model to predict Trisolaran movements, but the chaotic nature of the system made accurate prediction impossible.</td>\n",
       "    <td>John von Neumann (1903-1957) was a Hungarian-American mathematician, physicist, computer scientist, and polymath. He made major contributions to many fields, including mathematics, physics, economics, and computing.</td>\n",
       "  </tr>\n",
       "</table>\n"
      ],
      "text/plain": [
       "<IPython.core.display.HTML object>"
      ]
     },
     "metadata": {},
     "output_type": "display_data"
    }
   ],
   "source": [
    "html = \"\"\"\n",
    "<table>\n",
    "  <tr>\n",
    "    <th>Historical Figure</th>\n",
    "    <th>Theory in the Plot</th>\n",
    "    <th>Biogram</th>\n",
    "  </tr>\n",
    "  <tr>\n",
    "    <td>Isaac Newton</td>\n",
    "    <td>Attempted to use classical mechanics to predict the movements of the Trisolaran planets but failed due to the complexity of the three-body problem.</td>\n",
    "    <td>Isaac Newton (1643-1727) was an English mathematician, physicist, astronomer, and author. He is widely recognized for his work in classical mechanics, gravitation, and the laws of motion.</td>\n",
    "  </tr>\n",
    "  <tr>\n",
    "    <td>Albert Einstein</td>\n",
    "    <td>Tried to use general relativity to solve the three-body problem but also failed, indicating the limitations of even the most advanced human theories.</td>\n",
    "    <td>Albert Einstein (1879-1955) was a German-born theoretical physicist who developed the theory of relativity, one of the two pillars of modern physics. His work on the photoelectric effect earned him the Nobel Prize in Physics in 1921.</td>\n",
    "  </tr>\n",
    "  <tr>\n",
    "    <td>King Wen of Zhou</td>\n",
    "    <td>Implemented a system of divination to understand the chaotic order of the Trisolaran world, reflecting an early attempt at finding patterns in nature.</td>\n",
    "    <td>King Wen of Zhou (1152-1056 BC) was a ruler of the Zhou dynasty in ancient China. He is credited with the foundation of the Zhou dynasty and the development of the I Ching, an ancient Chinese divination text.</td>\n",
    "  </tr>\n",
    "  <tr>\n",
    "    <td>Mozi</td>\n",
    "    <td>Proposed using giant mirrors to deflect sunlight and stabilize the Trisolaran climate, showing an early understanding of using technology to solve environmental problems.</td>\n",
    "    <td>Mozi (c. 470-391 BC) was a Chinese philosopher during the Hundred Schools of Thought period. He founded the school of Mohism and advocated for universal love, meritocracy, and utilitarianism.</td>\n",
    "  </tr>\n",
    "  <tr>\n",
    "    <td>Copernicus</td>\n",
    "    <td>Suggested a heliocentric model which was quickly discarded due to the instability it would cause in a three-sun system.</td>\n",
    "    <td>Nicolaus Copernicus (1473-1543) was a Renaissance-era mathematician and astronomer who formulated a model of the universe that placed the Sun rather than the Earth at its center.</td>\n",
    "  </tr>\n",
    "  <tr>\n",
    "    <td>Galileo</td>\n",
    "    <td>Used his telescopic observations to provide empirical evidence but ultimately failed to provide a solution to the three-body problem.</td>\n",
    "    <td>Galileo Galilei (1564-1642) was an Italian astronomer, physicist, and engineer. His contributions to observational astronomy include the telescopic confirmation of the phases of Venus and the discovery of the four largest satellites of Jupiter.</td>\n",
    "  </tr>\n",
    "  <tr>\n",
    "    <td>Kepler</td>\n",
    "    <td>Applied his laws of planetary motion, which worked for two bodies but failed for the three-body system of Trisolaris.</td>\n",
    "    <td>Johannes Kepler (1571-1630) was a German mathematician, astronomer, and astrologer. He is best known for his laws of planetary motion, which laid the groundwork for Newton's theory of universal gravitation.</td>\n",
    "  </tr>\n",
    "  <tr>\n",
    "    <td>von Neumann</td>\n",
    "    <td>Attempted to create a computational model to predict Trisolaran movements, but the chaotic nature of the system made accurate prediction impossible.</td>\n",
    "    <td>John von Neumann (1903-1957) was a Hungarian-American mathematician, physicist, computer scientist, and polymath. He made major contributions to many fields, including mathematics, physics, economics, and computing.</td>\n",
    "  </tr>\n",
    "</table>\n",
    "\"\"\"\n",
    "display(HTML(html))\n"
   ]
  }
 ],
 "metadata": {
  "kernelspec": {
   "display_name": "exp",
   "language": "python",
   "name": "python3"
  },
  "language_info": {
   "codemirror_mode": {
    "name": "ipython",
    "version": 3
   },
   "file_extension": ".py",
   "mimetype": "text/x-python",
   "name": "python",
   "nbconvert_exporter": "python",
   "pygments_lexer": "ipython3",
   "version": "3.10.14"
  }
 },
 "nbformat": 4,
 "nbformat_minor": 2
}
