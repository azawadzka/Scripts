{
 "cells": [
  {
   "cell_type": "markdown",
   "metadata": {},
   "source": [
    "- Integrate asynchronous functionality into existing synchronous workflows without extensive refactoring\n",
    "- `asyncio` does not permit nesting its event loops\n",
    "- Practical Applications: This library is particularly useful in scenarios where synchronous code needs to call asynchronous functions without restructuring the entire codebase. It is commonly used in data science and scientific computing environments where Jupyter notebooks are prevalent\n",
    "- Nesting asynchronous calls can lead to potential issues like deadlocks or starvation if not managed properly\n",
    "- Nested runs will not give time to tasks scheduled outside the nested run. This can potentially leading to starvation if you spend too much time on code inside the nested run.\n",
    "- Doubts if working correctly, NO-NO in production\n",
    "\n",
    "Sources\n",
    "- perplexity.ai\n",
    "- https://medium.com/@salujav4/parsing-pdfs-text-image-and-tables-for-rag-based-applications-using-llamaparse-llamaindex-0f4c5ed50fb7\n",
    "- https://stackoverflow.com/questions/59740704/correct-use-constraints-of-use-of-nest-asyncio"
   ]
  },
  {
   "cell_type": "code",
   "execution_count": 1,
   "metadata": {},
   "outputs": [
    {
     "name": "stdout",
     "output_type": "stream",
     "text": [
      "Requirement already satisfied: nest-asyncio in /Users/az/.pyenv/versions/3.11.9/envs/expo/lib/python3.11/site-packages (1.6.0)\n"
     ]
    }
   ],
   "source": [
    "!pip install nest-asyncio"
   ]
  },
  {
   "cell_type": "code",
   "execution_count": 6,
   "metadata": {},
   "outputs": [
    {
     "ename": "RuntimeError",
     "evalue": "asyncio.run() cannot be called from a running event loop",
     "output_type": "error",
     "traceback": [
      "\u001b[0;31m---------------------------------------------------------------------------\u001b[0m",
      "\u001b[0;31mRuntimeError\u001b[0m                              Traceback (most recent call last)",
      "Cell \u001b[0;32mIn[6], line 20\u001b[0m\n\u001b[1;32m     12\u001b[0m \u001b[38;5;28;01mdef\u001b[39;00m \u001b[38;5;21mmain\u001b[39m():\n\u001b[1;32m     13\u001b[0m     \u001b[38;5;66;03m# Gather multiple async tasks\u001b[39;00m\n\u001b[1;32m     14\u001b[0m     \u001b[38;5;28;01mreturn\u001b[39;00m asyncio\u001b[38;5;241m.\u001b[39mgather(\n\u001b[1;32m     15\u001b[0m         async_task(\u001b[38;5;124m\"\u001b[39m\u001b[38;5;124mA\u001b[39m\u001b[38;5;124m\"\u001b[39m, \u001b[38;5;241m2\u001b[39m),\n\u001b[1;32m     16\u001b[0m         async_task(\u001b[38;5;124m\"\u001b[39m\u001b[38;5;124mB\u001b[39m\u001b[38;5;124m\"\u001b[39m, \u001b[38;5;241m3\u001b[39m),\n\u001b[1;32m     17\u001b[0m         async_task(\u001b[38;5;124m\"\u001b[39m\u001b[38;5;124mC\u001b[39m\u001b[38;5;124m\"\u001b[39m, \u001b[38;5;241m1\u001b[39m)\n\u001b[1;32m     18\u001b[0m     )\n\u001b[0;32m---> 20\u001b[0m \u001b[43mrun_async_tasks\u001b[49m\u001b[43m(\u001b[49m\u001b[43m)\u001b[49m\n",
      "Cell \u001b[0;32mIn[6], line 10\u001b[0m, in \u001b[0;36mrun_async_tasks\u001b[0;34m()\u001b[0m\n\u001b[1;32m      8\u001b[0m \u001b[38;5;28;01mdef\u001b[39;00m \u001b[38;5;21mrun_async_tasks\u001b[39m():\n\u001b[1;32m      9\u001b[0m     \u001b[38;5;66;03m# Create an event loop and run the async tasks\u001b[39;00m\n\u001b[0;32m---> 10\u001b[0m     \u001b[43masyncio\u001b[49m\u001b[38;5;241;43m.\u001b[39;49m\u001b[43mrun\u001b[49m\u001b[43m(\u001b[49m\u001b[43mmain\u001b[49m\u001b[43m(\u001b[49m\u001b[43m)\u001b[49m\u001b[43m)\u001b[49m\n",
      "File \u001b[0;32m~/.pyenv/versions/3.11.9/lib/python3.11/asyncio/runners.py:186\u001b[0m, in \u001b[0;36mrun\u001b[0;34m(main, debug)\u001b[0m\n\u001b[1;32m    161\u001b[0m \u001b[38;5;250m\u001b[39m\u001b[38;5;124;03m\"\"\"Execute the coroutine and return the result.\u001b[39;00m\n\u001b[1;32m    162\u001b[0m \n\u001b[1;32m    163\u001b[0m \u001b[38;5;124;03mThis function runs the passed coroutine, taking care of\u001b[39;00m\n\u001b[0;32m   (...)\u001b[0m\n\u001b[1;32m    182\u001b[0m \u001b[38;5;124;03m    asyncio.run(main())\u001b[39;00m\n\u001b[1;32m    183\u001b[0m \u001b[38;5;124;03m\"\"\"\u001b[39;00m\n\u001b[1;32m    184\u001b[0m \u001b[38;5;28;01mif\u001b[39;00m events\u001b[38;5;241m.\u001b[39m_get_running_loop() \u001b[38;5;129;01mis\u001b[39;00m \u001b[38;5;129;01mnot\u001b[39;00m \u001b[38;5;28;01mNone\u001b[39;00m:\n\u001b[1;32m    185\u001b[0m     \u001b[38;5;66;03m# fail fast with short traceback\u001b[39;00m\n\u001b[0;32m--> 186\u001b[0m     \u001b[38;5;28;01mraise\u001b[39;00m \u001b[38;5;167;01mRuntimeError\u001b[39;00m(\n\u001b[1;32m    187\u001b[0m         \u001b[38;5;124m\"\u001b[39m\u001b[38;5;124masyncio.run() cannot be called from a running event loop\u001b[39m\u001b[38;5;124m\"\u001b[39m)\n\u001b[1;32m    189\u001b[0m \u001b[38;5;28;01mwith\u001b[39;00m Runner(debug\u001b[38;5;241m=\u001b[39mdebug) \u001b[38;5;28;01mas\u001b[39;00m runner:\n\u001b[1;32m    190\u001b[0m     \u001b[38;5;28;01mreturn\u001b[39;00m runner\u001b[38;5;241m.\u001b[39mrun(main)\n",
      "\u001b[0;31mRuntimeError\u001b[0m: asyncio.run() cannot be called from a running event loop"
     ]
    },
    {
     "name": "stdout",
     "output_type": "stream",
     "text": [
      "Task A started.\n",
      "Task B started.\n",
      "Task C started.\n",
      "Task C completed after 1 seconds.\n",
      "Task A completed after 2 seconds.\n",
      "Task B completed after 3 seconds.\n"
     ]
    }
   ],
   "source": [
    "import asyncio\n",
    "\n",
    "async def async_task(name, duration):\n",
    "    print(f\"Task {name} started.\")\n",
    "    await asyncio.sleep(duration)\n",
    "    print(f\"Task {name} completed after {duration} seconds.\")\n",
    "\n",
    "def run_async_tasks():\n",
    "    # Create an event loop and run the async tasks\n",
    "    asyncio.run(main())\n",
    "\n",
    "def main():\n",
    "    # Gather multiple async tasks\n",
    "    return asyncio.gather(\n",
    "        async_task(\"A\", 2),\n",
    "        async_task(\"B\", 3),\n",
    "        async_task(\"C\", 1)\n",
    "    )\n",
    "\n",
    "run_async_tasks()"
   ]
  },
  {
   "cell_type": "code",
   "execution_count": 7,
   "metadata": {},
   "outputs": [
    {
     "name": "stdout",
     "output_type": "stream",
     "text": [
      "Task A started.\n",
      "Task B started.\n",
      "Task C started.\n",
      "Task C completed after 1 seconds.\n",
      "Task A completed after 2 seconds.\n",
      "Task B completed after 3 seconds.\n"
     ]
    }
   ],
   "source": [
    "import nest_asyncio\n",
    "import asyncio\n",
    "nest_asyncio.apply()\n",
    "\n",
    "async def async_task(name, duration):\n",
    "    print(f\"Task {name} started.\")\n",
    "    await asyncio.sleep(duration)\n",
    "    print(f\"Task {name} completed after {duration} seconds.\")\n",
    "\n",
    "def run_async_tasks():\n",
    "    # Create an event loop and run the async tasks\n",
    "    asyncio.run(main())\n",
    "\n",
    "def main():\n",
    "    # Gather multiple async tasks\n",
    "    return asyncio.gather(\n",
    "        async_task(\"A\", 2),\n",
    "        async_task(\"B\", 3),\n",
    "        async_task(\"C\", 1)\n",
    "    )\n",
    "\n",
    "run_async_tasks()"
   ]
  }
 ],
 "metadata": {
  "kernelspec": {
   "display_name": "expo",
   "language": "python",
   "name": "python3"
  },
  "language_info": {
   "codemirror_mode": {
    "name": "ipython",
    "version": 3
   },
   "file_extension": ".py",
   "mimetype": "text/x-python",
   "name": "python",
   "nbconvert_exporter": "python",
   "pygments_lexer": "ipython3",
   "version": "3.11.9"
  }
 },
 "nbformat": 4,
 "nbformat_minor": 2
}
