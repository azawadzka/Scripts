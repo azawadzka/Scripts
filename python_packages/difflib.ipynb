{
 "cells": [
  {
   "cell_type": "code",
   "execution_count": 22,
   "metadata": {},
   "outputs": [],
   "source": [
    "# examples by perplexity ai"
   ]
  },
  {
   "cell_type": "code",
   "execution_count": 1,
   "metadata": {},
   "outputs": [],
   "source": [
    "original_text, modified_text = [\n",
    "    \"Requirement already satisfied: typing-extensions in site-packages (from rich-click<2.0.0,>=1.6.1->redlines) (4.11.0)\",\n",
    "    \"Requirement already satisfied: mdurl~=0.1 in site-packages (from markdown-it-py>=2.2.0->rich<14.0.0,>=13.3.5->redlines) (0.1.2)\"\n",
    "]"
   ]
  },
  {
   "cell_type": "code",
   "execution_count": 2,
   "metadata": {},
   "outputs": [
    {
     "name": "stdout",
     "output_type": "stream",
     "text": [
      "equal   : ['Requirement ', 'already ', 'satisfied: '] -> ['Requirement ', 'already ', 'satisfied: ']\n",
      "replace : ['typing-extensions '] -> ['mdurl~=0.1 ']\n",
      "equal   : ['in ', 'site-packages ', '(', 'from '] -> ['in ', 'site-packages ', '(', 'from ']\n",
      "replace : ['rich-click<2.0.0,>=1.6.1->redlines'] -> ['markdown-it-py>=2.2.0->rich<14.0.0,>=13.3.5->redlines']\n",
      "equal   : [') ', '('] -> [') ', '(']\n",
      "replace : ['4.11.0'] -> ['0.1.2']\n",
      "equal   : [')'] -> [')']\n"
     ]
    }
   ],
   "source": [
    "import re\n",
    "from difflib import Differ, SequenceMatcher\n",
    "\n",
    "tokenizer = re.compile(r\"((?:[^()\\s]+|[().?!-])\\s*)\")\n",
    "\n",
    "def tokenize_text(text):\n",
    "    return re.findall(tokenizer, text)\n",
    "\n",
    "original_tokens = tokenize_text(original_text)\n",
    "modified_tokens = tokenize_text(modified_text)\n",
    "\n",
    "matcher = SequenceMatcher(None, original_tokens, modified_tokens)\n",
    "for tag, i1, i2, j1, j2 in matcher.get_opcodes():\n",
    "    print(f\"{tag:8}: {original_tokens[i1:i2]} -> {modified_tokens[j1:j2]}\")"
   ]
  },
  {
   "cell_type": "code",
   "execution_count": 3,
   "metadata": {},
   "outputs": [
    {
     "data": {
      "text/plain": [
       "['  Requirement',\n",
       " '  already',\n",
       " '  satisfied:',\n",
       " '- typing-extensions',\n",
       " '+ mdurl~=0.1',\n",
       " '  in',\n",
       " '  site-packages',\n",
       " '  (from',\n",
       " '- rich-click<2.0.0,>=1.6.1->redlines)',\n",
       " '- (4.11.0)',\n",
       " '+ markdown-it-py>=2.2.0->rich<14.0.0,>=13.3.5->redlines)',\n",
       " '+ (0.1.2)']"
      ]
     },
     "execution_count": 3,
     "metadata": {},
     "output_type": "execute_result"
    }
   ],
   "source": [
    "d = Differ()\n",
    "comp = d.compare(\n",
    "    original_text.split(' '),  # default goes by char; .splitlines(keepends=True) \n",
    "    modified_text.split(' ')\n",
    ")\n",
    "list(comp)\n",
    "\n",
    "# difflib.ndiff(original_text.split(' '), modified_text.split(' ')) # same"
   ]
  },
  {
   "cell_type": "code",
   "execution_count": 4,
   "metadata": {},
   "outputs": [
    {
     "name": "stdout",
     "output_type": "stream",
     "text": [
      "0.8695652173913043\n",
      "0.2\n"
     ]
    }
   ],
   "source": [
    "from difflib import SequenceMatcher\n",
    "\n",
    "def similarity(a, b):\n",
    "    return SequenceMatcher(None, a, b).ratio()  # 2.0 * matches / total; .quick_ratio(), .real_quick_ratio() (upper bound)\n",
    "\n",
    "print(similarity(\"hello world\", \"yellow world\"))\n",
    "print(similarity(\"pear\", \"banana\"))"
   ]
  },
  {
   "cell_type": "code",
   "execution_count": 5,
   "metadata": {},
   "outputs": [
    {
     "name": "stdout",
     "output_type": "stream",
     "text": [
      "--- old_version\n",
      "+++ new_version\n",
      "@@ -1,2 +1,2 @@\n",
      " def greet(name):\n",
      "-    print('Hello, ' + name)\n",
      "+    print(f'Hello, {name}!')\n",
      "\n"
     ]
    }
   ],
   "source": [
    "# unified_diff = patch\n",
    "\n",
    "import difflib\n",
    "\n",
    "def generate_patch(old_version, new_version):\n",
    "    diff = difflib.unified_diff(old_version.splitlines(keepends=True),\n",
    "                                new_version.splitlines(keepends=True),\n",
    "                                fromfile='old_version', tofile='new_version')\n",
    "    return ''.join(diff)\n",
    "\n",
    "old_code = \"def greet(name):\\n    print('Hello, ' + name)\\n\"\n",
    "new_code = \"def greet(name):\\n    print(f'Hello, {name}!')\\n\"\n",
    "\n",
    "patch = generate_patch(old_code, new_code)\n",
    "print(patch)"
   ]
  },
  {
   "cell_type": "code",
   "execution_count": null,
   "metadata": {},
   "outputs": [],
   "source": []
  }
 ],
 "metadata": {
  "kernelspec": {
   "display_name": "exp",
   "language": "python",
   "name": "python3"
  },
  "language_info": {
   "codemirror_mode": {
    "name": "ipython",
    "version": 3
   },
   "file_extension": ".py",
   "mimetype": "text/x-python",
   "name": "python",
   "nbconvert_exporter": "python",
   "pygments_lexer": "ipython3",
   "version": "3.10.14"
  }
 },
 "nbformat": 4,
 "nbformat_minor": 2
}
