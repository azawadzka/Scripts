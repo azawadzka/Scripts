{
 "cells": [
  {
   "cell_type": "code",
   "execution_count": 5,
   "metadata": {},
   "outputs": [
    {
     "name": "stdout",
     "output_type": "stream",
     "text": [
      "Read model, allocate resources in context world\n",
      "Inside the context\n",
      "Release resources in context world\n"
     ]
    }
   ],
   "source": [
    "from contextlib import contextmanager, asynccontextmanager\n",
    "\n",
    "@contextmanager\n",
    "def lifespan(var):\n",
    "    print(f\"Read model, allocate resources in context {var}\")\n",
    "    yield\n",
    "    print(f\"Release resources in context {var}\")\n",
    "\n",
    "with lifespan(\"world\"):\n",
    "    print(\"Inside the context\")"
   ]
  }
 ],
 "metadata": {
  "kernelspec": {
   "display_name": "expo",
   "language": "python",
   "name": "python3"
  },
  "language_info": {
   "codemirror_mode": {
    "name": "ipython",
    "version": 3
   },
   "file_extension": ".py",
   "mimetype": "text/x-python",
   "name": "python",
   "nbconvert_exporter": "python",
   "pygments_lexer": "ipython3",
   "version": "3.11.9"
  }
 },
 "nbformat": 4,
 "nbformat_minor": 2
}
