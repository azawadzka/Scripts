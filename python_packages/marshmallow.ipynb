{
 "cells": [
  {
   "cell_type": "markdown",
   "metadata": {},
   "source": [
    "Outdated in favor of pydantic.\n",
    "\n",
    "Used frequently in django and flask apps."
   ]
  },
  {
   "cell_type": "code",
   "execution_count": 1,
   "metadata": {},
   "outputs": [
    {
     "name": "stdout",
     "output_type": "stream",
     "text": [
      "Requirement already satisfied: marshmallow in /usr/local/python/3.12.1/lib/python3.12/site-packages (3.26.1)\n",
      "Requirement already satisfied: packaging>=17.0 in /home/codespace/.local/lib/python3.12/site-packages (from marshmallow) (24.2)\n",
      "\n",
      "\u001b[1m[\u001b[0m\u001b[34;49mnotice\u001b[0m\u001b[1;39;49m]\u001b[0m\u001b[39;49m A new release of pip is available: \u001b[0m\u001b[31;49m24.3.1\u001b[0m\u001b[39;49m -> \u001b[0m\u001b[32;49m25.0.1\u001b[0m\n",
      "\u001b[1m[\u001b[0m\u001b[34;49mnotice\u001b[0m\u001b[1;39;49m]\u001b[0m\u001b[39;49m To update, run: \u001b[0m\u001b[32;49mpython3 -m pip install --upgrade pip\u001b[0m\n"
     ]
    }
   ],
   "source": [
    "!pip install marshmallow"
   ]
  },
  {
   "cell_type": "code",
   "execution_count": 6,
   "metadata": {},
   "outputs": [
    {
     "name": "stdout",
     "output_type": "stream",
     "text": [
      "{'name': ['Not a valid string.'], 'age': ['Age must be at least 18.']}\n"
     ]
    }
   ],
   "source": [
    "from marshmallow import Schema, fields, validates, ValidationError\n",
    "\n",
    "class UserSchema(Schema):\n",
    "    name = fields.Str(required=True)\n",
    "    age = fields.Int(required=True)\n",
    "\n",
    "    @validates('age')\n",
    "    def validate_age(self, value):\n",
    "        if value < 18:\n",
    "            raise ValidationError('Age must be at least 18.')\n",
    "\n",
    "user_data = {\"name\": True, \"age\": 16}\n",
    "\n",
    "try:\n",
    "    result = UserSchema().load(user_data)\n",
    "except ValidationError as err:\n",
    "    print(err.messages)  # {'age': ['Age must be at least 18.']}"
   ]
  },
  {
   "cell_type": "code",
   "execution_count": null,
   "metadata": {},
   "outputs": [],
   "source": []
  }
 ],
 "metadata": {
  "kernelspec": {
   "display_name": "Python 3",
   "language": "python",
   "name": "python3"
  },
  "language_info": {
   "codemirror_mode": {
    "name": "ipython",
    "version": 3
   },
   "file_extension": ".py",
   "mimetype": "text/x-python",
   "name": "python",
   "nbconvert_exporter": "python",
   "pygments_lexer": "ipython3",
   "version": "3.12.1"
  }
 },
 "nbformat": 4,
 "nbformat_minor": 2
}
