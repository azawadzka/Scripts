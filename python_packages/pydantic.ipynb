{
 "cells": [
  {
   "cell_type": "code",
   "execution_count": null,
   "metadata": {},
   "outputs": [],
   "source": [
    "!pip install pydantic==2.9.2"
   ]
  },
  {
   "cell_type": "markdown",
   "metadata": {},
   "source": [
    "## Validators"
   ]
  },
  {
   "cell_type": "code",
   "execution_count": 4,
   "metadata": {},
   "outputs": [
    {
     "name": "stdout",
     "output_type": "stream",
     "text": [
      "1 validation error for UserModel\n",
      "role\n",
      "  Value error, Role must be one of {'guest', 'admin', 'user'} [type=value_error, input_value='manager', input_type=str]\n",
      "    For further information visit https://errors.pydantic.dev/2.10/v/value_error\n"
     ]
    }
   ],
   "source": [
    "from pydantic import BaseModel, field_validator, ValidationError\n",
    "\n",
    "class UserModel(BaseModel):\n",
    "    name: str\n",
    "    role: str\n",
    "\n",
    "    @field_validator('role')\n",
    "    def validate_role(cls, value):\n",
    "        allowed_roles = {'admin', 'user', 'guest'}\n",
    "        if value not in allowed_roles:\n",
    "            raise ValueError(f'Role must be one of {allowed_roles}')\n",
    "        return value\n",
    "\n",
    "# Example usage\n",
    "try:\n",
    "    user = UserModel(name='John Doe', role='manager')\n",
    "except ValidationError as e:\n",
    "    print(e)  # Output: Role must be one of {'admin', 'user', 'guest'}"
   ]
  },
  {
   "cell_type": "code",
   "execution_count": 13,
   "metadata": {},
   "outputs": [
    {
     "name": "stdout",
     "output_type": "stream",
     "text": [
      "1 validation error for UserModel\n",
      "  Value error, Admin role cannot be assigned to users under 18 [type=value_error, input_value={'name': 'John Doe', 'age': 17, 'role': 'admin'}, input_type=dict]\n",
      "    For further information visit https://errors.pydantic.dev/2.10/v/value_error\n"
     ]
    }
   ],
   "source": [
    "from pydantic import BaseModel, model_validator, ValidationError\n",
    "\n",
    "class UserModel(BaseModel):\n",
    "    name: str\n",
    "    age: int\n",
    "    role: str\n",
    "\n",
    "    @model_validator(mode='after')\n",
    "    def validate_model(cls, values):\n",
    "        if values.age < 18 and values.role == 'admin':\n",
    "            raise ValueError('Admin role cannot be assigned to users under 18')\n",
    "        return values\n",
    "\n",
    "# Example usage\n",
    "try:\n",
    "    user = UserModel(name='John Doe', age=17, role='admin')\n",
    "except ValidationError as e:\n",
    "    print(e)  # Output: Admin role cannot be assigned to users under 18\n",
    "\n",
    "\n",
    "# mode='before': Use this if you need to preprocess or validate data before individual field validation.\n",
    "# mode='after': Use this for checks that depend on the final state of the model, after all fields have been validated."
   ]
  }
 ],
 "metadata": {
  "kernelspec": {
   "display_name": "Python 3",
   "language": "python",
   "name": "python3"
  },
  "language_info": {
   "codemirror_mode": {
    "name": "ipython",
    "version": 3
   },
   "file_extension": ".py",
   "mimetype": "text/x-python",
   "name": "python",
   "nbconvert_exporter": "python",
   "pygments_lexer": "ipython3",
   "version": "3.12.1"
  }
 },
 "nbformat": 4,
 "nbformat_minor": 2
}
