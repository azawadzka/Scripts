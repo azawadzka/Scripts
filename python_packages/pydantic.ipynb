{
 "cells": [
  {
   "cell_type": "code",
   "execution_count": null,
   "metadata": {},
   "outputs": [],
   "source": [
    "!pip install pydantic==2.9.2"
   ]
  },
  {
   "cell_type": "markdown",
   "metadata": {},
   "source": [
    "## Validators\n",
    "\n",
    "In validators `ValueError` should be used - it is translated to `ValidationError` by `BaseModel`, https://docs.pydantic.dev/latest/errors/errors/#custom-errors"
   ]
  },
  {
   "cell_type": "code",
   "execution_count": 4,
   "metadata": {},
   "outputs": [
    {
     "name": "stdout",
     "output_type": "stream",
     "text": [
      "1 validation error for UserModel\n",
      "role\n",
      "  Value error, Role must be one of {'guest', 'admin', 'user'} [type=value_error, input_value='manager', input_type=str]\n",
      "    For further information visit https://errors.pydantic.dev/2.10/v/value_error\n"
     ]
    }
   ],
   "source": [
    "from pydantic import BaseModel, field_validator, ValidationError\n",
    "\n",
    "class UserModel(BaseModel):\n",
    "    name: str\n",
    "    role: str\n",
    "\n",
    "    @field_validator('role')\n",
    "    def validate_role(cls, value):\n",
    "        allowed_roles = {'admin', 'user', 'guest'}\n",
    "        if value not in allowed_roles:\n",
    "            raise ValueError(f'Role must be one of {allowed_roles}')\n",
    "        return value\n",
    "\n",
    "# Example usage\n",
    "try:\n",
    "    user = UserModel(name='John Doe', role='manager')\n",
    "except ValidationError as e:\n",
    "    print(e)  # Output: Role must be one of {'admin', 'user', 'guest'}"
   ]
  },
  {
   "cell_type": "code",
   "execution_count": 13,
   "metadata": {},
   "outputs": [
    {
     "name": "stdout",
     "output_type": "stream",
     "text": [
      "1 validation error for UserModel\n",
      "  Value error, Admin role cannot be assigned to users under 18 [type=value_error, input_value={'name': 'John Doe', 'age': 17, 'role': 'admin'}, input_type=dict]\n",
      "    For further information visit https://errors.pydantic.dev/2.10/v/value_error\n"
     ]
    }
   ],
   "source": [
    "from pydantic import BaseModel, model_validator, ValidationError\n",
    "\n",
    "class UserModel(BaseModel):\n",
    "    name: str\n",
    "    age: int\n",
    "    role: str\n",
    "\n",
    "    @model_validator(mode='after')\n",
    "    def validate_model(cls, values):\n",
    "        if values.age < 18 and values.role == 'admin':\n",
    "            raise ValueError('Admin role cannot be assigned to users under 18')\n",
    "        return values\n",
    "\n",
    "# Example usage\n",
    "try:\n",
    "    user = UserModel(name='John Doe', age=17, role='admin')\n",
    "except ValidationError as e:\n",
    "    print(e)  # Output: Admin role cannot be assigned to users under 18\n",
    "\n",
    "\n",
    "# mode='before': Use this if you need to preprocess or validate data before individual field validation.\n",
    "# mode='after': Use this for checks that depend on the final state of the model, after all fields have been validated."
   ]
  },
  {
   "cell_type": "markdown",
   "metadata": {},
   "source": [
    "## Field"
   ]
  },
  {
   "cell_type": "code",
   "execution_count": null,
   "metadata": {},
   "outputs": [],
   "source": [
    "from pydantic import BaseModel, Field"
   ]
  },
  {
   "cell_type": "code",
   "execution_count": 9,
   "metadata": {},
   "outputs": [
    {
     "data": {
      "text/plain": [
       "UserModel(name='1')"
      ]
     },
     "execution_count": 9,
     "metadata": {},
     "output_type": "execute_result"
    }
   ],
   "source": [
    "class UserModel(BaseModel):\n",
    "    name: str = Field(coerce_numbers_to_str=True)\n",
    "\n",
    "UserModel(name=1)"
   ]
  },
  {
   "cell_type": "code",
   "execution_count": null,
   "metadata": {},
   "outputs": [
    {
     "data": {
      "text/plain": [
       "UserModel(name_of_user='Bob')"
      ]
     },
     "execution_count": 13,
     "metadata": {},
     "output_type": "execute_result"
    }
   ],
   "source": [
    "class UserModel(BaseModel):\n",
    "    name_of_user: str = Field(alias=\"nameOfUser\")\n",
    "\n",
    "UserModel(**{\"nameOfUser\": \"Bob\"})"
   ]
  },
  {
   "cell_type": "code",
   "execution_count": 52,
   "metadata": {},
   "outputs": [
    {
     "data": {
      "text/plain": [
       "UserModel(one='one', two='two')"
      ]
     },
     "execution_count": 52,
     "metadata": {},
     "output_type": "execute_result"
    }
   ],
   "source": [
    "class UserModel(BaseModel):\n",
    "    one: str\n",
    "    two: str = Field(alias=\"one\")\n",
    "\n",
    "user= UserModel(one=\"one\")\n",
    "user.two = \"two\"\n",
    "user"
   ]
  },
  {
   "cell_type": "code",
   "execution_count": 21,
   "metadata": {},
   "outputs": [
    {
     "data": {
      "text/plain": [
       "UserModel(created_at=datetime.datetime(2025, 3, 1, 23, 31, 58, 966309))"
      ]
     },
     "execution_count": 21,
     "metadata": {},
     "output_type": "execute_result"
    }
   ],
   "source": [
    "from datetime import datetime\n",
    "\n",
    "class UserModel(BaseModel):\n",
    "    created_at: datetime = Field(default_factory=datetime.now)\n",
    "\n",
    "UserModel()"
   ]
  },
  {
   "cell_type": "code",
   "execution_count": 47,
   "metadata": {},
   "outputs": [
    {
     "name": "stderr",
     "output_type": "stream",
     "text": [
      "/tmp/ipykernel_21259/2519091863.py:5: DeprecationWarning: deprecated\n",
      "  UserModel(name=\"Bob\").name_of_user\n"
     ]
    },
    {
     "data": {
      "text/plain": [
       "'Bob'"
      ]
     },
     "execution_count": 47,
     "metadata": {},
     "output_type": "execute_result"
    }
   ],
   "source": [
    "class UserModel(BaseModel):\n",
    "    name: str = \"unknown\"\n",
    "    name_of_user: str = Field(alias=\"name\", deprecated=True)\n",
    "\n",
    "UserModel(name=\"Bob\").name_of_user"
   ]
  },
  {
   "cell_type": "code",
   "execution_count": null,
   "metadata": {},
   "outputs": [],
   "source": [
    "from uuid import UUID\n",
    "\n",
    "class MyModel(BaseModel):\n",
    "    guid: UUID = Field(strict=True)\n",
    "\n",
    "MyModel(guid=UUID('12345678-1234-1234-1234-123456789012'))  # ok\n",
    "MyModel(guid='12345678-1234-1234-1234-123456789012')  # ValidationError"
   ]
  },
  {
   "cell_type": "code",
   "execution_count": null,
   "metadata": {},
   "outputs": [],
   "source": [
    "class UserModel(BaseModel):\n",
    "    code: str = Field(pattern=r\"^[A-Z]{3}$\")\n",
    "\n",
    "UserModel(code=\"AAA\")  # ok\n",
    "UserModel(code=\"AB\")  # ValidationError"
   ]
  },
  {
   "cell_type": "code",
   "execution_count": null,
   "metadata": {},
   "outputs": [],
   "source": []
  }
 ],
 "metadata": {
  "kernelspec": {
   "display_name": "Python 3",
   "language": "python",
   "name": "python3"
  },
  "language_info": {
   "codemirror_mode": {
    "name": "ipython",
    "version": 3
   },
   "file_extension": ".py",
   "mimetype": "text/x-python",
   "name": "python",
   "nbconvert_exporter": "python",
   "pygments_lexer": "ipython3",
   "version": "3.12.1"
  }
 },
 "nbformat": 4,
 "nbformat_minor": 2
}
