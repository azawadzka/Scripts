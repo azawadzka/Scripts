{
 "cells": [
  {
   "cell_type": "markdown",
   "metadata": {},
   "source": [
    "Sources:\n",
    "- https://docs.llamaindex.ai/en/stable/examples/\n",
    "\n",
    "PDFs:\n",
    "- https://media.lonelyplanet.com/shop/pdfs/3379-Portugal_travel_guide72194.pdf\n",
    "- https://guides.tripomatic.com/download/tripomatic-free-city-guide-lisbon.pdf\n",
    "- https://www.lonelyplanet.com/articles/best-places-to-visit-in-portugal"
   ]
  },
  {
   "cell_type": "code",
   "execution_count": null,
   "metadata": {},
   "outputs": [],
   "source": [
    "!pip install llama-index==0.11.9 docx2txt llama-index-llms-anthropic"
   ]
  },
  {
   "cell_type": "code",
   "execution_count": 7,
   "metadata": {},
   "outputs": [
    {
     "data": {
      "text/plain": [
       "True"
      ]
     },
     "execution_count": 7,
     "metadata": {},
     "output_type": "execute_result"
    }
   ],
   "source": [
    "from dotenv import load_dotenv\n",
    "load_dotenv()"
   ]
  },
  {
   "cell_type": "code",
   "execution_count": 9,
   "metadata": {},
   "outputs": [],
   "source": [
    "from llama_index.core import VectorStoreIndex, SimpleDirectoryReader\n",
    "\n",
    "documents = SimpleDirectoryReader(\"data/portugal_guides\").load_data()\n",
    "index = VectorStoreIndex.from_documents(documents)\n",
    "query_engine = index.as_query_engine()"
   ]
  },
  {
   "cell_type": "code",
   "execution_count": 12,
   "metadata": {},
   "outputs": [
    {
     "name": "stdout",
     "output_type": "stream",
     "text": [
      "The value-added tax (VAT) in Portugal ranges between 6% and 23%.\n"
     ]
    }
   ],
   "source": [
    "response = query_engine.query(\"What is the tax value in Portugal?\")  # tripomatic-free-city-guide-lisbon\n",
    "print(response)  # yes, mentioned in text"
   ]
  },
  {
   "cell_type": "code",
   "execution_count": 13,
   "metadata": {},
   "outputs": [
    {
     "name": "stdout",
     "output_type": "stream",
     "text": [
      "You can find national parks in the Parque Natural da Serra da Estrela and the Parque Nacional da Peneda-Gerês in Portugal.\n"
     ]
    }
   ],
   "source": [
    "response = query_engine.query(\"Where can you find national parks?\")  # Lonelyplanet best 11 places to visit in Portugal \n",
    "print(response)  # yes, mentioned in text"
   ]
  },
  {
   "cell_type": "code",
   "execution_count": 18,
   "metadata": {},
   "outputs": [
    {
     "name": "stdout",
     "output_type": "stream",
     "text": [
      "Portugal is home to the world's only underwater library, known as the \"Biblioteca Submersa.\" This unique library is located off the coast of the Algarve and contains thousands of books preserved in waterproof cases. Divers can explore its shelves and borrow books by signing them out with a special underwater pen.\n"
     ]
    }
   ],
   "source": [
    "response = query_engine.query(\"Does Portugal have any interesting libraries?\")  # Invented facts.docx\n",
    "print(response)  # yes"
   ]
  },
  {
   "cell_type": "code",
   "execution_count": 19,
   "metadata": {},
   "outputs": [
    {
     "name": "stdout",
     "output_type": "stream",
     "text": [
      "José Custodio is Portugal's most recognized chess player.\n"
     ]
    }
   ],
   "source": [
    "response = query_engine.query(\"Who is the Portugal's most recognized chess player?\")  # no source\n",
    "print(response)  # yes, but not based on docs"
   ]
  },
  {
   "cell_type": "markdown",
   "metadata": {},
   "source": [
    "## Chatbots"
   ]
  },
  {
   "cell_type": "markdown",
   "metadata": {},
   "source": [
    "From documents\n",
    "\n",
    "Chat modes:\n",
    "- `ChatMode.BEST` (default): Chat engine that uses an agent (react or openai) with a query engine tool\n",
    "- `ChatMode.CONTEXT`: Chat engine that uses a retriever to get context\n",
    "- `ChatMode.CONDENSE_QUESTION`: Chat engine that condenses questions\n",
    "- `ChatMode.CONDENSE_PLUS_CONTEXT`: Chat engine that condenses questions and uses a retriever to get context\n",
    "- `ChatMode.SIMPLE`: Simple chat engine that uses the LLM directly\n",
    "- `ChatMode.REACT`: Chat engine that uses a react agent with a query engine tool\n",
    "- `ChatMode.OPENAI`: Chat engine that uses an openai agent with a query engine tool\n",
    "    "
   ]
  },
  {
   "cell_type": "markdown",
   "metadata": {},
   "source": [
    "How does `\"{context_str}\"` work? This impacts hallucinatios"
   ]
  },
  {
   "cell_type": "code",
   "execution_count": 53,
   "metadata": {},
   "outputs": [],
   "source": [
    "from llama_index.core import VectorStoreIndex, SimpleDirectoryReader\n",
    "from llama_index.llms.openai import OpenAI\n",
    "\n",
    "llm = OpenAI(model=\"gpt-4\")\n",
    "data = SimpleDirectoryReader(input_dir=\"./data/portugal_guides/\").load_data()\n",
    "index = VectorStoreIndex.from_documents(data)"
   ]
  },
  {
   "cell_type": "code",
   "execution_count": 54,
   "metadata": {},
   "outputs": [],
   "source": [
    "from llama_index.core.memory import ChatMemoryBuffer\n",
    "from llama_index.core.chat_engine.types import ChatMode\n",
    "\n",
    "memory = ChatMemoryBuffer.from_defaults(token_limit=3900)\n",
    "\n",
    "chat_engine = index.as_chat_engine(\n",
    "    chat_mode=ChatMode.CONDENSE_PLUS_CONTEXT,\n",
    "    memory=memory,\n",
    "    llm=llm,\n",
    "    context_prompt=(\n",
    "        \"You are a chatbot that helps users with information about Portugal. \"\n",
    "        \"Here are the relevant documents for the context:\\n\"\n",
    "        \"{context_str}\"\n",
    "        \"\\nInstruction: Use the previous chat history, or the context above, to interact and help the user.\"\n",
    "    ),\n",
    "    verbose=False,\n",
    ")"
   ]
  },
  {
   "cell_type": "code",
   "execution_count": null,
   "metadata": {},
   "outputs": [],
   "source": [
    "chat_engine.chat(\n",
    "    # \"Hello! What do you know?\"\n",
    "    # \"Where can I find the best beaches in Portugal?\"\n",
    "    # \"What is the best time to visit Portugal?\"\n",
    "    \"How many cities are there in Portugal?\" # 159/year 2018 acc to wikipedia\n",
    ")"
   ]
  },
  {
   "cell_type": "code",
   "execution_count": null,
   "metadata": {},
   "outputs": [],
   "source": [
    "%%markdown\n",
    "chat_engine.chat_history\n",
    "# [ChatMessage(role=<MessageRole.USER: 'user'>, content='Hello! What do you know?', additional_kwargs={}),\n",
    "#  ChatMessage(role=<MessageRole.ASSISTANT: 'assistant'>, content=\"As an AI, I have access to a wide range of information. I can provide information on a variety of topics such as science, history, technology, and more. However, please note that while I strive for accuracy, I don't have the ability to independently verify information or predict the future. How can I assist you today?\", additional_kwargs={}),\n",
    "#  ChatMessage(role=<MessageRole.USER: 'user'>, content='Where can I find the best beaches in Portugal?', additional_kwargs={}),\n",
    "#  ChatMessage(role=<MessageRole.ASSISTANT: 'assistant'>, content=None, additional_kwargs={'tool_calls': [ChatCompletionMessageToolCall(id='call_yyjyheMObNiebTIMYXwiiPy2', function=Function(arguments='{\\n  \"input\": \"best beaches in Portugal\"\\n}', name='query_engine_tool'), type='function')]}),\n",
    "#  ChatMessage(role=<MessageRole.TOOL: 'tool'>, content='The Setúbal Peninsula, south of Lisbon, is known for its wild, cliff-backed beaches like Costa da Caparica. For more solitude, you can visit the Parque Natural da Arrábida at the southern end of the peninsula, which has picturesque coves and beaches such as Praia do Portinho da Arrábida. The Algarve, along the south coast, is also famed for its gorgeous and varied coastline, offering both crowded resorts and peaceful wild beaches.', additional_kwargs={'name': 'query_engine_tool', 'tool_call_id': 'call_yyjyheMObNiebTIMYXwiiPy2'}),\n",
    "#  ChatMessage(role=<MessageRole.ASSISTANT: 'assistant'>, content=\"Portugal is renowned for its beautiful beaches. Here are some of the best ones:\\n\\n1. **Costa da Caparica**: Located on the Setúbal Peninsula, south of Lisbon, this beach is known for its wild, cliff-backed scenery.\\n\\n2. **Praia do Portinho da Arrábida**: This is a picturesque cove located in the Parque Natural da Arrábida at the southern end of the Setúbal Peninsula. It's a great place if you're looking for more solitude.\\n\\n3. **The Algarve**: This region along the south coast is famed for its gorgeous and varied coastline. It offers both crowded resorts and peaceful wild beaches.\\n\\nRemember to check local travel advisories and restrictions due to COVID-19 before planning your trip.\", additional_kwargs={}),\n",
    "#  ChatMessage(role=<MessageRole.USER: 'user'>, content='What is the best time to visit Portugal?', additional_kwargs={}),\n",
    "#  ChatMessage(role=<MessageRole.ASSISTANT: 'assistant'>, content=None, additional_kwargs={'tool_calls': [ChatCompletionMessageToolCall(id='call_ZwNtrYRX5cne28G6QXcpHudU', function=Function(arguments='{\\n  \"input\": \"best time to visit Portugal\"\\n}', name='query_engine_tool'), type='function')]}),\n",
    "#  ChatMessage(role=<MessageRole.TOOL: 'tool'>, content='The best time to visit Portugal depends on the region and your interests. For instance, the Algarve region is a great destination year-round, boasting about 300 days of sunshine each year. However, you might find the best prices and fewer crowds during the winter months.', additional_kwargs={'name': 'query_engine_tool', 'tool_call_id': 'call_ZwNtrYRX5cne28G6QXcpHudU'}),\n",
    "#  ChatMessage(role=<MessageRole.ASSISTANT: 'assistant'>, content='The best time to visit Portugal can depend on the region and your interests. For instance, the Algarve region, known for its beautiful beaches, is a great destination year-round, boasting about 300 days of sunshine each year. However, if you prefer less crowded places and better prices, the winter months might be a good option for you. Always remember to check the weather and any local advisories before planning your trip.', additional_kwargs={}),\n",
    "#  ChatMessage(role=<MessageRole.USER: 'user'>, content='How many cities are there in Portugal?', additional_kwargs={}),\n",
    "#  ChatMessage(role=<MessageRole.ASSISTANT: 'assistant'>, content=None, additional_kwargs={'tool_calls': [ChatCompletionMessageToolCall(id='call_WL0ECAPUTYypljvOXkP2hOLd', function=Function(arguments='{\\n  \"input\": \"number of cities in Portugal\"\\n}', name='query_engine_tool'), type='function')]}),\n",
    "#  ChatMessage(role=<MessageRole.TOOL: 'tool'>, content='The context does not provide information on the number of cities in Portugal.', additional_kwargs={'name': 'query_engine_tool', 'tool_call_id': 'call_WL0ECAPUTYypljvOXkP2hOLd'}),\n",
    "#  ChatMessage(role=<MessageRole.ASSISTANT: 'assistant'>, content=\"I'm sorry, I currently don't have the exact number of cities in Portugal. However, Portugal is divided into 18 districts, each with its own capital, and 2 autonomous regions, the Azores and Madeira. The country has several cities and towns, with Lisbon being the capital and the largest city.\", additional_kwargs={})]"
   ]
  },
  {
   "cell_type": "code",
   "execution_count": 31,
   "metadata": {},
   "outputs": [],
   "source": [
    "chat_engine.reset()"
   ]
  },
  {
   "cell_type": "code",
   "execution_count": null,
   "metadata": {},
   "outputs": [],
   "source": [
    "# Streaming\n",
    "import time\n",
    "\n",
    "response = chat_engine.stream_chat(\"What is the tax value in Portugal?\")\n",
    "for token in response.response_gen:\n",
    "    print(token, end=\"\")  # need to flush the buffer\n",
    "    time.sleep(0.1)"
   ]
  },
  {
   "cell_type": "markdown",
   "metadata": {},
   "source": [
    "# ReAct"
   ]
  },
  {
   "cell_type": "markdown",
   "metadata": {},
   "source": [
    "ReAct:\n",
    "- interact with external tools and environments\n",
    "- The trajectories consist of multiple thought-action-observation steps.\n",
    "\n",
    "Weakness: prompting-based methods\n",
    "\n",
    "Observations:\n",
    "- CoT suffers from fact hallucination\n",
    "- ReAct's structural constraint reduces its flexibility in formulating reasoning steps\n",
    "- ReAct depends a lot on the information it's retrieving; non-informative search results derails the model reasoning and leads to difficulty in recovering and reformulating thoughts\n",
    "\n",
    "sources:\n",
    "- https://www.promptingguide.ai/techniques/react#react-prompting\n",
    "- https://docs.llamaindex.ai/en/stable/examples/chat_engine/chat_engine_react/\n",
    "- perplexity"
   ]
  },
  {
   "cell_type": "code",
   "execution_count": 36,
   "metadata": {},
   "outputs": [],
   "source": [
    "from llama_index.core import VectorStoreIndex, SimpleDirectoryReader\n",
    "from llama_index.llms.anthropic import Anthropic\n",
    "\n",
    "#  Known models are: claude-instant-1, claude-instant-1.2, claude-2, claude-2.0, claude-2.1, claude-3-opus-20240229, claude-3-opus@20240229, claude-3-sonnet-20240229, claude-3-sonnet@20240229, claude-3-haiku-20240307, claude-3-haiku@20240307, claude-3-5-sonnet-20240620, claude-3-5-sonnet@20240620\n",
    "llm = Anthropic(\n",
    "    model=\"claude-3-5-sonnet-20240620\"\n",
    ")\n",
    "data = SimpleDirectoryReader(input_dir=\"./data/portugal_guides/\").load_data()\n",
    "index = VectorStoreIndex.from_documents(data)"
   ]
  },
  {
   "cell_type": "code",
   "execution_count": 37,
   "metadata": {},
   "outputs": [],
   "source": [
    "chat_engine = index.as_chat_engine(\n",
    "    chat_mode=\"react\", \n",
    "    llm=llm, \n",
    "    verbose=True\n",
    ")"
   ]
  },
  {
   "cell_type": "code",
   "execution_count": 38,
   "metadata": {},
   "outputs": [
    {
     "name": "stdout",
     "output_type": "stream",
     "text": [
      "> Running step e0a0fc01-4446-48f3-b539-e8f6ba8a2577. Step input: What is the total population of the 3 most populous cities in Portugal? Answer in English.\n",
      "\u001b[1;3;38;5;200mThought: The current language of the user is: English. To answer this question, I need to find out the three most populous cities in Portugal and their populations. I'll use the query engine tool to get this information.\n",
      "Action: query_engine_tool\n",
      "Action Input: {'input': 'What are the three most populous cities in Portugal and their populations?'}\n",
      "\u001b[0m\u001b[1;3;34mObservation: Based on the information provided, the three most populous cities in Portugal and their populations are:\n",
      "\n",
      "1. Lisbon: 567,131 inhabitants\n",
      "2. Sintra: 395,528 inhabitants\n",
      "3. Vila Nova de Gaia: 311,223 inhabitants\n",
      "\n",
      "These figures are from the INE 2023 Estimate for the largest municipalities in Portugal.\n",
      "\u001b[0m> Running step 25068e16-e846-458c-a9c5-c568bec03f39. Step input: None\n",
      "\u001b[1;3;38;5;200mThought: Now that I have the information about the three most populous cities in Portugal and their populations, I can calculate the total population by adding them together. I'll do this calculation and then provide the answer in English.\n",
      "Answer: The total population of the three most populous cities in Portugal is 1,273,882. This is calculated by adding the populations of Lisbon (567,131), Sintra (395,528), and Vila Nova de Gaia (311,223). It's important to note that these figures are based on the INE 2023 Estimate for the largest municipalities in Portugal.\n",
      "\u001b[0m"
     ]
    }
   ],
   "source": [
    "response = chat_engine.chat(\n",
    "    # \"What is the sum of entrance cost for the three most recognized museums in the capital of Portugal?\"\n",
    "    \"What is the total population of the 3 most populous cities in Portugal? Answer in English.\" # Switches to Portuguese\n",
    ")"
   ]
  },
  {
   "cell_type": "code",
   "execution_count": 39,
   "metadata": {},
   "outputs": [
    {
     "name": "stdout",
     "output_type": "stream",
     "text": [
      "> Running step 99f41d2e-d66f-4f19-bc90-abf18ba3f366. Step input: How many of the largest cities in Portugal constitute 25% of the total country population?\n",
      "\u001b[1;3;38;5;200mThought: First, I need to find out the total population of Portugal.\n",
      "Action: query_engine_tool\n",
      "Action Input: {'input': 'What is the total population of Portugal according to the latest estimates?'}\n",
      "\u001b[0m\u001b[1;3;34mObservation: According to the latest estimates from 2023, Portugal has a total population of 10,639,726 inhabitants.\n",
      "\u001b[0m> Running step d68a007a-413f-4a5b-a8a4-c05e16414ff6. Step input: None\n",
      "\u001b[1;3;38;5;200mThought: Now that I have the total population of Portugal, I need to calculate 25% of this number and then find out how many of the largest cities it takes to reach this number.\n",
      "Action: query_engine_tool\n",
      "Action Input: {'input': 'List the largest cities in Portugal with their populations, in descending order of population size.'}\n",
      "\u001b[0m\u001b[1;3;34mObservation: Here's a list of the largest cities in Portugal with their populations, in descending order of population size:\n",
      "\n",
      "1. Lisbon: 567,131\n",
      "2. Sintra: 395,528\n",
      "3. Vila Nova de Gaia: 311,223\n",
      "4. Porto: 248,769\n",
      "5. Cascais: 219,636\n",
      "6. Loures: 207,065\n",
      "7. Braga: 201,583\n",
      "8. Almada: 181,238\n",
      "9. Matosinhos: 179,558\n",
      "10. Amadora: 178,250\n",
      "11. Oeiras: 175,677\n",
      "12. Seixal: 173,163\n",
      "13. Gondomar: 168,582\n",
      "14. Guimarães: 156,789\n",
      "15. Odivelas: 153,708\n",
      "16. Coimbra: 144,822\n",
      "17. Maia: 142,594\n",
      "18. Santa Maria da Feira: 139,837\n",
      "19. Vila Franca de Xira: 139,452\n",
      "20. Vila Nova de Famalicão: 135,994\n",
      "\n",
      "This list represents the most populous municipalities in Portugal according to recent estimates.\n",
      "\u001b[0m> Running step 860552d5-74a1-4dd6-8296-991b2f7b35aa. Step input: None\n",
      "\u001b[1;3;38;5;200mThought: Now I have the population data for the largest cities in Portugal. I need to calculate 25% of the total population and then sum up the populations of the largest cities until I reach that number.\n",
      "\n",
      "25% of Portugal's total population: 10,639,726 * 0.25 = 2,659,931.5\n",
      "\n",
      "Let's start adding up the populations of the largest cities:\n",
      "\n",
      "1. Lisbon: 567,131\n",
      "2. Sintra: 395,528\n",
      "3. Vila Nova de Gaia: 311,223\n",
      "4. Porto: 248,769\n",
      "5. Cascais: 219,636\n",
      "6. Loures: 207,065\n",
      "7. Braga: 201,583\n",
      "\n",
      "The sum of these 7 cities is 2,150,935, which is still below 2,659,931.5.\n",
      "\n",
      "8. Almada: 181,238\n",
      "9. Matosinhos: 179,558\n",
      "\n",
      "Adding these two more cities brings the total to 2,511,731, which is still below the 25% mark.\n",
      "\n",
      "10. Amadora: 178,250\n",
      "\n",
      "Adding Amadora brings the total to 2,689,981, which finally exceeds the 25% mark (2,659,931.5).\n",
      "\n",
      "Thought: I can now answer the question without using any more tools.\n",
      "Answer: It takes the 10 largest cities in Portugal to constitute approximately 25% of the total country population. These cities are Lisbon, Sintra, Vila Nova de Gaia, Porto, Cascais, Loures, Braga, Almada, Matosinhos, and Amadora. The combined population of these 10 cities slightly exceeds 25% of Portugal's total population.\n",
      "\u001b[0m"
     ]
    }
   ],
   "source": [
    "# source wikipedia\n",
    "response = chat_engine.chat(\n",
    "    \"How many of the largest cities in Portugal constitute 25% of the total country population?\" # ans total population 10.6M, 25%=2.650.000, n=10\n",
    "    # Claude 2 failed finding total population,\n",
    "    # Claude 3 failed to notice that it didn't have enough info with 50% of the population\n",
    "    # Claude 3 failed with wrong Answer using no tools: According to the information provided, the top 20 largest cities in Portugal constitute 25% of the country's population. (Actually sum(top20)=4.2M)\n",
    "    # Claude 3.5 failed with wrong Answer using no tools, but got the right answer with tools: Answer: It takes the 10 largest cities in Portugal to constitute approximately 25% of the total country population. These cities are Lisbon, Sintra, Vila Nova de Gaia, Porto, Cascais, Loures, Braga, Almada, Matosinhos, and Amadora. The combined population of these 10 cities slightly exceeds 25% of Portugal's total population.\n",
    ")"
   ]
  }
 ],
 "metadata": {
  "kernelspec": {
   "display_name": "exp",
   "language": "python",
   "name": "python3"
  },
  "language_info": {
   "codemirror_mode": {
    "name": "ipython",
    "version": 3
   },
   "file_extension": ".py",
   "mimetype": "text/x-python",
   "name": "python",
   "nbconvert_exporter": "python",
   "pygments_lexer": "ipython3",
   "version": "3.11.9"
  }
 },
 "nbformat": 4,
 "nbformat_minor": 2
}
