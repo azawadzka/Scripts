{
 "cells": [
  {
   "cell_type": "markdown",
   "metadata": {},
   "source": [
    "https://github.com/goldsmith/Wikipedia\n",
    "\n",
    "Quite old!"
   ]
  },
  {
   "cell_type": "code",
   "execution_count": null,
   "metadata": {},
   "outputs": [],
   "source": [
    "!pip install wikipedia"
   ]
  },
  {
   "cell_type": "code",
   "execution_count": 1,
   "metadata": {},
   "outputs": [],
   "source": [
    "import wikipedia"
   ]
  },
  {
   "cell_type": "code",
   "execution_count": null,
   "metadata": {},
   "outputs": [],
   "source": [
    "print(wikipedia.summary(\"Wikipedia\"))\n",
    "# Wikipedia (/ˌwɪkɨˈpiːdiə/ or /ˌwɪkiˈpiːdiə/ WIK-i-PEE-dee-ə) is a collaboratively edited, multilingual, free Internet encyclopedia supported by the non-profit Wikimedia Foundation...\n",
    "\n",
    "wikipedia.search(\"Barack\")\n",
    "# [u'Barak (given name)', u'Barack Obama', u'Barack (brandy)', u'Presidency of Barack Obama', u'Family of Barack Obama', u'First inauguration of Barack Obama', u'Barack Obama presidential campaign, 2008', u'Barack Obama, Sr.', u'Barack Obama citizenship conspiracy theories', u'Presidential transition of Barack Obama']\n",
    "\n",
    "ny = wikipedia.page(\"New York\")\n",
    "ny.title\n",
    "# u'New York'\n",
    "ny.url\n",
    "# u'http://en.wikipedia.org/wiki/New_York'\n",
    "ny.content\n",
    "# u'New York is a state in the Northeastern region of the United States. New York is the 27th-most exten'...\n",
    "ny.links[0]\n",
    "# u'1790 United States Census'\n",
    "\n",
    "wikipedia.set_lang(\"fr\")\n",
    "wikipedia.summary(\"Facebook\", sentences=1)\n",
    "# Facebook est un service de réseautage social en ligne sur Internet permettant d'y publier des informations (photographies, liens, textes, etc.) en contrôlant leur visibilité par différentes catégories de personnes."
   ]
  },
  {
   "cell_type": "code",
   "execution_count": 35,
   "metadata": {},
   "outputs": [
    {
     "name": "stderr",
     "output_type": "stream",
     "text": [
      "/Users/az/.pyenv/versions/3.10.14/envs/exp/lib/python3.10/site-packages/wikipedia/wikipedia.py:389: GuessedAtParserWarning: No parser was explicitly specified, so I'm using the best available HTML parser for this system (\"html.parser\"). This usually isn't a problem, but if you run this code on another system, or in a different virtual environment, it may use a different parser and behave differently.\n",
      "\n",
      "The code that caused this warning is on line 389 of the file /Users/az/.pyenv/versions/3.10.14/envs/exp/lib/python3.10/site-packages/wikipedia/wikipedia.py. To get rid of this warning, pass the additional argument 'features=\"html.parser\"' to the BeautifulSoup constructor.\n",
      "\n",
      "  lis = BeautifulSoup(html).find_all('li')\n"
     ]
    },
    {
     "name": "stdout",
     "output_type": "stream",
     "text": [
      "DisambiguationError as query Queen\n"
     ]
    },
    {
     "data": {
      "text/plain": [
       "<WikipediaPage 'Queen (band)'>"
      ]
     },
     "execution_count": 35,
     "metadata": {},
     "output_type": "execute_result"
    }
   ],
   "source": [
    "# Get first available page at disambiguation\n",
    "\n",
    "from wikipedia import DisambiguationError\n",
    "\n",
    "def fix_query(query: str) -> str:\n",
    "    \"\"\"\n",
    "    wikipedia.page(\"Queen (band)\") -> PageError: Page id \"queen a d\" does not match any pages. Try another id!\n",
    "    wikipedia.page(\"Queen /(band/)\") -> <WikipediaPage 'Queen (band)'>\n",
    "    \"\"\"\n",
    "    return query.replace(\"(\", \"/(\").replace(\")\", \"/)\")\n",
    "\n",
    "def search_wikipedia(phrase: str) -> wikipedia.WikipediaPage:\n",
    "    for query in wikipedia.search(phrase):\n",
    "        try:\n",
    "            fixed_query = fix_query(query)\n",
    "            return wikipedia.page(fixed_query)\n",
    "        except DisambiguationError:\n",
    "            print(f\"DisambiguationError as query {query}\")\n",
    "    raise ValueError(f\"No valid page found for phrase: {phrase}\")\n",
    "    \n",
    "search_wikipedia(\"Queen\")  # <WikipediaPage 'Queen (band)'>"
   ]
  },
  {
   "cell_type": "code",
   "execution_count": null,
   "metadata": {},
   "outputs": [],
   "source": []
  }
 ],
 "metadata": {
  "kernelspec": {
   "display_name": "exp",
   "language": "python",
   "name": "python3"
  },
  "language_info": {
   "codemirror_mode": {
    "name": "ipython",
    "version": 3
   },
   "file_extension": ".py",
   "mimetype": "text/x-python",
   "name": "python",
   "nbconvert_exporter": "python",
   "pygments_lexer": "ipython3",
   "version": "3.10.14"
  }
 },
 "nbformat": 4,
 "nbformat_minor": 2
}
