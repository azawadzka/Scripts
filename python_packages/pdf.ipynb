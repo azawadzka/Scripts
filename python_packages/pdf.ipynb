{
 "cells": [
  {
   "cell_type": "code",
   "execution_count": 42,
   "metadata": {},
   "outputs": [],
   "source": [
    "path = \"/Users/az/Downloads/raport.pdf\""
   ]
  },
  {
   "cell_type": "markdown",
   "metadata": {},
   "source": [
    "# tabula-py"
   ]
  },
  {
   "cell_type": "code",
   "execution_count": null,
   "metadata": {},
   "outputs": [],
   "source": [
    "!pip install tabula-py"
   ]
  },
  {
   "cell_type": "code",
   "execution_count": null,
   "metadata": {},
   "outputs": [],
   "source": [
    "import tabula\n",
    "\n",
    "# Read PDF file and extract tables into a list of DataFrames\n",
    "tables = tabula.read_pdf(path, pages='1')\n",
    "\n",
    "# Check the number of tables extracted\n",
    "print(\"Total tables extracted:\", len(tables))\n",
    "\n",
    "# Print the first table as a Pandas DataFrame\n",
    "print(tables[0])\n",
    "\n",
    "# Export the first table to CSV\n",
    "# tabula.convert_into('example.pdf', 'extracted_table.csv', output_format='csv', pages='1')"
   ]
  },
  {
   "cell_type": "code",
   "execution_count": 9,
   "metadata": {},
   "outputs": [
    {
     "data": {
      "text/html": [
       "<div>\n",
       "<style scoped>\n",
       "    .dataframe tbody tr th:only-of-type {\n",
       "        vertical-align: middle;\n",
       "    }\n",
       "\n",
       "    .dataframe tbody tr th {\n",
       "        vertical-align: top;\n",
       "    }\n",
       "\n",
       "    .dataframe thead th {\n",
       "        text-align: right;\n",
       "    }\n",
       "</style>\n",
       "<table border=\"1\" class=\"dataframe\">\n",
       "  <thead>\n",
       "    <tr style=\"text-align: right;\">\n",
       "      <th></th>\n",
       "      <th>27-02-2024 Wt.</th>\n",
       "    </tr>\n",
       "  </thead>\n",
       "  <tbody>\n",
       "  </tbody>\n",
       "</table>\n",
       "</div>"
      ],
      "text/plain": [
       "Empty DataFrame\n",
       "Columns: [27-02-2024 Wt.]\n",
       "Index: []"
      ]
     },
     "execution_count": 9,
     "metadata": {},
     "output_type": "execute_result"
    }
   ],
   "source": [
    "tables[3]"
   ]
  },
  {
   "cell_type": "markdown",
   "metadata": {},
   "source": [
    "# camelot-py"
   ]
  },
  {
   "cell_type": "code",
   "execution_count": null,
   "metadata": {},
   "outputs": [],
   "source": [
    "!pip install camelot-py opencv-python ghostscript\n",
    "!brew install ghostscript tcl-tk"
   ]
  },
  {
   "cell_type": "code",
   "execution_count": 1,
   "metadata": {},
   "outputs": [],
   "source": [
    "import camelot"
   ]
  },
  {
   "cell_type": "code",
   "execution_count": 8,
   "metadata": {},
   "outputs": [
    {
     "name": "stdout",
     "output_type": "stream",
     "text": [
      "Total tables extracted: 0\n",
      "<TableList n=0>\n"
     ]
    }
   ],
   "source": [
    "# Read PDF file\n",
    "tables = camelot.read_pdf(path, pages='5')\n",
    "\n",
    "# Check the number of tables extracted\n",
    "print(\"Total tables extracted:\", tables.n)\n",
    "\n",
    "# Print the first table as a Pandas DataFrame\n",
    "print(tables)\n",
    "\n",
    "# Export the table to CSV\n",
    "# tables[0].to_csv('extracted_table.csv')"
   ]
  },
  {
   "cell_type": "markdown",
   "metadata": {},
   "source": [
    "# Tesseract"
   ]
  },
  {
   "cell_type": "code",
   "execution_count": 11,
   "metadata": {},
   "outputs": [
    {
     "name": "stdout",
     "output_type": "stream",
     "text": [
      "Detected 9 diacritics\n"
     ]
    }
   ],
   "source": [
    "!tesseract image.png output_text.txt"
   ]
  },
  {
   "cell_type": "markdown",
   "metadata": {},
   "source": [
    "# LayoutPDFReader\n",
    "\n",
    "https://github.com/nlmatics/llmsherpa#layoutpdfreader\n",
    "\n",
    "LayoutPDFReader solves this problem by parsing PDFs along with hierarchical layout information such as:\n",
    "- Sections and subsections along with their levels.\n",
    "- Paragraphs - combines lines.\n",
    "- Links between sections and paragraphs.\n",
    "- Tables along with the section the tables are found in.\n",
    "- Lists and nested lists.\n",
    "- Join content spread across pages.\n",
    "- Removal of repeating headers and footers.\n",
    "- Watermark removal."
   ]
  },
  {
   "cell_type": "code",
   "execution_count": null,
   "metadata": {},
   "outputs": [],
   "source": [
    "!pip install llmsherpa"
   ]
  },
  {
   "cell_type": "code",
   "execution_count": null,
   "metadata": {},
   "outputs": [],
   "source": [
    "from llmsherpa.readers import LayoutPDFReader\n",
    "\n",
    "llmsherpa_api_url = \"https://readers.llmsherpa.com/api/document/developer/parseDocument?renderFormat=all\"\n",
    "pdf_reader = LayoutPDFReader(llmsherpa_api_url)\n",
    "doc = pdf_reader.read_pdf(path)\n",
    "# TimeoutError"
   ]
  },
  {
   "cell_type": "markdown",
   "metadata": {},
   "source": [
    "# LlamaParse\n",
    "\n",
    "LlamaParse is the world's first genAI-native document parsing platform, 1k free pages a day, as of March 2024\n",
    "\n",
    "Src\n",
    "- https://www.llamaindex.ai/blog/launching-the-first-genai-native-document-parsing-platform\n",
    "- https://medium.com/@salujav4/parsing-pdfs-text-image-and-tables-for-rag-based-applications-using-llamaparse-llamaindex-0f4c5ed50fb7\n",
    "- https://docs.llamaindex.ai/en/stable/module_guides/loading/node_parsers/modules/\n",
    "- https://docs.llamaindex.ai/en/stable/module_guides/loading/documents_and_nodes/usage_nodes/\n",
    "- https://github.com/run-llama/llama_parse/blob/main/examples/demo_advanced.ipynb"
   ]
  },
  {
   "cell_type": "code",
   "execution_count": null,
   "metadata": {},
   "outputs": [],
   "source": [
    "!pip install llama-parse"
   ]
  },
  {
   "cell_type": "code",
   "execution_count": 30,
   "metadata": {},
   "outputs": [],
   "source": [
    "import os\n",
    "from dotenv import load_dotenv\n",
    "load_dotenv()\n",
    "LLAMA_CLOUD_API_KEY = os.getenv(\"LLAMA_CLOUD_API_KEY\")"
   ]
  },
  {
   "cell_type": "code",
   "execution_count": 34,
   "metadata": {},
   "outputs": [
    {
     "name": "stdout",
     "output_type": "stream",
     "text": [
      "Started parsing the file under job_id ed512035-7831-4108-ad44-fbc115c0693d\n"
     ]
    }
   ],
   "source": [
    "import nest_asyncio\n",
    "nest_asyncio.apply()\n",
    "from llama_parse import LlamaParse\n",
    "\n",
    "parser = LlamaParse(\n",
    "    api_key=LLAMA_CLOUD_API_KEY,\n",
    "    result_type=\"markdown\"\n",
    ")\n",
    "\n",
    "documents = await parser.aload_data(path)"
   ]
  },
  {
   "cell_type": "code",
   "execution_count": 39,
   "metadata": {},
   "outputs": [
    {
     "name": "stderr",
     "output_type": "stream",
     "text": [
      "1it [00:00, 3214.03it/s]"
     ]
    },
    {
     "name": "stderr",
     "output_type": "stream",
     "text": [
      "\n"
     ]
    }
   ],
   "source": [
    "from llama_index.core.node_parser import MarkdownElementNodeParser\n",
    "from llama_index.llms.openai import OpenAI\n",
    "\n",
    "node_parser = MarkdownElementNodeParser(\\\n",
    "    llm=OpenAI(model=\"gpt-4o\"), \n",
    "    num_workers=4,\n",
    "    language=\"pl\"\n",
    ")\n",
    "nodes = node_parser.get_nodes_from_documents(documents=[documents[0]])\n",
    "base_nodes, objects = node_parser.get_nodes_and_objects(nodes)"
   ]
  },
  {
   "cell_type": "markdown",
   "metadata": {},
   "source": [
    "# Unstructured\n",
    "\n",
    "The unstructured library provides open-source components for ingesting and pre-processing images and text documents, such as PDFs, HTML, Word docs, and many more.\n",
    "\n",
    "https://github.com/Unstructured-IO/unstructured\n",
    "\n",
    "BEST RESULT"
   ]
  },
  {
   "cell_type": "code",
   "execution_count": null,
   "metadata": {},
   "outputs": [],
   "source": [
    "!brew install poppler-utils libmagic-dev tesseract-ocr tesseract-lang\n",
    "!pip install 'unstructured[all-docs]' nltk"
   ]
  },
  {
   "cell_type": "code",
   "execution_count": null,
   "metadata": {},
   "outputs": [],
   "source": [
    "from unstructured.partition.auto import partition\n",
    "\n",
    "elements = partition(filename=path)\n",
    "print(\"\\n\\n\".join([str(el) for el in elements]))"
   ]
  }
 ],
 "metadata": {
  "kernelspec": {
   "display_name": "expo",
   "language": "python",
   "name": "python3"
  },
  "language_info": {
   "codemirror_mode": {
    "name": "ipython",
    "version": 3
   },
   "file_extension": ".py",
   "mimetype": "text/x-python",
   "name": "python",
   "nbconvert_exporter": "python",
   "pygments_lexer": "ipython3",
   "version": "3.11.9"
  }
 },
 "nbformat": 4,
 "nbformat_minor": 2
}
