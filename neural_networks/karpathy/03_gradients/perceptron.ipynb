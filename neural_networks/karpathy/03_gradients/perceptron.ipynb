{
 "cells": [
  {
   "attachments": {},
   "cell_type": "markdown",
   "metadata": {},
   "source": [
    "http://blog.ezyang.com/2019/05/pytorch-internals/"
   ]
  },
  {
   "cell_type": "code",
   "execution_count": 1,
   "metadata": {},
   "outputs": [],
   "source": [
    "import random\n",
    "\n",
    "import torch\n",
    "import torch.nn.functional as F\n",
    "import matplotlib.pyplot as plt"
   ]
  },
  {
   "cell_type": "code",
   "execution_count": 2,
   "metadata": {},
   "outputs": [
    {
     "data": {
      "text/plain": [
       "(32033, ['emma', 'olivia', 'ava', 'isabella', 'sophia'])"
      ]
     },
     "execution_count": 2,
     "metadata": {},
     "output_type": "execute_result"
    }
   ],
   "source": [
    "# Read dataset\n",
    "path_in = \"../data/names.txt\"\n",
    "with open(path_in, 'r') as fh:\n",
    "    words = fh.read().splitlines()\n",
    "len(words), words[:5]"
   ]
  },
  {
   "cell_type": "code",
   "execution_count": 3,
   "metadata": {},
   "outputs": [],
   "source": [
    "chars = sorted(list(set(''.join(words))))\n",
    "stoi = {s:i+1 for i, s in enumerate(chars)}\n",
    "stoi['.'] = 0\n",
    "itos = {i: s for s, i in stoi.items()}\n",
    "vocab_size = len(chars) + 1"
   ]
  },
  {
   "cell_type": "code",
   "execution_count": 4,
   "metadata": {},
   "outputs": [
    {
     "data": {
      "text/plain": [
       "(torch.Size([182625, 3]),\n",
       " torch.Size([182625]),\n",
       " torch.Size([22655, 3]),\n",
       " torch.Size([22655]),\n",
       " torch.Size([22866, 3]),\n",
       " torch.Size([22866]))"
      ]
     },
     "execution_count": 4,
     "metadata": {},
     "output_type": "execute_result"
    }
   ],
   "source": [
    "# build the dataset\n",
    "block_size = 3\n",
    "\n",
    "def build_dataset(words):\n",
    "    X, Y = [], []\n",
    "    for w in words:\n",
    "        context = [0] * block_size\n",
    "        for ch in w + '.':\n",
    "            ix = stoi[ch]\n",
    "            X.append(context)\n",
    "            Y.append(ix)\n",
    "            context = context[1:] + [ix]  # rolling window\n",
    "    return torch.tensor(X), torch.tensor(Y)\n",
    "\n",
    "random.seed(42)\n",
    "random.shuffle(words)\n",
    "n1 = int(0.8 * len(words))\n",
    "n2 = int(0.9 * len(words))\n",
    "Xtr,  Ytr  = build_dataset(words[:n1])\n",
    "Xval, Yval = build_dataset(words[n1:n2])\n",
    "Xte,  Yte  = build_dataset(words[n2:])\n",
    "Xtr.shape, Ytr.shape, Xval.shape, Yval.shape, Xte.shape, Yte.shape"
   ]
  },
  {
   "cell_type": "code",
   "execution_count": 50,
   "metadata": {},
   "outputs": [
    {
     "data": {
      "text/plain": [
       "11897"
      ]
     },
     "execution_count": 50,
     "metadata": {},
     "output_type": "execute_result"
    }
   ],
   "source": [
    "n_embed = 10\n",
    "n_hidden = 200\n",
    "\n",
    "g = torch.Generator().manual_seed(123)\n",
    "C = torch.randn((vocab_size, n_embed), generator=g) # \n",
    "W1 = torch.randn((n_embed * block_size, n_hidden), generator=g)\n",
    "b1 = torch.randn(n_hidden, generator=g) \n",
    "W2 = torch.randn((n_hidden, vocab_size), generator=g) \n",
    "b2 = torch.randn(vocab_size, generator=g) \n",
    "parameters = [C, W1, b1, W2, b2]\n",
    "for p in parameters:\n",
    "    p.requires_grad = True\n",
    "lossi = []\n",
    "sum(p.nelement() for p in parameters)"
   ]
  },
  {
   "cell_type": "code",
   "execution_count": 49,
   "metadata": {},
   "outputs": [
    {
     "name": "stdout",
     "output_type": "stream",
     "text": [
      "train 2.0390868186950684\n",
      "val 2.10430908203125\n"
     ]
    },
    {
     "data": {
      "text/plain": [
       "(None, None)"
      ]
     },
     "execution_count": 49,
     "metadata": {},
     "output_type": "execute_result"
    }
   ],
   "source": [
    "@torch.no_grad()\n",
    "def split_loss(split):\n",
    "    x, y = {\n",
    "        'train': (Xtr, Ytr),\n",
    "        'val': (Xval, Yval),\n",
    "        'test': (Xte, Yte),\n",
    "    }[split]\n",
    "    emb = C[x]\n",
    "    embcat = emb.view(emb.shape[0], -1)\n",
    "    h = torch.tanh(embcat @ W1 + b1)\n",
    "    logits = h @ W2 + b2\n",
    "    loss = F.cross_entropy(logits, y)\n",
    "    print(split, loss.item())\n",
    "    \n",
    "split_loss('train'), split_loss('val')"
   ]
  },
  {
   "cell_type": "code",
   "execution_count": 51,
   "metadata": {},
   "outputs": [
    {
     "name": "stdout",
     "output_type": "stream",
     "text": [
      "0 22.660118103027344\n",
      "10000 2.0721559524536133\n",
      "20000 2.3520164489746094\n",
      "30000 2.1965737342834473\n",
      "40000 2.592329502105713\n",
      "50000 2.2140629291534424\n",
      "60000 2.7797722816467285\n",
      "70000 2.32149338722229\n",
      "80000 2.70660138130188\n",
      "90000 2.2991273403167725\n",
      "100000 2.4198198318481445\n",
      "110000 1.9405189752578735\n",
      "120000 2.121194839477539\n",
      "130000 2.211531639099121\n",
      "140000 1.532693862915039\n",
      "150000 2.091735363006592\n",
      "160000 2.230393886566162\n",
      "170000 1.970759391784668\n",
      "180000 2.1723475456237793\n",
      "190000 2.7138073444366455\n"
     ]
    }
   ],
   "source": [
    "max_steps = 200_000\n",
    "batch_size = 32\n",
    "\n",
    "for i in range(max_steps):\n",
    "    # minibatch\n",
    "    ix = torch.randint(0, Xtr.shape[0], (batch_size,))\n",
    "    Xb, Yb = Xtr[ix], Ytr[ix]\n",
    "\n",
    "    # forward pass\n",
    "    emb = C[Xb]\n",
    "    embcat = emb.view(emb.shape[0], -1)\n",
    "    hpreact = embcat @ W1 + b1\n",
    "    h = torch.tanh(hpreact)\n",
    "    logits = h @ W2 + b2\n",
    "    loss = F.cross_entropy(logits, Yb)\n",
    "\n",
    "    # backward pass\n",
    "    for p in parameters:\n",
    "        p.grad = None\n",
    "    loss.backward()\n",
    "\n",
    "    # update\n",
    "    lr = 0.1 if i < 100_000 else 0.01\n",
    "    for p in parameters:\n",
    "        p.data += -lr * p.grad\n",
    "\n",
    "    if i % 10_000 == 0:\n",
    "        print(i, loss.item())\n",
    "    lossi.append(loss.log10().item())\n",
    "    # break\n",
    "    "
   ]
  },
  {
   "cell_type": "code",
   "execution_count": 47,
   "metadata": {},
   "outputs": [
    {
     "data": {
      "text/plain": [
       "(array([258., 185., 181., 151., 155., 141., 147., 130., 146., 119., 123.,\n",
       "        114., 120., 130.,  99., 115., 103., 130., 110.,  96., 123., 101.,\n",
       "        113., 122.,  92., 111., 117.,  97., 106., 106., 115.,  91., 121.,\n",
       "        111.,  93.,  97., 111., 128., 117., 107., 132., 125., 131., 106.,\n",
       "        122., 152., 142., 172., 193., 193.]),\n",
       " array([-9.99716520e-01, -9.59723521e-01, -9.19730523e-01, -8.79737524e-01,\n",
       "        -8.39744525e-01, -7.99751526e-01, -7.59758527e-01, -7.19765528e-01,\n",
       "        -6.79772530e-01, -6.39779531e-01, -5.99786532e-01, -5.59793533e-01,\n",
       "        -5.19800534e-01, -4.79807535e-01, -4.39814537e-01, -3.99821538e-01,\n",
       "        -3.59828539e-01, -3.19835540e-01, -2.79842541e-01, -2.39849542e-01,\n",
       "        -1.99856544e-01, -1.59863545e-01, -1.19870546e-01, -7.98775470e-02,\n",
       "        -3.98845482e-02,  1.08450651e-04,  4.01014495e-02,  8.00944483e-02,\n",
       "         1.20087447e-01,  1.60080446e-01,  2.00073445e-01,  2.40066444e-01,\n",
       "         2.80059443e-01,  3.20052441e-01,  3.60045440e-01,  4.00038439e-01,\n",
       "         4.40031438e-01,  4.80024437e-01,  5.20017436e-01,  5.60010434e-01,\n",
       "         6.00003433e-01,  6.39996432e-01,  6.79989431e-01,  7.19982430e-01,\n",
       "         7.59975429e-01,  7.99968427e-01,  8.39961426e-01,  8.79954425e-01,\n",
       "         9.19947424e-01,  9.59940423e-01,  9.99933422e-01]),\n",
       " <BarContainer object of 50 artists>)"
      ]
     },
     "execution_count": 47,
     "metadata": {},
     "output_type": "execute_result"
    },
    {
     "data": {
      "image/png": "[encoded data removed]",
      "text/plain": [
       "<Figure size 640x480 with 1 Axes>"
      ]
     },
     "metadata": {},
     "output_type": "display_data"
    }
   ],
   "source": [
    "# distribution of h = post-activation\n",
    "plt.hist(h.view(-1).tolist(), bins=50)"
   ]
  },
  {
   "cell_type": "code",
   "execution_count": 44,
   "metadata": {},
   "outputs": [
    {
     "data": {
      "text/plain": [
       "<matplotlib.image.AxesImage at 0x7fa53ce59d50>"
      ]
     },
     "execution_count": 44,
     "metadata": {},
     "output_type": "execute_result"
    },
    {
     "data": {
      "image/png": "[encoded data removed]",
      "text/plain": [
       "<Figure size 2000x1000 with 1 Axes>"
      ]
     },
     "metadata": {},
     "output_type": "display_data"
    }
   ],
   "source": [
    "plt.figure(figsize=(20,10))\n",
    "plt.imshow(h.abs() > 0.99, cmap='gray', interpolation='nearest')"
   ]
  },
  {
   "attachments": {},
   "cell_type": "markdown",
   "metadata": {},
   "source": [
    "### Vanishing gradient\n",
    "Since the gradients have values close to 1/-1 in most cases, they are going to zero out the gradient in the derivative of tanh. So **the neuron will not learn**. Distribution of h = post-activation:\n",
    "\n",
    "<img src=\"imgs/h_plot.png\" width=300>\n",
    "\n",
    "<img src=\"imgs/tanh.png\">\n",
    "\n",
    "The white gradients will be zero:\n",
    "\n",
    "<img src=\"imgs/zero_grad.png\">\n",
    "\n",
    "If an entire column is white, that's a dead neuron = initial values of W are such that all of the learning examples landed in the tail of the activation function, none in the active part\n",
    "\n",
    "Dead neuron\n",
    "- always activates by 1/-1 and never learns because the gradient gets zeroed out\n",
    "- neuron's weights and biases are such that it always outputs values close to zero, regardless of the input\n",
    "- takes no role in discriminating between inputs\n",
    "\n",
    "\n",
    "\"active part of the tanh\""
   ]
  },
  {
   "attachments": {},
   "cell_type": "markdown",
   "metadata": {},
   "source": [
    "### Other activation functions and vanishing gradient\n",
    "- tanh \n",
    "- sigmoid <br><img src=\"imgs/sigmoid_derivative.png\" width=150>\n",
    "- ReLU - d'(x) = 0 if x < 0 else 1 <br>\n",
    "If at least one input 𝑥∗ has our ReLU on the steep side, then the ReLU is still alive. Otherwise an unfortunate set of inputs can kill the neuron<br>\n",
    "Dead neurons can appear in the initialization or in the optimization with too large lr<br>\n",
    "<img src=\"imgs/relu_derivative.png\" width=150>\n",
    "- leaky ReLU - provides some learning even for negative examples, so the neuron can recover, no dead neurons\n",
    "- ELU has flat parts so the gradient may vanish\n",
    "\n",
    "<img src=\"imgs/act_functions.png\">\n"
   ]
  },
  {
   "attachments": {},
   "cell_type": "markdown",
   "metadata": {},
   "source": [
    "No/Preactivation\n",
    "```\n",
    "W1 = torch.randn((n_embed * block_size, n_hidden), generator=g) * 0.1\n",
    "b1 = torch.randn(n_hidden, generator=g) * 0.01\n",
    "W2 = torch.randn((n_hidden, vocab_size), generator=g) * 0.01\n",
    "b2 = torch.randn(vocab_size, generator=g) * 0\n",
    "```\n",
    "\n",
    "<img src=\"imgs/h_plot.png\" width=300>\n",
    "<img src=\"imgs/h_preact_plot.png\" width=300>\n",
    "<br>\n",
    "<img src=\"imgs/zero_grad.png\" width=300>\n",
    "<img src=\"imgs/tanh_preact.png\" width=300>\n",
    "\n",
    "```\n",
    "\n",
    "\n",
    "train 2.0390868186950684\n",
    "val 2.10430908203125\n",
    "```"
   ]
  },
  {
   "cell_type": "code",
   "execution_count": 7,
   "metadata": {},
   "outputs": [
    {
     "data": {
      "text/plain": [
       "[<matplotlib.lines.Line2D at 0x7fa53bec2440>]"
      ]
     },
     "execution_count": 7,
     "metadata": {},
     "output_type": "execute_result"
    },
    {
     "data": {
      "image/png": "[encoded data removed]",
      "text/plain": [
       "<Figure size 640x480 with 1 Axes>"
      ]
     },
     "metadata": {},
     "output_type": "display_data"
    }
   ],
   "source": [
    "plt.plot(lossi)"
   ]
  },
  {
   "cell_type": "code",
   "execution_count": 10,
   "metadata": {},
   "outputs": [
    {
     "name": "stdout",
     "output_type": "stream",
     "text": [
      "xivi.\n",
      "aya.\n",
      "teem.\n",
      "brigansh.\n",
      "abel.\n",
      "deme.\n",
      "myrriganni.\n",
      "maxxancone.\n",
      "tahaia.\n",
      "tubdiry.\n",
      "cauzuelen.\n",
      "azerick.\n",
      "ever.\n",
      "grann.\n",
      "atvi.\n",
      "julie.\n",
      "kari.\n",
      "aubrins.\n",
      "colaylona.\n",
      "jaydtoder.\n"
     ]
    }
   ],
   "source": [
    "for _ in range(20):\n",
    "    out = []\n",
    "    context = [0] * block_size\n",
    "    while True:\n",
    "        emb = C[torch.tensor([context])]\n",
    "        h = torch.tanh(emb.view(-1, 30) @ W1 + b1)\n",
    "        logits = h @ W2 + b2\n",
    "        probs = F.softmax(logits, dim=1)\n",
    "        ix = torch.multinomial(probs, num_samples=1).item()\n",
    "        context = context[1:] + [ix]\n",
    "        out.append(ix)\n",
    "        if ix == 0:\n",
    "            break\n",
    "    print(''.join(itos[i] for i in out))"
   ]
  },
  {
   "cell_type": "code",
   "execution_count": null,
   "metadata": {},
   "outputs": [],
   "source": []
  },
  {
   "cell_type": "code",
   "execution_count": null,
   "metadata": {},
   "outputs": [],
   "source": []
  },
  {
   "cell_type": "code",
   "execution_count": null,
   "metadata": {},
   "outputs": [],
   "source": []
  },
  {
   "cell_type": "code",
   "execution_count": null,
   "metadata": {},
   "outputs": [],
   "source": []
  },
  {
   "cell_type": "code",
   "execution_count": null,
   "metadata": {},
   "outputs": [],
   "source": []
  },
  {
   "cell_type": "code",
   "execution_count": null,
   "metadata": {},
   "outputs": [],
   "source": []
  },
  {
   "cell_type": "code",
   "execution_count": null,
   "metadata": {},
   "outputs": [],
   "source": []
  }
 ],
 "metadata": {
  "kernelspec": {
   "display_name": "nlp",
   "language": "python",
   "name": "nlp"
  },
  "language_info": {
   "codemirror_mode": {
    "name": "ipython",
    "version": 3
   },
   "file_extension": ".py",
   "mimetype": "text/x-python",
   "name": "python",
   "nbconvert_exporter": "python",
   "pygments_lexer": "ipython3",
   "version": "3.10.13 (main, Sep 11 2023, 08:39:02) [Clang 14.0.6 ]"
  },
  "orig_nbformat": 4
 },
 "nbformat": 4,
 "nbformat_minor": 2
}
