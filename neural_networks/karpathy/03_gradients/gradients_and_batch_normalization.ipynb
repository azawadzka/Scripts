{
 "cells": [
  {
   "attachments": {},
   "cell_type": "markdown",
   "metadata": {},
   "source": [
    "http://blog.ezyang.com/2019/05/pytorch-internals/"
   ]
  },
  {
   "cell_type": "code",
   "execution_count": 3,
   "metadata": {},
   "outputs": [],
   "source": [
    "import random\n",
    "\n",
    "import torch\n",
    "import torch.nn.functional as F\n",
    "import matplotlib.pyplot as plt"
   ]
  },
  {
   "cell_type": "code",
   "execution_count": 4,
   "metadata": {},
   "outputs": [
    {
     "data": {
      "text/plain": [
       "(32033, ['emma', 'olivia', 'ava', 'isabella', 'sophia'])"
      ]
     },
     "execution_count": 4,
     "metadata": {},
     "output_type": "execute_result"
    }
   ],
   "source": [
    "# Read dataset\n",
    "path_in = \"../data/names.txt\"\n",
    "with open(path_in, 'r') as fh:\n",
    "    words = fh.read().splitlines()\n",
    "len(words), words[:5]"
   ]
  },
  {
   "cell_type": "code",
   "execution_count": 5,
   "metadata": {},
   "outputs": [],
   "source": [
    "chars = sorted(list(set(''.join(words))))\n",
    "stoi = {s:i+1 for i, s in enumerate(chars)}\n",
    "stoi['.'] = 0\n",
    "itos = {i: s for s, i in stoi.items()}\n",
    "vocab_size = len(chars) + 1"
   ]
  },
  {
   "cell_type": "code",
   "execution_count": 6,
   "metadata": {},
   "outputs": [
    {
     "data": {
      "text/plain": [
       "(torch.Size([182625, 3]),\n",
       " torch.Size([182625]),\n",
       " torch.Size([22655, 3]),\n",
       " torch.Size([22655]),\n",
       " torch.Size([22866, 3]),\n",
       " torch.Size([22866]))"
      ]
     },
     "execution_count": 6,
     "metadata": {},
     "output_type": "execute_result"
    }
   ],
   "source": [
    "# build the dataset\n",
    "block_size = 3\n",
    "\n",
    "def build_dataset(words):\n",
    "    X, Y = [], []\n",
    "    for w in words:\n",
    "        context = [0] * block_size\n",
    "        for ch in w + '.':\n",
    "            ix = stoi[ch]\n",
    "            X.append(context)\n",
    "            Y.append(ix)\n",
    "            context = context[1:] + [ix]  # rolling window\n",
    "    return torch.tensor(X), torch.tensor(Y)\n",
    "\n",
    "random.seed(42)\n",
    "random.shuffle(words)\n",
    "n1 = int(0.8 * len(words))\n",
    "n2 = int(0.9 * len(words))\n",
    "Xtr,  Ytr  = build_dataset(words[:n1])\n",
    "Xval, Yval = build_dataset(words[n1:n2])\n",
    "Xte,  Yte  = build_dataset(words[n2:])\n",
    "Xtr.shape, Ytr.shape, Xval.shape, Yval.shape, Xte.shape, Yte.shape"
   ]
  },
  {
   "cell_type": "code",
   "execution_count": 16,
   "metadata": {},
   "outputs": [
    {
     "data": {
      "text/plain": [
       "12297"
      ]
     },
     "execution_count": 16,
     "metadata": {},
     "output_type": "execute_result"
    }
   ],
   "source": [
    "n_embed = 10\n",
    "n_hidden = 200\n",
    "norm = (5/3) / (n_embed * block_size)**0.5  # gain / sqrt(fan_in) for tanh (~0.304)\n",
    "\n",
    "g = torch.Generator().manual_seed(123)\n",
    "C = torch.randn((vocab_size, n_embed), generator=g)\n",
    "W1 = torch.randn((n_embed * block_size, n_hidden), generator=g) * norm # multiplier is std in gaussian dist\n",
    "b1 = torch.randn(n_hidden, generator=g) * 0.01\n",
    "W2 = torch.randn((n_hidden, vocab_size), generator=g) * 0.01\n",
    "b2 = torch.randn(vocab_size, generator=g) * 0\n",
    "\n",
    "parameters = [C, W1, b1, W2, b2]\n",
    "for p in parameters:\n",
    "    p.requires_grad = True\n",
    "lossi = []\n",
    "sum(p.nelement() for p in parameters)"
   ]
  },
  {
   "cell_type": "code",
   "execution_count": 17,
   "metadata": {},
   "outputs": [
    {
     "name": "stdout",
     "output_type": "stream",
     "text": [
      "0 3.2828545570373535\n",
      "10000 2.3238601684570312\n",
      "20000 2.1940035820007324\n",
      "30000 2.2890875339508057\n",
      "40000 1.9838471412658691\n",
      "50000 2.109973430633545\n",
      "60000 2.329263687133789\n",
      "70000 2.083801031112671\n",
      "80000 1.8837789297103882\n",
      "90000 2.0472919940948486\n",
      "100000 1.9571903944015503\n",
      "110000 1.9651447534561157\n",
      "120000 2.2203545570373535\n",
      "130000 2.0446901321411133\n",
      "140000 2.0736024379730225\n",
      "150000 2.087930679321289\n",
      "160000 2.1019959449768066\n",
      "170000 1.7698570489883423\n",
      "180000 2.282078504562378\n",
      "190000 2.109114408493042\n"
     ]
    }
   ],
   "source": [
    "max_steps = 200_000\n",
    "batch_size = 32\n",
    "\n",
    "for i in range(max_steps):\n",
    "    # minibatch\n",
    "    ix = torch.randint(0, Xtr.shape[0], (batch_size,))\n",
    "    Xb, Yb = Xtr[ix], Ytr[ix]\n",
    "\n",
    "    # forward pass\n",
    "    emb = C[Xb]\n",
    "    embcat = emb.view(emb.shape[0], -1)\n",
    "    hpreact = embcat @ W1 + b1\n",
    "    hpreact = hpreact - hpreact.mean(0, keepdim=True) / hpreact.std(0, keepdim=True)\n",
    "    h = torch.tanh(hpreact)\n",
    "    logits = h @ W2 + b2\n",
    "    loss = F.cross_entropy(logits, Yb)\n",
    "\n",
    "    # backward pass\n",
    "    for p in parameters:\n",
    "        p.grad = None\n",
    "    loss.backward()\n",
    "\n",
    "    # update\n",
    "    lr = 0.1 if i < 100_000 else 0.01\n",
    "    for p in parameters:\n",
    "        p.data += -lr * p.grad\n",
    "\n",
    "    if i % 10_000 == 0:\n",
    "        print(i, loss.item())\n",
    "    lossi.append(loss.log10().item())\n",
    "    # break\n",
    "    "
   ]
  },
  {
   "cell_type": "code",
   "execution_count": 7,
   "metadata": {},
   "outputs": [
    {
     "data": {
      "text/plain": [
       "[<matplotlib.lines.Line2D at 0x7fa53bec2440>]"
      ]
     },
     "execution_count": 7,
     "metadata": {},
     "output_type": "execute_result"
    },
    {
     "data": {
      "image/png": "[encoded data removed]",
      "text/plain": [
       "<Figure size 640x480 with 1 Axes>"
      ]
     },
     "metadata": {},
     "output_type": "display_data"
    }
   ],
   "source": [
    "plt.plot(lossi)"
   ]
  },
  {
   "cell_type": "code",
   "execution_count": 18,
   "metadata": {},
   "outputs": [
    {
     "name": "stdout",
     "output_type": "stream",
     "text": [
      "train 2.197749614715576\n",
      "val 2.268731117248535\n"
     ]
    },
    {
     "data": {
      "text/plain": [
       "(None, None)"
      ]
     },
     "execution_count": 18,
     "metadata": {},
     "output_type": "execute_result"
    }
   ],
   "source": [
    "@torch.no_grad()\n",
    "def split_loss(split):\n",
    "    x, y = {\n",
    "        'train': (Xtr, Ytr),\n",
    "        'val': (Xval, Yval),\n",
    "        'test': (Xte, Yte),\n",
    "    }[split]\n",
    "    emb = C[x]\n",
    "    embcat = emb.view(emb.shape[0], -1)\n",
    "    hpreact = embcat @ W1 + b1\n",
    "    hpreact = bngain * (hpreact - hpreact.mean(0, keepdim=True) / hpreact.std(0, keepdim=True)) + bnbias\n",
    "    h = torch.tanh(embcat @ W1 + b1)\n",
    "    logits = h @ W2 + b2\n",
    "    loss = F.cross_entropy(logits, y)\n",
    "    print(split, loss.item())\n",
    "    \n",
    "split_loss('train'), split_loss('val')"
   ]
  },
  {
   "attachments": {},
   "cell_type": "markdown",
   "metadata": {},
   "source": [
    "```\n",
    "no weights normalization:\n",
    "train 2.1127920150756836\n",
    "val 2.1546456813812256\n",
    "\n",
    "0.2 norm on W1 \n",
    "train 2.0390868186950684\n",
    "val 2.10430908203125\n",
    "\n",
    "gain/sqrt(dim) norm (~0.304) on W1\n",
    "train 2.0411272048950195\n",
    "val 2.105909585952759\n",
    "\n",
    "batch norm (bad score - maybe too few layers)\n",
    "train 2.197749614715576\n",
    "val 2.268731117248535\n",
    "```"
   ]
  },
  {
   "cell_type": "code",
   "execution_count": 47,
   "metadata": {},
   "outputs": [
    {
     "data": {
      "text/plain": [
       "(array([258., 185., 181., 151., 155., 141., 147., 130., 146., 119., 123.,\n",
       "        114., 120., 130.,  99., 115., 103., 130., 110.,  96., 123., 101.,\n",
       "        113., 122.,  92., 111., 117.,  97., 106., 106., 115.,  91., 121.,\n",
       "        111.,  93.,  97., 111., 128., 117., 107., 132., 125., 131., 106.,\n",
       "        122., 152., 142., 172., 193., 193.]),\n",
       " array([-9.99716520e-01, -9.59723521e-01, -9.19730523e-01, -8.79737524e-01,\n",
       "        -8.39744525e-01, -7.99751526e-01, -7.59758527e-01, -7.19765528e-01,\n",
       "        -6.79772530e-01, -6.39779531e-01, -5.99786532e-01, -5.59793533e-01,\n",
       "        -5.19800534e-01, -4.79807535e-01, -4.39814537e-01, -3.99821538e-01,\n",
       "        -3.59828539e-01, -3.19835540e-01, -2.79842541e-01, -2.39849542e-01,\n",
       "        -1.99856544e-01, -1.59863545e-01, -1.19870546e-01, -7.98775470e-02,\n",
       "        -3.98845482e-02,  1.08450651e-04,  4.01014495e-02,  8.00944483e-02,\n",
       "         1.20087447e-01,  1.60080446e-01,  2.00073445e-01,  2.40066444e-01,\n",
       "         2.80059443e-01,  3.20052441e-01,  3.60045440e-01,  4.00038439e-01,\n",
       "         4.40031438e-01,  4.80024437e-01,  5.20017436e-01,  5.60010434e-01,\n",
       "         6.00003433e-01,  6.39996432e-01,  6.79989431e-01,  7.19982430e-01,\n",
       "         7.59975429e-01,  7.99968427e-01,  8.39961426e-01,  8.79954425e-01,\n",
       "         9.19947424e-01,  9.59940423e-01,  9.99933422e-01]),\n",
       " <BarContainer object of 50 artists>)"
      ]
     },
     "execution_count": 47,
     "metadata": {},
     "output_type": "execute_result"
    },
    {
     "data": {
      "image/png": "[encoded data removed]",
      "text/plain": [
       "<Figure size 640x480 with 1 Axes>"
      ]
     },
     "metadata": {},
     "output_type": "display_data"
    }
   ],
   "source": [
    "# distribution of h = post-activation\n",
    "plt.hist(h.view(-1).tolist(), bins=50)"
   ]
  },
  {
   "cell_type": "code",
   "execution_count": 44,
   "metadata": {},
   "outputs": [
    {
     "data": {
      "text/plain": [
       "<matplotlib.image.AxesImage at 0x7fa53ce59d50>"
      ]
     },
     "execution_count": 44,
     "metadata": {},
     "output_type": "execute_result"
    },
    {
     "data": {
      "image/png": "[encoded data removed]",
      "text/plain": [
       "<Figure size 2000x1000 with 1 Axes>"
      ]
     },
     "metadata": {},
     "output_type": "display_data"
    }
   ],
   "source": [
    "plt.figure(figsize=(20,10))\n",
    "plt.imshow(h.abs() > 0.99, cmap='gray', interpolation='nearest')"
   ]
  },
  {
   "attachments": {},
   "cell_type": "markdown",
   "metadata": {},
   "source": [
    "### Vanishing gradient\n",
    "Since the gradients have values close to 1/-1 in most cases, they are going to zero out the gradient in the derivative of tanh. So **the neuron will not learn**. Distribution of h = post-activation:\n",
    "\n",
    "<img src=\"imgs/h_plot.png\" width=300>\n",
    "\n",
    "<img src=\"imgs/tanh.png\">\n",
    "\n",
    "The white gradients will be zero:\n",
    "\n",
    "<img src=\"imgs/zero_grad.png\">\n",
    "\n",
    "If an entire column is white, that's a dead neuron = initial values of W are such that all of the learning examples landed in the tail of the activation function, none in the active part\n",
    "\n",
    "Dead neuron\n",
    "- always activates by 1/-1 and never learns because the gradient gets zeroed out\n",
    "- neuron's weights and biases are such that it always outputs values close to zero, regardless of the input\n",
    "- takes no role in discriminating between inputs\n",
    "\n",
    "\n",
    "\"active part of the tanh\""
   ]
  },
  {
   "attachments": {},
   "cell_type": "markdown",
   "metadata": {},
   "source": [
    "### Other activation functions and vanishing gradient\n",
    "- tanh \n",
    "- sigmoid <br><img src=\"imgs/sigmoid_derivative.png\" width=150>\n",
    "- ReLU - d'(x) = 0 if x < 0 else 1 <br>\n",
    "If at least one input 𝑥∗ has our ReLU on the steep side, then the ReLU is still alive. Otherwise an unfortunate set of inputs can kill the neuron<br>\n",
    "Dead neurons can appear in the initialization or in the optimization with too large lr<br>\n",
    "<img src=\"imgs/relu_derivative.png\" width=150>\n",
    "- leaky ReLU - provides some learning even for negative examples, so the neuron can recover, no dead neurons\n",
    "- ELU has flat parts so the gradient may vanish\n",
    "\n",
    "<img src=\"imgs/act_functions.png\">\n"
   ]
  },
  {
   "attachments": {},
   "cell_type": "markdown",
   "metadata": {},
   "source": [
    "No/Preactivation\n",
    "```\n",
    "W1 = torch.randn((n_embed * block_size, n_hidden), generator=g) * 0.1\n",
    "b1 = torch.randn(n_hidden, generator=g) * 0.01\n",
    "W2 = torch.randn((n_hidden, vocab_size), generator=g) * 0.01\n",
    "b2 = torch.randn(vocab_size, generator=g) * 0\n",
    "```\n",
    "\n",
    "<img src=\"imgs/h_plot.png\" width=300>\n",
    "<img src=\"imgs/h_preact_plot.png\" width=300>\n",
    "<br>\n",
    "<img src=\"imgs/zero_grad.png\" width=300>\n",
    "<img src=\"imgs/tanh_preact.png\" width=300>"
   ]
  },
  {
   "attachments": {},
   "cell_type": "markdown",
   "metadata": {},
   "source": [
    "### How to best initialize the weights of NNs?\n",
    "\n",
    "Target: activations 0 mean, 1 std\n",
    "\n",
    "The mean and the std should be the same before and after the multiplicaiton of inputs by weights. This is mathematically achieved by dividing by sqrt of inputs dimensionality.\n",
    "\n",
    "Activation functions squeeze the values, so they need normalization to preserve the distribution\n",
    "\n",
    "Usually after normalizing the forward pass, the backwards pass is normalized too\n",
    "\n",
    "In ReLU we discard half of the inputs (negative), so the weights should be additionally doubled for the std of values after activation to remain the same as inputs (?) \n",
    "\n",
    "ReLU paper: Delving Deep into Rectifiers:- Surpassing Human-Level Performance on ImageNet Classification\n",
    "\n",
    "To rewatch ~25-35\n",
    "\n",
    "Kaiming normal is currently the most function way to initialize weights\n",
    "\n",
    "https://pytorch.org/docs/stable/nn.init.html#torch.nn.init.kaiming_normal_\n",
    "\n",
    "This is overdue, newer techniques have pushed out these problems: residual connections, batch normalization, layer normalization, better optimizers (Adam)\n",
    "\n",
    "<img src=\"imgs/sqrt.png\">\n",
    " "
   ]
  },
  {
   "attachments": {},
   "cell_type": "markdown",
   "metadata": {},
   "source": [
    "### Batch normalization\n",
    "- centers hidden layer towards gaussian distribution to make it reasonalbe input for activation function\n",
    "- applied directly after linear or convolution layer\n",
    "- after layers that have multiplication (linear, conv)\n",
    "- careful init of weights no longer necessary\n",
    "- mean -> all examples participate in each other's training, \n",
    "    - mathematical coupling of examples within batch, no longer independent - BAD\n",
    "    - positive side effect - jitter is added so the net doesn't overfit to the examples, **regularization**. Turned out to be very good!\n",
    "- a bias added before batch normalization is later subtracted because of mean, so it's redundant\n",
    "- semantics of BN\n",
    "    - centering using gaussian by running stats - `bnmean`, `bnstd`\n",
    "    - offsetting and spreading by learned parameters - `bngain`, `bnbias`\n",
    "- pytorch - `nn.BatchNorm2d`\n",
    "\n",
    "<img src=\"imgs/bnorm.png\">"
   ]
  },
  {
   "cell_type": "code",
   "execution_count": 25,
   "metadata": {},
   "outputs": [
    {
     "data": {
      "text/plain": [
       "12297"
      ]
     },
     "execution_count": 25,
     "metadata": {},
     "output_type": "execute_result"
    }
   ],
   "source": [
    "# batch normalization\n",
    "n_embed = 10\n",
    "n_hidden = 200\n",
    "norm = (5/3) / (n_embed * block_size)**0.5\n",
    "\n",
    "g = torch.Generator().manual_seed(123)\n",
    "C = torch.randn((vocab_size, n_embed), generator=g)\n",
    "W1 = torch.randn((n_embed * block_size, n_hidden), generator=g) * norm\n",
    "# b1 = torch.randn(n_hidden, generator=g) * 0.01\n",
    "W2 = torch.randn((n_hidden, vocab_size), generator=g) * 0.01\n",
    "b2 = torch.randn(vocab_size, generator=g) * 0\n",
    "\n",
    "# batch normalization -> makes hidden layer converge towards gaussian\n",
    "# trained parameters\n",
    "bngain = torch.ones((1, n_hidden))\n",
    "bnbias = torch.zeros((1, n_hidden))\n",
    "# buffers\n",
    "bnmean_running = torch.zeros((1, n_hidden))\n",
    "bnstd_running  = torch.ones((1, n_hidden))\n",
    "\n",
    "parameters = [C, W1, b1, W2, b2, bngain, bnbias]\n",
    "for p in parameters:\n",
    "    p.requires_grad = True\n",
    "lossi = []\n",
    "sum(p.nelement() for p in parameters)"
   ]
  },
  {
   "cell_type": "code",
   "execution_count": 32,
   "metadata": {},
   "outputs": [
    {
     "name": "stdout",
     "output_type": "stream",
     "text": [
      "0 2.0142924785614014\n",
      "10000 2.056804895401001\n",
      "20000 2.625791549682617\n",
      "30000 2.4702720642089844\n",
      "40000 2.2112817764282227\n",
      "50000 2.0888419151306152\n",
      "60000 2.0426926612854004\n",
      "70000 1.8406506776809692\n",
      "80000 2.01623797416687\n",
      "90000 2.057476282119751\n",
      "100000 1.8070815801620483\n",
      "110000 1.9362506866455078\n",
      "120000 1.6732207536697388\n",
      "130000 1.4796684980392456\n",
      "140000 2.070242166519165\n",
      "150000 2.500936985015869\n",
      "160000 1.9549190998077393\n",
      "170000 2.105572462081909\n",
      "180000 2.264915704727173\n",
      "190000 2.2870426177978516\n"
     ]
    },
    {
     "data": {
      "text/plain": [
       "[<matplotlib.lines.Line2D at 0x7ff4cfa937f0>]"
      ]
     },
     "execution_count": 32,
     "metadata": {},
     "output_type": "execute_result"
    },
    {
     "data": {
      "image/png": "[encoded data removed]",
      "text/plain": [
       "<Figure size 640x480 with 1 Axes>"
      ]
     },
     "metadata": {},
     "output_type": "display_data"
    }
   ],
   "source": [
    "max_steps = 200_000\n",
    "batch_size = 32\n",
    "epsilon = 0.00001\n",
    "\n",
    "for i in range(max_steps):\n",
    "    # minibatch\n",
    "    ix = torch.randint(0, Xtr.shape[0], (batch_size,))\n",
    "    Xb, Yb = Xtr[ix], Ytr[ix]\n",
    "\n",
    "    # forward pass\n",
    "    emb = C[Xb]\n",
    "    embcat = emb.view(emb.shape[0], -1)\n",
    "    hpreact = embcat @ W1 #+ b1 # wasteful bias with no gradient whatsoever\n",
    "    bnmeani = hpreact.mean(0, keepdim=True)\n",
    "    bnstdi = hpreact.std(0, keepdim=True)\n",
    "    hpreact = bngain * (hpreact - bnmeani / (bnstdi + epsilon)) + bnbias # batch normalization\n",
    "\n",
    "    # solution 2:\n",
    "    with torch.no_grad(): # running mean update\n",
    "        bnmean_running = 0.999 * bnmean_running + 0.001 * bnmeani # momentum = 0.001\n",
    "        bnstd_running  = 0.999 * bnstd_running  + 0.001 * bnstdi\n",
    "\n",
    "    h = torch.tanh(hpreact)\n",
    "    logits = h @ W2 + b2\n",
    "    loss = F.cross_entropy(logits, Yb)\n",
    "\n",
    "    # backward pass\n",
    "    for p in parameters:\n",
    "        p.grad = None\n",
    "    loss.backward()\n",
    "\n",
    "    # update\n",
    "    lr = 0.1 if i < 100_000 else 0.01\n",
    "    for p in parameters:\n",
    "        p.data += -lr * p.grad\n",
    "\n",
    "    if i % 10_000 == 0:\n",
    "        print(i, loss.item())\n",
    "    lossi.append(loss.log10().item())\n",
    "    \n",
    "plt.plot(lossi)"
   ]
  },
  {
   "cell_type": "code",
   "execution_count": 19,
   "metadata": {},
   "outputs": [],
   "source": [
    "# problem: the batch normalization required a batch of examples so it was impossible to process single one\n",
    "# solution 1: compute bnmean and bnstd on the entire dataset\n",
    "# solution 2: introduce bnmean_running and bnstd_running in training\n",
    "\n",
    "# solution 1:\n",
    "with torch.no_grad():\n",
    "    # on all training set\n",
    "    emb = C[Xtr]\n",
    "    embcat = emb.view(emb.shape[0], -1)\n",
    "    hpreact = embcat @ W1 + b1\n",
    "    bnmean = hpreact.mean(0, keepdim=True)\n",
    "    bnstd = hpreact.std(0, keepdim=True)"
   ]
  },
  {
   "cell_type": "code",
   "execution_count": 31,
   "metadata": {},
   "outputs": [
    {
     "name": "stdout",
     "output_type": "stream",
     "text": [
      "train 2.214567184448242\n",
      "val 2.2895219326019287\n"
     ]
    },
    {
     "data": {
      "text/plain": [
       "(None, None)"
      ]
     },
     "execution_count": 31,
     "metadata": {},
     "output_type": "execute_result"
    }
   ],
   "source": [
    "@torch.no_grad()\n",
    "def split_loss(split):\n",
    "    x, y = {\n",
    "        'train': (Xtr, Ytr),\n",
    "        'val': (Xval, Yval),\n",
    "        'test': (Xte, Yte),\n",
    "    }[split]\n",
    "    emb = C[x]\n",
    "    embcat = emb.view(emb.shape[0], -1)\n",
    "    hpreact = embcat @ W1 + b1\n",
    "    # hpreact = bngain * (hpreact - bnmean / bnstd) + bnbias\n",
    "    hpreact = bngain * (hpreact - bnmean_running / (bnstd_running + epsilon)) + bnbias\n",
    "    h = torch.tanh(embcat @ W1 + b1)\n",
    "    logits = h @ W2 + b2\n",
    "    loss = F.cross_entropy(logits, y)\n",
    "    print(split, loss.item())\n",
    "    \n",
    "split_loss('train'), split_loss('val')"
   ]
  },
  {
   "attachments": {},
   "cell_type": "markdown",
   "metadata": {},
   "source": [
    "### ResNet - Residual Neural Network \n",
    "- for image classification\n",
    "- [conv + batchnorm + relu] * 3 stacked layers\n",
    "- https://github.com/pytorch/vision/blob/main/torchvision/models/resnet.py"
   ]
  },
  {
   "cell_type": "code",
   "execution_count": 10,
   "metadata": {},
   "outputs": [
    {
     "name": "stdout",
     "output_type": "stream",
     "text": [
      "xivi.\n",
      "aya.\n",
      "teem.\n",
      "brigansh.\n",
      "abel.\n",
      "deme.\n",
      "myrriganni.\n",
      "maxxancone.\n",
      "tahaia.\n",
      "tubdiry.\n",
      "cauzuelen.\n",
      "azerick.\n",
      "ever.\n",
      "grann.\n",
      "atvi.\n",
      "julie.\n",
      "kari.\n",
      "aubrins.\n",
      "colaylona.\n",
      "jaydtoder.\n"
     ]
    }
   ],
   "source": [
    "for _ in range(20):\n",
    "    out = []\n",
    "    context = [0] * block_size\n",
    "    while True:\n",
    "        emb = C[torch.tensor([context])]\n",
    "        h = torch.tanh(emb.view(-1, 30) @ W1 + b1)\n",
    "        logits = h @ W2 + b2\n",
    "        probs = F.softmax(logits, dim=1)\n",
    "        ix = torch.multinomial(probs, num_samples=1).item()\n",
    "        context = context[1:] + [ix]\n",
    "        out.append(ix)\n",
    "        if ix == 0:\n",
    "            break\n",
    "    print(''.join(itos[i] for i in out))"
   ]
  },
  {
   "cell_type": "code",
   "execution_count": null,
   "metadata": {},
   "outputs": [],
   "source": []
  },
  {
   "cell_type": "code",
   "execution_count": null,
   "metadata": {},
   "outputs": [],
   "source": []
  },
  {
   "cell_type": "code",
   "execution_count": null,
   "metadata": {},
   "outputs": [],
   "source": []
  }
 ],
 "metadata": {
  "kernelspec": {
   "display_name": "nlp",
   "language": "python",
   "name": "nlp"
  },
  "language_info": {
   "codemirror_mode": {
    "name": "ipython",
    "version": 3
   },
   "file_extension": ".py",
   "mimetype": "text/x-python",
   "name": "python",
   "nbconvert_exporter": "python",
   "pygments_lexer": "ipython3",
   "version": "3.10.13 (main, Sep 11 2023, 08:39:02) [Clang 14.0.6 ]"
  },
  "orig_nbformat": 4
 },
 "nbformat": 4,
 "nbformat_minor": 2
}
