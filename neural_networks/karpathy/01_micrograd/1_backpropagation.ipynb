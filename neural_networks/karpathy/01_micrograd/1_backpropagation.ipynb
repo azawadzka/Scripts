{
 "cells": [
  {
   "cell_type": "markdown",
   "metadata": {},
   "source": [
    "The spelled-out intro to neural networks and backpropagation: building micrograd\n",
    "\n",
    "https://www.youtube.com/watch?v=VMj-3S1tku0"
   ]
  },
  {
   "cell_type": "code",
   "execution_count": 44,
   "metadata": {},
   "outputs": [],
   "source": [
    "from __future__ import annotations\n",
    "\n",
    "import math\n",
    "\n",
    "import matplotlib.pyplot as plt\n",
    "import numpy as np\n",
    "import torch"
   ]
  },
  {
   "cell_type": "code",
   "execution_count": null,
   "metadata": {},
   "outputs": [
    {
     "data": {
      "text/plain": [
       "30"
      ]
     },
     "execution_count": 2,
     "metadata": {},
     "output_type": "execute_result"
    }
   ],
   "source": [
    "def f(x):\n",
    "    return 2*x**2 + 3*x + 3\n",
    "f(3)"
   ]
  },
  {
   "cell_type": "code",
   "execution_count": 3,
   "metadata": {},
   "outputs": [
    {
     "data": {
      "text/plain": [
       "[<matplotlib.lines.Line2D at 0x7fdf2bb76560>]"
      ]
     },
     "execution_count": 3,
     "metadata": {},
     "output_type": "execute_result"
    },
    {
     "data": {
      "image/png": "[encoded data removed]",
      "text/plain": [
       "<Figure size 640x480 with 1 Axes>"
      ]
     },
     "metadata": {},
     "output_type": "display_data"
    }
   ],
   "source": [
    "xs = np.arange(-5, 5, 0.25)\n",
    "ys = f(xs)\n",
    "plt.plot(xs, ys)"
   ]
  },
  {
   "attachments": {},
   "cell_type": "markdown",
   "metadata": {},
   "source": [
    "## Derivative\n",
    "<img src=\"imgs/derivative.png\">\n",
    "\n",
    "- with what sensitivity does the function respond? "
   ]
  },
  {
   "cell_type": "code",
   "execution_count": 4,
   "metadata": {},
   "outputs": [
    {
     "data": {
      "text/plain": [
       "15.00002000014433"
      ]
     },
     "execution_count": 4,
     "metadata": {},
     "output_type": "execute_result"
    }
   ],
   "source": [
    "h = 0.00001\n",
    "x = 3\n",
    "(f(x+h) - f(x)) / h"
   ]
  },
  {
   "cell_type": "code",
   "execution_count": 5,
   "metadata": {},
   "outputs": [
    {
     "data": {
      "text/plain": [
       "-13.00000000981072"
      ]
     },
     "execution_count": 5,
     "metadata": {},
     "output_type": "execute_result"
    }
   ],
   "source": [
    "h = 0.00000001\n",
    "x = -4\n",
    "(f(x+h) - f(x)) / h"
   ]
  },
  {
   "cell_type": "code",
   "execution_count": 6,
   "metadata": {},
   "outputs": [
    {
     "data": {
      "text/plain": [
       "-3.000000000064062"
      ]
     },
     "execution_count": 6,
     "metadata": {},
     "output_type": "execute_result"
    }
   ],
   "source": [
    "h = 0.00001\n",
    "\n",
    "a = 2\n",
    "b = -3\n",
    "c = 4\n",
    "\n",
    "d1 = a * b + c\n",
    "a += h\n",
    "# b += h\n",
    "# c += h\n",
    "d2 = a * b + c\n",
    "\n",
    "(d2 - d1) / h"
   ]
  },
  {
   "cell_type": "code",
   "execution_count": 74,
   "metadata": {},
   "outputs": [
    {
     "name": "stdout",
     "output_type": "stream",
     "text": [
      "Value(1) + Value(1) = Value(data=2)\n",
      "Value(1) + 1 = Value(data=2)\n",
      "1 + Value(1) = Value(data=2)\n",
      "Value(2) * Value(3) = Value(data=6)\n",
      "Value(2) * 3 = Value(data=6)\n",
      "2 * Value(3) = Value(data=6)\n",
      "Value(3).exp() = Value(data=20.085536923187668)\n",
      "Value(2) / Value(3) = Value(data=0.6666666666666666)\n",
      "Value(2) / 3 = Value(data=0.6666666666666666)\n",
      "2 / Value(3) = Value(data=0.6666666666666666)\n",
      "Value(3) ** 2 = Value(data=9)\n",
      "Value(2) - Value(3) = Value(data=-1)\n",
      "Value(2) - 3 = Value(data=-1)\n",
      "2 - Value(3) = Value(data=-1)\n"
     ]
    }
   ],
   "source": [
    "class Value:\n",
    "     def __init__(self, data, _children=(), _op='', label='') -> None:\n",
    "          self.data = data\n",
    "          self.grad = 0.0\n",
    "          self._backward = lambda: None\n",
    "          self._prev = set(_children)\n",
    "          self._op = _op\n",
    "          self.label = label\n",
    "\n",
    "     def __repr__(self) -> str:\n",
    "          return f\"Value(data={self.data})\"\n",
    "\n",
    "     def __add__(self, other: Value) -> Value:\n",
    "          other = other if isinstance(other, Value) else Value(other)\n",
    "          out = Value(self.data + other.data, (self, other), \"+\")\n",
    "          def _backward():\n",
    "               self.grad += 1.0 * out.grad\n",
    "               other.grad += 1.0 * out.grad\n",
    "          out._backward = _backward\n",
    "          return out\n",
    "     \n",
    "     def __radd__(self, other):\n",
    "          return self + other\n",
    "     \n",
    "     def __sub__(self, other: Value) -> Value:\n",
    "          return self + -1*other\n",
    "     \n",
    "     def __rsub__(self, other):\n",
    "          return -1*self + other\n",
    "     \n",
    "     def __mul__(self, other: Value) -> Value:\n",
    "          other = other if isinstance(other, Value) else Value(other)\n",
    "          out = Value(self.data * other.data, (self, other), \"*\")\n",
    "          def _backward():\n",
    "               self.grad += other.data * out.grad\n",
    "               other.grad += self.data * out.grad\n",
    "          out._backward = _backward\n",
    "          return out \n",
    "     \n",
    "     def __rmul__(self, other) -> Value:\n",
    "          return self * other\n",
    "     \n",
    "     def __pow__(self, other):\n",
    "          assert isinstance(other, (int, float))\n",
    "          out = Value(self.data**other, (self, ), f\"**{other}\")\n",
    "          def _backward():\n",
    "               self.grad += other * self.data**(other - 1) * out.grad\n",
    "          out._backward = _backward\n",
    "          return out\n",
    "     \n",
    "     def __truediv__(self, other):\n",
    "          return self * other**-1\n",
    "     \n",
    "     def __rtruediv__(self, other):\n",
    "          return self**-1 * other\n",
    "     \n",
    "     def tanh(self) -> Value:\n",
    "          x = self.data\n",
    "          t = (math.exp(2*x) - 1)/(math.exp(2*x) + 1)\n",
    "          out = Value(t, (self, ), \"tanh\")\n",
    "          def _backward():\n",
    "               self.grad += (1 - t**2) * out.grad\n",
    "          out._backward = _backward\n",
    "          return out\n",
    "     \n",
    "     def exp(self):\n",
    "          x = self.data\n",
    "          out = Value(math.exp(x), (self, ), 'exp')\n",
    "          def _backward():\n",
    "               self.grad += out.data * out.grad\n",
    "          out._backward = _backward\n",
    "          return out\n",
    "     \n",
    "     def backward(self):\n",
    "          topo = []\n",
    "          visited = set()\n",
    "          def build_topo(v):\n",
    "               if v not in visited:\n",
    "                    visited.add(v)\n",
    "                    for child in v._prev:\n",
    "                         build_topo(child)\n",
    "                    topo.append(v)\n",
    "          build_topo(self)\n",
    "\n",
    "          self.grad = 1.0\n",
    "          for node in reversed(topo):\n",
    "               node._backward()\n",
    "     \n",
    "     \n",
    "print(f\"{Value(1) + Value(1) = }\")\n",
    "print(f\"{Value(1) + 1 = }\")\n",
    "print(f\"{1 + Value(1) = }\")\n",
    "\n",
    "print(f\"{Value(2) * Value(3) = }\")\n",
    "print(f\"{Value(2) * 3 = }\")\n",
    "print(f\"{2 * Value(3) = }\")\n",
    "\n",
    "print(f\"{Value(3).exp() = }\")\n",
    "\n",
    "print(f\"{Value(2) / Value(3) = }\")\n",
    "print(f\"{Value(2) / 3 = }\")\n",
    "print(f\"{2 / Value(3) = }\")\n",
    "\n",
    "print(f\"{Value(3) ** 2 = }\")\n",
    "\n",
    "print(f\"{Value(2) - Value(3) = }\")\n",
    "print(f\"{Value(2) - 3 = }\")\n",
    "print(f\"{2 - Value(3) = }\")\n"
   ]
  },
  {
   "cell_type": "code",
   "execution_count": null,
   "metadata": {},
   "outputs": [],
   "source": [
    "a = Value(2.0, label=\"a\")\n",
    "b = Value(-3.0, label=\"b\")\n",
    "c = Value(10.0, label=\"c\")\n",
    "e = a * b; e.label = \"e\"\n",
    "d = e + c; d.label = \"d\"\n",
    "f = Value(-2.0, label=\"f\")\n",
    "L = d * f; L.label = \"L\"\n",
    "L"
   ]
  },
  {
   "cell_type": "code",
   "execution_count": null,
   "metadata": {},
   "outputs": [],
   "source": [
    "!pip install graphviz\n",
    "!brew install graphviz"
   ]
  },
  {
   "cell_type": "code",
   "execution_count": 42,
   "metadata": {},
   "outputs": [],
   "source": [
    "from graphviz import Digraph\n",
    "\n",
    "def trace(root: Value):\n",
    "    nodes, edges = set(), set()\n",
    "    def build(v: Value):\n",
    "        nodes.add(v)\n",
    "        for child in v._prev:\n",
    "            edges.add((child, v))\n",
    "            build(child)\n",
    "    build(root)\n",
    "    return nodes, edges\n",
    "\n",
    "def draw_dot(root: Value):\n",
    "    dot = Digraph(format='svg', graph_attr={'rankdir': 'LR'}) # left to right\n",
    "    nodes, edges = trace(root)\n",
    "    for n in nodes:\n",
    "        uid = str(id(n))\n",
    "        dot.node(name=uid, label=\"{%s | data %.4f | grad %.4f}\" % (n.label, n.data, n.grad), shape='record')\n",
    "        if n._op:\n",
    "            dot.node(name=uid+n._op, label=n._op)\n",
    "            dot.edge(uid+n._op, uid)\n",
    "    for n1, n2 in edges:\n",
    "        dot.edge(str(id(n1)), str(id(n2)) + n2._op)\n",
    "\n",
    "    return dot"
   ]
  },
  {
   "cell_type": "code",
   "execution_count": 43,
   "metadata": {},
   "outputs": [
    {
     "data": {
      "image/svg+xml": "<?xml version=\"1.0\" encoding=\"UTF-8\" standalone=\"no\"?>\n<!DOCTYPE svg PUBLIC \"-//W3C//DTD SVG 1.1//EN\"\n \"http://www.w3.org/Graphics/SVG/1.1/DTD/svg11.dtd\">\n<!-- Generated by graphviz version 10.0.1 (20240210.2158)\n -->\n<!-- Pages: 1 -->\n<svg width=\"1140pt\" height=\"128pt\"\n viewBox=\"0.00 0.00 1139.75 128.00\" xmlns=\"http://www.w3.org/2000/svg\" xmlns:xlink=\"http://www.w3.org/1999/xlink\">\n<g id=\"graph0\" class=\"graph\" transform=\"scale(1 1) rotate(0) translate(4 124)\">\n<polygon fill=\"white\" stroke=\"none\" points=\"-4,4 -4,-124 1135.75,-124 1135.75,4 -4,4\"/>\n<!-- 140596512149120 -->\n<g id=\"node1\" class=\"node\">\n<title>140596512149120</title>\n<polygon fill=\"none\" stroke=\"black\" points=\"942,-54.5 942,-90.5 1131.75,-90.5 1131.75,-54.5 942,-54.5\"/>\n<text text-anchor=\"middle\" x=\"954.12\" y=\"-67.7\" font-family=\"Times,serif\" font-size=\"14.00\">L</text>\n<polyline fill=\"none\" stroke=\"black\" points=\"966.25,-55 966.25,-90.5\"/>\n<text text-anchor=\"middle\" x=\"1008.38\" y=\"-67.7\" font-family=\"Times,serif\" font-size=\"14.00\">data &#45;8.0000</text>\n<polyline fill=\"none\" stroke=\"black\" points=\"1050.5,-55 1050.5,-90.5\"/>\n<text text-anchor=\"middle\" x=\"1091.12\" y=\"-67.7\" font-family=\"Times,serif\" font-size=\"14.00\">grad 0.0000</text>\n</g>\n<!-- 140596512149120* -->\n<g id=\"node2\" class=\"node\">\n<title>140596512149120*</title>\n<ellipse fill=\"none\" stroke=\"black\" cx=\"879\" cy=\"-72.5\" rx=\"27\" ry=\"18\"/>\n<text text-anchor=\"middle\" x=\"879\" y=\"-67.45\" font-family=\"Times,serif\" font-size=\"14.00\">*</text>\n</g>\n<!-- 140596512149120*&#45;&gt;140596512149120 -->\n<g id=\"edge1\" class=\"edge\">\n<title>140596512149120*&#45;&gt;140596512149120</title>\n<path fill=\"none\" stroke=\"black\" d=\"M906.44,-72.5C913.59,-72.5 921.78,-72.5 930.49,-72.5\"/>\n<polygon fill=\"black\" stroke=\"black\" points=\"930.26,-76 940.26,-72.5 930.26,-69 930.26,-76\"/>\n</g>\n<!-- 140596484204160 -->\n<g id=\"node3\" class=\"node\">\n<title>140596484204160</title>\n<polygon fill=\"none\" stroke=\"black\" points=\"0,-83.5 0,-119.5 188.25,-119.5 188.25,-83.5 0,-83.5\"/>\n<text text-anchor=\"middle\" x=\"11.38\" y=\"-96.7\" font-family=\"Times,serif\" font-size=\"14.00\">b</text>\n<polyline fill=\"none\" stroke=\"black\" points=\"22.75,-84 22.75,-119.5\"/>\n<text text-anchor=\"middle\" x=\"64.88\" y=\"-96.7\" font-family=\"Times,serif\" font-size=\"14.00\">data &#45;3.0000</text>\n<polyline fill=\"none\" stroke=\"black\" points=\"107,-84 107,-119.5\"/>\n<text text-anchor=\"middle\" x=\"147.62\" y=\"-96.7\" font-family=\"Times,serif\" font-size=\"14.00\">grad 0.0000</text>\n</g>\n<!-- 140596512146096* -->\n<g id=\"node5\" class=\"node\">\n<title>140596512146096*</title>\n<ellipse fill=\"none\" stroke=\"black\" cx=\"251.25\" cy=\"-73.5\" rx=\"27\" ry=\"18\"/>\n<text text-anchor=\"middle\" x=\"251.25\" y=\"-68.45\" font-family=\"Times,serif\" font-size=\"14.00\">*</text>\n</g>\n<!-- 140596484204160&#45;&gt;140596512146096* -->\n<g id=\"edge9\" class=\"edge\">\n<title>140596484204160&#45;&gt;140596512146096*</title>\n<path fill=\"none\" stroke=\"black\" d=\"M188.49,-84.65C197.36,-83.05 205.93,-81.5 213.73,-80.09\"/>\n<polygon fill=\"black\" stroke=\"black\" points=\"214.2,-83.56 223.42,-78.34 212.95,-76.68 214.2,-83.56\"/>\n</g>\n<!-- 140596512146096 -->\n<g id=\"node4\" class=\"node\">\n<title>140596512146096</title>\n<polygon fill=\"none\" stroke=\"black\" points=\"315.38,-55.5 315.38,-91.5 502.88,-91.5 502.88,-55.5 315.38,-55.5\"/>\n<text text-anchor=\"middle\" x=\"326.38\" y=\"-68.7\" font-family=\"Times,serif\" font-size=\"14.00\">e</text>\n<polyline fill=\"none\" stroke=\"black\" points=\"337.38,-56 337.38,-91.5\"/>\n<text text-anchor=\"middle\" x=\"379.5\" y=\"-68.7\" font-family=\"Times,serif\" font-size=\"14.00\">data &#45;6.0000</text>\n<polyline fill=\"none\" stroke=\"black\" points=\"421.62,-56 421.62,-91.5\"/>\n<text text-anchor=\"middle\" x=\"462.25\" y=\"-68.7\" font-family=\"Times,serif\" font-size=\"14.00\">grad 0.0000</text>\n</g>\n<!-- 140596512146672+ -->\n<g id=\"node8\" class=\"node\">\n<title>140596512146672+</title>\n<ellipse fill=\"none\" stroke=\"black\" cx=\"567\" cy=\"-45.5\" rx=\"27\" ry=\"18\"/>\n<text text-anchor=\"middle\" x=\"567\" y=\"-40.45\" font-family=\"Times,serif\" font-size=\"14.00\">+</text>\n</g>\n<!-- 140596512146096&#45;&gt;140596512146672+ -->\n<g id=\"edge5\" class=\"edge\">\n<title>140596512146096&#45;&gt;140596512146672+</title>\n<path fill=\"none\" stroke=\"black\" d=\"M503.05,-56.81C512.25,-55.16 521.16,-53.56 529.24,-52.1\"/>\n<polygon fill=\"black\" stroke=\"black\" points=\"529.71,-55.58 538.93,-50.36 528.47,-48.69 529.71,-55.58\"/>\n</g>\n<!-- 140596512146096*&#45;&gt;140596512146096 -->\n<g id=\"edge2\" class=\"edge\">\n<title>140596512146096*&#45;&gt;140596512146096</title>\n<path fill=\"none\" stroke=\"black\" d=\"M278.69,-73.5C286.1,-73.5 294.64,-73.5 303.71,-73.5\"/>\n<polygon fill=\"black\" stroke=\"black\" points=\"303.51,-77 313.51,-73.5 303.51,-70 303.51,-77\"/>\n</g>\n<!-- 140596512147632 -->\n<g id=\"node6\" class=\"node\">\n<title>140596512147632</title>\n<polygon fill=\"none\" stroke=\"black\" points=\"630,-82.5 630,-118.5 816,-118.5 816,-82.5 630,-82.5\"/>\n<text text-anchor=\"middle\" x=\"640.25\" y=\"-95.7\" font-family=\"Times,serif\" font-size=\"14.00\">f</text>\n<polyline fill=\"none\" stroke=\"black\" points=\"650.5,-83 650.5,-118.5\"/>\n<text text-anchor=\"middle\" x=\"692.62\" y=\"-95.7\" font-family=\"Times,serif\" font-size=\"14.00\">data &#45;2.0000</text>\n<polyline fill=\"none\" stroke=\"black\" points=\"734.75,-83 734.75,-118.5\"/>\n<text text-anchor=\"middle\" x=\"775.38\" y=\"-95.7\" font-family=\"Times,serif\" font-size=\"14.00\">grad 0.0000</text>\n</g>\n<!-- 140596512147632&#45;&gt;140596512149120* -->\n<g id=\"edge4\" class=\"edge\">\n<title>140596512147632&#45;&gt;140596512149120*</title>\n<path fill=\"none\" stroke=\"black\" d=\"M816.25,-83.73C825.1,-82.12 833.67,-80.56 841.46,-79.14\"/>\n<polygon fill=\"black\" stroke=\"black\" points=\"841.93,-82.62 851.15,-77.38 840.68,-75.73 841.93,-82.62\"/>\n</g>\n<!-- 140596512146672 -->\n<g id=\"node7\" class=\"node\">\n<title>140596512146672</title>\n<polygon fill=\"none\" stroke=\"black\" points=\"631.12,-27.5 631.12,-63.5 814.88,-63.5 814.88,-27.5 631.12,-27.5\"/>\n<text text-anchor=\"middle\" x=\"642.5\" y=\"-40.7\" font-family=\"Times,serif\" font-size=\"14.00\">d</text>\n<polyline fill=\"none\" stroke=\"black\" points=\"653.88,-28 653.88,-63.5\"/>\n<text text-anchor=\"middle\" x=\"693.75\" y=\"-40.7\" font-family=\"Times,serif\" font-size=\"14.00\">data 4.0000</text>\n<polyline fill=\"none\" stroke=\"black\" points=\"733.62,-28 733.62,-63.5\"/>\n<text text-anchor=\"middle\" x=\"774.25\" y=\"-40.7\" font-family=\"Times,serif\" font-size=\"14.00\">grad 0.0000</text>\n</g>\n<!-- 140596512146672&#45;&gt;140596512149120* -->\n<g id=\"edge6\" class=\"edge\">\n<title>140596512146672&#45;&gt;140596512149120*</title>\n<path fill=\"none\" stroke=\"black\" d=\"M815.36,-61.52C824.5,-63.12 833.36,-64.67 841.4,-66.08\"/>\n<polygon fill=\"black\" stroke=\"black\" points=\"840.58,-69.49 851.04,-67.77 841.79,-62.6 840.58,-69.49\"/>\n</g>\n<!-- 140596512146672+&#45;&gt;140596512146672 -->\n<g id=\"edge3\" class=\"edge\">\n<title>140596512146672+&#45;&gt;140596512146672</title>\n<path fill=\"none\" stroke=\"black\" d=\"M594.47,-45.5C601.87,-45.5 610.38,-45.5 619.43,-45.5\"/>\n<polygon fill=\"black\" stroke=\"black\" points=\"619.17,-49 629.17,-45.5 619.17,-42 619.17,-49\"/>\n</g>\n<!-- 140596513308976 -->\n<g id=\"node9\" class=\"node\">\n<title>140596513308976</title>\n<polygon fill=\"none\" stroke=\"black\" points=\"2.62,-28.5 2.62,-64.5 185.62,-64.5 185.62,-28.5 2.62,-28.5\"/>\n<text text-anchor=\"middle\" x=\"13.62\" y=\"-41.7\" font-family=\"Times,serif\" font-size=\"14.00\">a</text>\n<polyline fill=\"none\" stroke=\"black\" points=\"24.62,-29 24.62,-64.5\"/>\n<text text-anchor=\"middle\" x=\"64.5\" y=\"-41.7\" font-family=\"Times,serif\" font-size=\"14.00\">data 2.0000</text>\n<polyline fill=\"none\" stroke=\"black\" points=\"104.38,-29 104.38,-64.5\"/>\n<text text-anchor=\"middle\" x=\"145\" y=\"-41.7\" font-family=\"Times,serif\" font-size=\"14.00\">grad 0.0000</text>\n</g>\n<!-- 140596513308976&#45;&gt;140596512146096* -->\n<g id=\"edge8\" class=\"edge\">\n<title>140596513308976&#45;&gt;140596512146096*</title>\n<path fill=\"none\" stroke=\"black\" d=\"M185.81,-62.28C195.45,-63.96 204.82,-65.59 213.29,-67.07\"/>\n<polygon fill=\"black\" stroke=\"black\" points=\"212.65,-70.51 223.1,-68.77 213.85,-63.61 212.65,-70.51\"/>\n</g>\n<!-- 140596487878064 -->\n<g id=\"node10\" class=\"node\">\n<title>140596487878064</title>\n<polygon fill=\"none\" stroke=\"black\" points=\"314.25,-0.5 314.25,-36.5 504,-36.5 504,-0.5 314.25,-0.5\"/>\n<text text-anchor=\"middle\" x=\"325.25\" y=\"-13.7\" font-family=\"Times,serif\" font-size=\"14.00\">c</text>\n<polyline fill=\"none\" stroke=\"black\" points=\"336.25,-1 336.25,-36.5\"/>\n<text text-anchor=\"middle\" x=\"379.5\" y=\"-13.7\" font-family=\"Times,serif\" font-size=\"14.00\">data 10.0000</text>\n<polyline fill=\"none\" stroke=\"black\" points=\"422.75,-1 422.75,-36.5\"/>\n<text text-anchor=\"middle\" x=\"463.38\" y=\"-13.7\" font-family=\"Times,serif\" font-size=\"14.00\">grad 0.0000</text>\n</g>\n<!-- 140596487878064&#45;&gt;140596512146672+ -->\n<g id=\"edge7\" class=\"edge\">\n<title>140596487878064&#45;&gt;140596512146672+</title>\n<path fill=\"none\" stroke=\"black\" d=\"M504.39,-34.83C513.16,-36.35 521.65,-37.82 529.37,-39.15\"/>\n<polygon fill=\"black\" stroke=\"black\" points=\"528.5,-42.56 538.95,-40.81 529.69,-35.66 528.5,-42.56\"/>\n</g>\n</g>\n</svg>\n",
      "text/plain": [
       "<graphviz.graphs.Digraph at 0x7fdf2d29d660>"
      ]
     },
     "execution_count": 43,
     "metadata": {},
     "output_type": "execute_result"
    }
   ],
   "source": [
    "draw_dot(L)"
   ]
  },
  {
   "cell_type": "code",
   "execution_count": 54,
   "metadata": {},
   "outputs": [],
   "source": [
    "\n",
    "# inputs x1,x2\n",
    "x1 = Value(2.0, label='x1')\n",
    "x2 = Value(0.0, label='x2')\n",
    "# weights w1,w2\n",
    "w1 = Value(-3.0, label='w1')\n",
    "w2 = Value(1.0, label='w2')\n",
    "# bias of the neuron\n",
    "b = Value(6.8813735870195432, label='b')\n",
    "# x1*w1 + x2*w2 + b\n",
    "x1w1 = x1*w1; x1w1.label = 'x1*w1'\n",
    "x2w2 = x2*w2; x2w2.label = 'x2*w2'\n",
    "x1w1x2w2 = x1w1 + x2w2; x1w1x2w2.label = 'x1*w1 + x2*w2'\n",
    "n = x1w1x2w2 + b; n.label = 'n'\n",
    "o = n.tanh(); o.label = 'o'"
   ]
  },
  {
   "cell_type": "code",
   "execution_count": 49,
   "metadata": {},
   "outputs": [
    {
     "data": {
      "image/svg+xml": "<?xml version=\"1.0\" encoding=\"UTF-8\" standalone=\"no\"?>\n<!DOCTYPE svg PUBLIC \"-//W3C//DTD SVG 1.1//EN\"\n \"http://www.w3.org/Graphics/SVG/1.1/DTD/svg11.dtd\">\n<!-- Generated by graphviz version 10.0.1 (20240210.2158)\n -->\n<!-- Pages: 1 -->\n<svg width=\"1567pt\" height=\"210pt\"\n viewBox=\"0.00 0.00 1566.50 210.00\" xmlns=\"http://www.w3.org/2000/svg\" xmlns:xlink=\"http://www.w3.org/1999/xlink\">\n<g id=\"graph0\" class=\"graph\" transform=\"scale(1 1) rotate(0) translate(4 206)\">\n<polygon fill=\"white\" stroke=\"none\" points=\"-4,4 -4,-206 1562.5,-206 1562.5,4 -4,4\"/>\n<!-- 140596514496064 -->\n<g id=\"node1\" class=\"node\">\n<title>140596514496064</title>\n<polygon fill=\"none\" stroke=\"black\" points=\"2.25,-165.5 2.25,-201.5 195.75,-201.5 195.75,-165.5 2.25,-165.5\"/>\n<text text-anchor=\"middle\" x=\"18.5\" y=\"-178.7\" font-family=\"Times,serif\" font-size=\"14.00\">w2</text>\n<polyline fill=\"none\" stroke=\"black\" points=\"34.75,-166 34.75,-201.5\"/>\n<text text-anchor=\"middle\" x=\"74.62\" y=\"-178.7\" font-family=\"Times,serif\" font-size=\"14.00\">data 1.0000</text>\n<polyline fill=\"none\" stroke=\"black\" points=\"114.5,-166 114.5,-201.5\"/>\n<text text-anchor=\"middle\" x=\"155.12\" y=\"-178.7\" font-family=\"Times,serif\" font-size=\"14.00\">grad 0.0000</text>\n</g>\n<!-- 140596514495200* -->\n<g id=\"node8\" class=\"node\">\n<title>140596514495200*</title>\n<ellipse fill=\"none\" stroke=\"black\" cx=\"261\" cy=\"-128.5\" rx=\"27\" ry=\"18\"/>\n<text text-anchor=\"middle\" x=\"261\" y=\"-123.45\" font-family=\"Times,serif\" font-size=\"14.00\">*</text>\n</g>\n<!-- 140596514496064&#45;&gt;140596514495200* -->\n<g id=\"edge11\" class=\"edge\">\n<title>140596514496064&#45;&gt;140596514495200*</title>\n<path fill=\"none\" stroke=\"black\" d=\"M172.12,-165.01C180.9,-162.35 189.7,-159.5 198,-156.5 208.09,-152.86 218.82,-148.27 228.47,-143.88\"/>\n<polygon fill=\"black\" stroke=\"black\" points=\"229.86,-147.09 237.45,-139.69 226.9,-140.75 229.86,-147.09\"/>\n</g>\n<!-- 140596514492560 -->\n<g id=\"node2\" class=\"node\">\n<title>140596514492560</title>\n<polygon fill=\"none\" stroke=\"black\" points=\"1065,-54.5 1065,-90.5 1248.75,-90.5 1248.75,-54.5 1065,-54.5\"/>\n<text text-anchor=\"middle\" x=\"1076.38\" y=\"-67.7\" font-family=\"Times,serif\" font-size=\"14.00\">n</text>\n<polyline fill=\"none\" stroke=\"black\" points=\"1087.75,-55 1087.75,-90.5\"/>\n<text text-anchor=\"middle\" x=\"1127.62\" y=\"-67.7\" font-family=\"Times,serif\" font-size=\"14.00\">data 0.8814</text>\n<polyline fill=\"none\" stroke=\"black\" points=\"1167.5,-55 1167.5,-90.5\"/>\n<text text-anchor=\"middle\" x=\"1208.12\" y=\"-67.7\" font-family=\"Times,serif\" font-size=\"14.00\">grad 0.0000</text>\n</g>\n<!-- 140596514499760tanh -->\n<g id=\"node5\" class=\"node\">\n<title>140596514499760tanh</title>\n<ellipse fill=\"none\" stroke=\"black\" cx=\"1311.75\" cy=\"-72.5\" rx=\"27\" ry=\"18\"/>\n<text text-anchor=\"middle\" x=\"1311.75\" y=\"-67.45\" font-family=\"Times,serif\" font-size=\"14.00\">tanh</text>\n</g>\n<!-- 140596514492560&#45;&gt;140596514499760tanh -->\n<g id=\"edge14\" class=\"edge\">\n<title>140596514492560&#45;&gt;140596514499760tanh</title>\n<path fill=\"none\" stroke=\"black\" d=\"M1249.01,-72.5C1257.39,-72.5 1265.52,-72.5 1272.98,-72.5\"/>\n<polygon fill=\"black\" stroke=\"black\" points=\"1272.95,-76 1282.95,-72.5 1272.95,-69 1272.95,-76\"/>\n</g>\n<!-- 140596514492560+ -->\n<g id=\"node3\" class=\"node\">\n<title>140596514492560+</title>\n<ellipse fill=\"none\" stroke=\"black\" cx=\"1002\" cy=\"-72.5\" rx=\"27\" ry=\"18\"/>\n<text text-anchor=\"middle\" x=\"1002\" y=\"-67.45\" font-family=\"Times,serif\" font-size=\"14.00\">+</text>\n</g>\n<!-- 140596514492560+&#45;&gt;140596514492560 -->\n<g id=\"edge1\" class=\"edge\">\n<title>140596514492560+&#45;&gt;140596514492560</title>\n<path fill=\"none\" stroke=\"black\" d=\"M1029.28,-72.5C1036.42,-72.5 1044.61,-72.5 1053.32,-72.5\"/>\n<polygon fill=\"black\" stroke=\"black\" points=\"1053.06,-76 1063.06,-72.5 1053.06,-69 1053.06,-76\"/>\n</g>\n<!-- 140596514499760 -->\n<g id=\"node4\" class=\"node\">\n<title>140596514499760</title>\n<polygon fill=\"none\" stroke=\"black\" points=\"1374.75,-54.5 1374.75,-90.5 1558.5,-90.5 1558.5,-54.5 1374.75,-54.5\"/>\n<text text-anchor=\"middle\" x=\"1386.12\" y=\"-67.7\" font-family=\"Times,serif\" font-size=\"14.00\">o</text>\n<polyline fill=\"none\" stroke=\"black\" points=\"1397.5,-55 1397.5,-90.5\"/>\n<text text-anchor=\"middle\" x=\"1437.38\" y=\"-67.7\" font-family=\"Times,serif\" font-size=\"14.00\">data 0.7071</text>\n<polyline fill=\"none\" stroke=\"black\" points=\"1477.25,-55 1477.25,-90.5\"/>\n<text text-anchor=\"middle\" x=\"1517.88\" y=\"-67.7\" font-family=\"Times,serif\" font-size=\"14.00\">grad 0.0000</text>\n</g>\n<!-- 140596514499760tanh&#45;&gt;140596514499760 -->\n<g id=\"edge2\" class=\"edge\">\n<title>140596514499760tanh&#45;&gt;140596514499760</title>\n<path fill=\"none\" stroke=\"black\" d=\"M1339.03,-72.5C1346.17,-72.5 1354.36,-72.5 1363.07,-72.5\"/>\n<polygon fill=\"black\" stroke=\"black\" points=\"1362.81,-76 1372.81,-72.5 1362.81,-69 1362.81,-76\"/>\n</g>\n<!-- 140596514496736 -->\n<g id=\"node6\" class=\"node\">\n<title>140596514496736</title>\n<polygon fill=\"none\" stroke=\"black\" points=\"3.75,-55.5 3.75,-91.5 194.25,-91.5 194.25,-55.5 3.75,-55.5\"/>\n<text text-anchor=\"middle\" x=\"18.5\" y=\"-68.7\" font-family=\"Times,serif\" font-size=\"14.00\">x1</text>\n<polyline fill=\"none\" stroke=\"black\" points=\"33.25,-56 33.25,-91.5\"/>\n<text text-anchor=\"middle\" x=\"73.12\" y=\"-68.7\" font-family=\"Times,serif\" font-size=\"14.00\">data 2.0000</text>\n<polyline fill=\"none\" stroke=\"black\" points=\"113,-56 113,-91.5\"/>\n<text text-anchor=\"middle\" x=\"153.62\" y=\"-68.7\" font-family=\"Times,serif\" font-size=\"14.00\">grad 0.0000</text>\n</g>\n<!-- 140596514494912* -->\n<g id=\"node14\" class=\"node\">\n<title>140596514494912*</title>\n<ellipse fill=\"none\" stroke=\"black\" cx=\"261\" cy=\"-73.5\" rx=\"27\" ry=\"18\"/>\n<text text-anchor=\"middle\" x=\"261\" y=\"-68.45\" font-family=\"Times,serif\" font-size=\"14.00\">*</text>\n</g>\n<!-- 140596514496736&#45;&gt;140596514494912* -->\n<g id=\"edge7\" class=\"edge\">\n<title>140596514496736&#45;&gt;140596514494912*</title>\n<path fill=\"none\" stroke=\"black\" d=\"M194.46,-73.5C204.21,-73.5 213.66,-73.5 222.21,-73.5\"/>\n<polygon fill=\"black\" stroke=\"black\" points=\"222.12,-77 232.12,-73.5 222.12,-70 222.12,-77\"/>\n</g>\n<!-- 140596514495200 -->\n<g id=\"node7\" class=\"node\">\n<title>140596514495200</title>\n<polygon fill=\"none\" stroke=\"black\" points=\"326.25,-110.5 326.25,-146.5 540,-146.5 540,-110.5 326.25,-110.5\"/>\n<text text-anchor=\"middle\" x=\"352.62\" y=\"-123.7\" font-family=\"Times,serif\" font-size=\"14.00\">x2*w2</text>\n<polyline fill=\"none\" stroke=\"black\" points=\"379,-111 379,-146.5\"/>\n<text text-anchor=\"middle\" x=\"418.88\" y=\"-123.7\" font-family=\"Times,serif\" font-size=\"14.00\">data 0.0000</text>\n<polyline fill=\"none\" stroke=\"black\" points=\"458.75,-111 458.75,-146.5\"/>\n<text text-anchor=\"middle\" x=\"499.38\" y=\"-123.7\" font-family=\"Times,serif\" font-size=\"14.00\">grad 0.0000</text>\n</g>\n<!-- 140596514492704+ -->\n<g id=\"node11\" class=\"node\">\n<title>140596514492704+</title>\n<ellipse fill=\"none\" stroke=\"black\" cx=\"605.25\" cy=\"-100.5\" rx=\"27\" ry=\"18\"/>\n<text text-anchor=\"middle\" x=\"605.25\" y=\"-95.45\" font-family=\"Times,serif\" font-size=\"14.00\">+</text>\n</g>\n<!-- 140596514495200&#45;&gt;140596514492704+ -->\n<g id=\"edge8\" class=\"edge\">\n<title>140596514495200&#45;&gt;140596514492704+</title>\n<path fill=\"none\" stroke=\"black\" d=\"M540.42,-111.01C549.89,-109.45 559,-107.95 567.21,-106.6\"/>\n<polygon fill=\"black\" stroke=\"black\" points=\"567.75,-110.05 577.05,-104.98 566.62,-103.15 567.75,-110.05\"/>\n</g>\n<!-- 140596514495200*&#45;&gt;140596514495200 -->\n<g id=\"edge3\" class=\"edge\">\n<title>140596514495200*&#45;&gt;140596514495200</title>\n<path fill=\"none\" stroke=\"black\" d=\"M288.21,-128.5C296,-128.5 305.08,-128.5 314.82,-128.5\"/>\n<polygon fill=\"black\" stroke=\"black\" points=\"314.55,-132 324.55,-128.5 314.55,-125 314.55,-132\"/>\n</g>\n<!-- 140596514496784 -->\n<g id=\"node9\" class=\"node\">\n<title>140596514496784</title>\n<polygon fill=\"none\" stroke=\"black\" points=\"711.75,-27.5 711.75,-63.5 895.5,-63.5 895.5,-27.5 711.75,-27.5\"/>\n<text text-anchor=\"middle\" x=\"723.12\" y=\"-40.7\" font-family=\"Times,serif\" font-size=\"14.00\">b</text>\n<polyline fill=\"none\" stroke=\"black\" points=\"734.5,-28 734.5,-63.5\"/>\n<text text-anchor=\"middle\" x=\"774.38\" y=\"-40.7\" font-family=\"Times,serif\" font-size=\"14.00\">data 6.8814</text>\n<polyline fill=\"none\" stroke=\"black\" points=\"814.25,-28 814.25,-63.5\"/>\n<text text-anchor=\"middle\" x=\"854.88\" y=\"-40.7\" font-family=\"Times,serif\" font-size=\"14.00\">grad 0.0000</text>\n</g>\n<!-- 140596514496784&#45;&gt;140596514492560+ -->\n<g id=\"edge6\" class=\"edge\">\n<title>140596514496784&#45;&gt;140596514492560+</title>\n<path fill=\"none\" stroke=\"black\" d=\"M895.91,-58.05C919.97,-61.36 944.58,-64.74 963.93,-67.4\"/>\n<polygon fill=\"black\" stroke=\"black\" points=\"963.36,-70.86 973.75,-68.75 964.32,-63.92 963.36,-70.86\"/>\n</g>\n<!-- 140596514492704 -->\n<g id=\"node10\" class=\"node\">\n<title>140596514492704</title>\n<polygon fill=\"none\" stroke=\"black\" points=\"668.25,-82.5 668.25,-118.5 939,-118.5 939,-82.5 668.25,-82.5\"/>\n<text text-anchor=\"middle\" x=\"720.88\" y=\"-95.7\" font-family=\"Times,serif\" font-size=\"14.00\">x1*w1 + x2*w2</text>\n<polyline fill=\"none\" stroke=\"black\" points=\"773.5,-83 773.5,-118.5\"/>\n<text text-anchor=\"middle\" x=\"815.62\" y=\"-95.7\" font-family=\"Times,serif\" font-size=\"14.00\">data &#45;6.0000</text>\n<polyline fill=\"none\" stroke=\"black\" points=\"857.75,-83 857.75,-118.5\"/>\n<text text-anchor=\"middle\" x=\"898.38\" y=\"-95.7\" font-family=\"Times,serif\" font-size=\"14.00\">grad 0.0000</text>\n</g>\n<!-- 140596514492704&#45;&gt;140596514492560+ -->\n<g id=\"edge13\" class=\"edge\">\n<title>140596514492704&#45;&gt;140596514492560+</title>\n<path fill=\"none\" stroke=\"black\" d=\"M934.24,-82.02C944.99,-80.49 955.18,-79.03 964.21,-77.75\"/>\n<polygon fill=\"black\" stroke=\"black\" points=\"964.46,-81.25 973.86,-76.37 963.47,-74.32 964.46,-81.25\"/>\n</g>\n<!-- 140596514492704+&#45;&gt;140596514492704 -->\n<g id=\"edge4\" class=\"edge\">\n<title>140596514492704+&#45;&gt;140596514492704</title>\n<path fill=\"none\" stroke=\"black\" d=\"M632.73,-100.5C639.73,-100.5 647.79,-100.5 656.52,-100.5\"/>\n<polygon fill=\"black\" stroke=\"black\" points=\"656.39,-104 666.39,-100.5 656.39,-97 656.39,-104\"/>\n</g>\n<!-- 140596514497840 -->\n<g id=\"node12\" class=\"node\">\n<title>140596514497840</title>\n<polygon fill=\"none\" stroke=\"black\" points=\"3.75,-110.5 3.75,-146.5 194.25,-146.5 194.25,-110.5 3.75,-110.5\"/>\n<text text-anchor=\"middle\" x=\"18.5\" y=\"-123.7\" font-family=\"Times,serif\" font-size=\"14.00\">x2</text>\n<polyline fill=\"none\" stroke=\"black\" points=\"33.25,-111 33.25,-146.5\"/>\n<text text-anchor=\"middle\" x=\"73.12\" y=\"-123.7\" font-family=\"Times,serif\" font-size=\"14.00\">data 0.0000</text>\n<polyline fill=\"none\" stroke=\"black\" points=\"113,-111 113,-146.5\"/>\n<text text-anchor=\"middle\" x=\"153.62\" y=\"-123.7\" font-family=\"Times,serif\" font-size=\"14.00\">grad 0.0000</text>\n</g>\n<!-- 140596514497840&#45;&gt;140596514495200* -->\n<g id=\"edge12\" class=\"edge\">\n<title>140596514497840&#45;&gt;140596514495200*</title>\n<path fill=\"none\" stroke=\"black\" d=\"M194.46,-128.5C204.21,-128.5 213.66,-128.5 222.21,-128.5\"/>\n<polygon fill=\"black\" stroke=\"black\" points=\"222.12,-132 232.12,-128.5 222.12,-125 222.12,-132\"/>\n</g>\n<!-- 140596514494912 -->\n<g id=\"node13\" class=\"node\">\n<title>140596514494912</title>\n<polygon fill=\"none\" stroke=\"black\" points=\"324,-55.5 324,-91.5 542.25,-91.5 542.25,-55.5 324,-55.5\"/>\n<text text-anchor=\"middle\" x=\"350.38\" y=\"-68.7\" font-family=\"Times,serif\" font-size=\"14.00\">x1*w1</text>\n<polyline fill=\"none\" stroke=\"black\" points=\"376.75,-56 376.75,-91.5\"/>\n<text text-anchor=\"middle\" x=\"418.88\" y=\"-68.7\" font-family=\"Times,serif\" font-size=\"14.00\">data &#45;6.0000</text>\n<polyline fill=\"none\" stroke=\"black\" points=\"461,-56 461,-91.5\"/>\n<text text-anchor=\"middle\" x=\"501.62\" y=\"-68.7\" font-family=\"Times,serif\" font-size=\"14.00\">grad 0.0000</text>\n</g>\n<!-- 140596514494912&#45;&gt;140596514492704+ -->\n<g id=\"edge10\" class=\"edge\">\n<title>140596514494912&#45;&gt;140596514492704+</title>\n<path fill=\"none\" stroke=\"black\" d=\"M542.35,-90.68C551.12,-92.07 559.54,-93.4 567.19,-94.62\"/>\n<polygon fill=\"black\" stroke=\"black\" points=\"566.59,-98.07 577.02,-96.18 567.69,-91.15 566.59,-98.07\"/>\n</g>\n<!-- 140596514494912*&#45;&gt;140596514494912 -->\n<g id=\"edge5\" class=\"edge\">\n<title>140596514494912*&#45;&gt;140596514494912</title>\n<path fill=\"none\" stroke=\"black\" d=\"M288.21,-73.5C295.29,-73.5 303.43,-73.5 312.17,-73.5\"/>\n<polygon fill=\"black\" stroke=\"black\" points=\"312.01,-77 322.01,-73.5 312.01,-70 312.01,-77\"/>\n</g>\n<!-- 140596514495968 -->\n<g id=\"node15\" class=\"node\">\n<title>140596514495968</title>\n<polygon fill=\"none\" stroke=\"black\" points=\"0,-0.5 0,-36.5 198,-36.5 198,-0.5 0,-0.5\"/>\n<text text-anchor=\"middle\" x=\"16.25\" y=\"-13.7\" font-family=\"Times,serif\" font-size=\"14.00\">w1</text>\n<polyline fill=\"none\" stroke=\"black\" points=\"32.5,-1 32.5,-36.5\"/>\n<text text-anchor=\"middle\" x=\"74.62\" y=\"-13.7\" font-family=\"Times,serif\" font-size=\"14.00\">data &#45;3.0000</text>\n<polyline fill=\"none\" stroke=\"black\" points=\"116.75,-1 116.75,-36.5\"/>\n<text text-anchor=\"middle\" x=\"157.38\" y=\"-13.7\" font-family=\"Times,serif\" font-size=\"14.00\">grad 0.0000</text>\n</g>\n<!-- 140596514495968&#45;&gt;140596514494912* -->\n<g id=\"edge9\" class=\"edge\">\n<title>140596514495968&#45;&gt;140596514494912*</title>\n<path fill=\"none\" stroke=\"black\" d=\"M168.91,-36.94C178.74,-39.93 188.67,-43.15 198,-46.5 207.96,-50.07 218.58,-54.47 228.18,-58.68\"/>\n<polygon fill=\"black\" stroke=\"black\" points=\"226.54,-61.78 237.1,-62.67 229.4,-55.39 226.54,-61.78\"/>\n</g>\n</g>\n</svg>\n",
      "text/plain": [
       "<graphviz.graphs.Digraph at 0x7fdf2d4d98d0>"
      ]
     },
     "execution_count": 49,
     "metadata": {},
     "output_type": "execute_result"
    }
   ],
   "source": [
    "draw_dot(o)"
   ]
  },
  {
   "attachments": {},
   "cell_type": "markdown",
   "metadata": {},
   "source": [
    "## Topological graph\n",
    "- linear order of dependencies\n",
    "- makes sure all children are in graph and then appends itself"
   ]
  },
  {
   "cell_type": "code",
   "execution_count": 50,
   "metadata": {},
   "outputs": [
    {
     "data": {
      "text/plain": [
       "[Value(data=6.881373587019543),\n",
       " Value(data=-3.0),\n",
       " Value(data=2.0),\n",
       " Value(data=-6.0),\n",
       " Value(data=0.0),\n",
       " Value(data=1.0),\n",
       " Value(data=0.0),\n",
       " Value(data=-6.0),\n",
       " Value(data=0.8813735870195432),\n",
       " Value(data=0.7071067811865476)]"
      ]
     },
     "execution_count": 50,
     "metadata": {},
     "output_type": "execute_result"
    }
   ],
   "source": [
    "topo = []\n",
    "visited = set()\n",
    "def build_topo(v):\n",
    "    if v not in visited:\n",
    "        visited.add(v)\n",
    "        for child in v._prev:\n",
    "            build_topo(child)\n",
    "        topo.append(v)\n",
    "build_topo(o)\n",
    "topo"
   ]
  },
  {
   "cell_type": "code",
   "execution_count": 52,
   "metadata": {},
   "outputs": [
    {
     "data": {
      "image/svg+xml": "<?xml version=\"1.0\" encoding=\"UTF-8\" standalone=\"no\"?>\n<!DOCTYPE svg PUBLIC \"-//W3C//DTD SVG 1.1//EN\"\n \"http://www.w3.org/Graphics/SVG/1.1/DTD/svg11.dtd\">\n<!-- Generated by graphviz version 10.0.1 (20240210.2158)\n -->\n<!-- Pages: 1 -->\n<svg width=\"1567pt\" height=\"210pt\"\n viewBox=\"0.00 0.00 1566.50 210.00\" xmlns=\"http://www.w3.org/2000/svg\" xmlns:xlink=\"http://www.w3.org/1999/xlink\">\n<g id=\"graph0\" class=\"graph\" transform=\"scale(1 1) rotate(0) translate(4 206)\">\n<polygon fill=\"white\" stroke=\"none\" points=\"-4,4 -4,-206 1562.5,-206 1562.5,4 -4,4\"/>\n<!-- 140596514496064 -->\n<g id=\"node1\" class=\"node\">\n<title>140596514496064</title>\n<polygon fill=\"none\" stroke=\"black\" points=\"2.25,-165.5 2.25,-201.5 195.75,-201.5 195.75,-165.5 2.25,-165.5\"/>\n<text text-anchor=\"middle\" x=\"18.5\" y=\"-178.7\" font-family=\"Times,serif\" font-size=\"14.00\">w2</text>\n<polyline fill=\"none\" stroke=\"black\" points=\"34.75,-166 34.75,-201.5\"/>\n<text text-anchor=\"middle\" x=\"74.62\" y=\"-178.7\" font-family=\"Times,serif\" font-size=\"14.00\">data 1.0000</text>\n<polyline fill=\"none\" stroke=\"black\" points=\"114.5,-166 114.5,-201.5\"/>\n<text text-anchor=\"middle\" x=\"155.12\" y=\"-178.7\" font-family=\"Times,serif\" font-size=\"14.00\">grad 0.0000</text>\n</g>\n<!-- 140596514495200* -->\n<g id=\"node8\" class=\"node\">\n<title>140596514495200*</title>\n<ellipse fill=\"none\" stroke=\"black\" cx=\"261\" cy=\"-128.5\" rx=\"27\" ry=\"18\"/>\n<text text-anchor=\"middle\" x=\"261\" y=\"-123.45\" font-family=\"Times,serif\" font-size=\"14.00\">*</text>\n</g>\n<!-- 140596514496064&#45;&gt;140596514495200* -->\n<g id=\"edge11\" class=\"edge\">\n<title>140596514496064&#45;&gt;140596514495200*</title>\n<path fill=\"none\" stroke=\"black\" d=\"M172.12,-165.01C180.9,-162.35 189.7,-159.5 198,-156.5 208.09,-152.86 218.82,-148.27 228.47,-143.88\"/>\n<polygon fill=\"black\" stroke=\"black\" points=\"229.86,-147.09 237.45,-139.69 226.9,-140.75 229.86,-147.09\"/>\n</g>\n<!-- 140596514492560 -->\n<g id=\"node2\" class=\"node\">\n<title>140596514492560</title>\n<polygon fill=\"none\" stroke=\"black\" points=\"1065,-54.5 1065,-90.5 1248.75,-90.5 1248.75,-54.5 1065,-54.5\"/>\n<text text-anchor=\"middle\" x=\"1076.38\" y=\"-67.7\" font-family=\"Times,serif\" font-size=\"14.00\">n</text>\n<polyline fill=\"none\" stroke=\"black\" points=\"1087.75,-55 1087.75,-90.5\"/>\n<text text-anchor=\"middle\" x=\"1127.62\" y=\"-67.7\" font-family=\"Times,serif\" font-size=\"14.00\">data 0.8814</text>\n<polyline fill=\"none\" stroke=\"black\" points=\"1167.5,-55 1167.5,-90.5\"/>\n<text text-anchor=\"middle\" x=\"1208.12\" y=\"-67.7\" font-family=\"Times,serif\" font-size=\"14.00\">grad 0.5000</text>\n</g>\n<!-- 140596514499760tanh -->\n<g id=\"node5\" class=\"node\">\n<title>140596514499760tanh</title>\n<ellipse fill=\"none\" stroke=\"black\" cx=\"1311.75\" cy=\"-72.5\" rx=\"27\" ry=\"18\"/>\n<text text-anchor=\"middle\" x=\"1311.75\" y=\"-67.45\" font-family=\"Times,serif\" font-size=\"14.00\">tanh</text>\n</g>\n<!-- 140596514492560&#45;&gt;140596514499760tanh -->\n<g id=\"edge14\" class=\"edge\">\n<title>140596514492560&#45;&gt;140596514499760tanh</title>\n<path fill=\"none\" stroke=\"black\" d=\"M1249.01,-72.5C1257.39,-72.5 1265.52,-72.5 1272.98,-72.5\"/>\n<polygon fill=\"black\" stroke=\"black\" points=\"1272.95,-76 1282.95,-72.5 1272.95,-69 1272.95,-76\"/>\n</g>\n<!-- 140596514492560+ -->\n<g id=\"node3\" class=\"node\">\n<title>140596514492560+</title>\n<ellipse fill=\"none\" stroke=\"black\" cx=\"1002\" cy=\"-72.5\" rx=\"27\" ry=\"18\"/>\n<text text-anchor=\"middle\" x=\"1002\" y=\"-67.45\" font-family=\"Times,serif\" font-size=\"14.00\">+</text>\n</g>\n<!-- 140596514492560+&#45;&gt;140596514492560 -->\n<g id=\"edge1\" class=\"edge\">\n<title>140596514492560+&#45;&gt;140596514492560</title>\n<path fill=\"none\" stroke=\"black\" d=\"M1029.28,-72.5C1036.42,-72.5 1044.61,-72.5 1053.32,-72.5\"/>\n<polygon fill=\"black\" stroke=\"black\" points=\"1053.06,-76 1063.06,-72.5 1053.06,-69 1053.06,-76\"/>\n</g>\n<!-- 140596514499760 -->\n<g id=\"node4\" class=\"node\">\n<title>140596514499760</title>\n<polygon fill=\"none\" stroke=\"black\" points=\"1374.75,-54.5 1374.75,-90.5 1558.5,-90.5 1558.5,-54.5 1374.75,-54.5\"/>\n<text text-anchor=\"middle\" x=\"1386.12\" y=\"-67.7\" font-family=\"Times,serif\" font-size=\"14.00\">o</text>\n<polyline fill=\"none\" stroke=\"black\" points=\"1397.5,-55 1397.5,-90.5\"/>\n<text text-anchor=\"middle\" x=\"1437.38\" y=\"-67.7\" font-family=\"Times,serif\" font-size=\"14.00\">data 0.7071</text>\n<polyline fill=\"none\" stroke=\"black\" points=\"1477.25,-55 1477.25,-90.5\"/>\n<text text-anchor=\"middle\" x=\"1517.88\" y=\"-67.7\" font-family=\"Times,serif\" font-size=\"14.00\">grad 1.0000</text>\n</g>\n<!-- 140596514499760tanh&#45;&gt;140596514499760 -->\n<g id=\"edge2\" class=\"edge\">\n<title>140596514499760tanh&#45;&gt;140596514499760</title>\n<path fill=\"none\" stroke=\"black\" d=\"M1339.03,-72.5C1346.17,-72.5 1354.36,-72.5 1363.07,-72.5\"/>\n<polygon fill=\"black\" stroke=\"black\" points=\"1362.81,-76 1372.81,-72.5 1362.81,-69 1362.81,-76\"/>\n</g>\n<!-- 140596514496736 -->\n<g id=\"node6\" class=\"node\">\n<title>140596514496736</title>\n<polygon fill=\"none\" stroke=\"black\" points=\"1.5,-55.5 1.5,-91.5 196.5,-91.5 196.5,-55.5 1.5,-55.5\"/>\n<text text-anchor=\"middle\" x=\"16.25\" y=\"-68.7\" font-family=\"Times,serif\" font-size=\"14.00\">x1</text>\n<polyline fill=\"none\" stroke=\"black\" points=\"31,-56 31,-91.5\"/>\n<text text-anchor=\"middle\" x=\"70.88\" y=\"-68.7\" font-family=\"Times,serif\" font-size=\"14.00\">data 2.0000</text>\n<polyline fill=\"none\" stroke=\"black\" points=\"110.75,-56 110.75,-91.5\"/>\n<text text-anchor=\"middle\" x=\"153.62\" y=\"-68.7\" font-family=\"Times,serif\" font-size=\"14.00\">grad &#45;1.5000</text>\n</g>\n<!-- 140596514494912* -->\n<g id=\"node14\" class=\"node\">\n<title>140596514494912*</title>\n<ellipse fill=\"none\" stroke=\"black\" cx=\"261\" cy=\"-73.5\" rx=\"27\" ry=\"18\"/>\n<text text-anchor=\"middle\" x=\"261\" y=\"-68.45\" font-family=\"Times,serif\" font-size=\"14.00\">*</text>\n</g>\n<!-- 140596514496736&#45;&gt;140596514494912* -->\n<g id=\"edge7\" class=\"edge\">\n<title>140596514496736&#45;&gt;140596514494912*</title>\n<path fill=\"none\" stroke=\"black\" d=\"M196.76,-73.5C205.77,-73.5 214.47,-73.5 222.4,-73.5\"/>\n<polygon fill=\"black\" stroke=\"black\" points=\"222.25,-77 232.25,-73.5 222.25,-70 222.25,-77\"/>\n</g>\n<!-- 140596514495200 -->\n<g id=\"node7\" class=\"node\">\n<title>140596514495200</title>\n<polygon fill=\"none\" stroke=\"black\" points=\"326.25,-110.5 326.25,-146.5 540,-146.5 540,-110.5 326.25,-110.5\"/>\n<text text-anchor=\"middle\" x=\"352.62\" y=\"-123.7\" font-family=\"Times,serif\" font-size=\"14.00\">x2*w2</text>\n<polyline fill=\"none\" stroke=\"black\" points=\"379,-111 379,-146.5\"/>\n<text text-anchor=\"middle\" x=\"418.88\" y=\"-123.7\" font-family=\"Times,serif\" font-size=\"14.00\">data 0.0000</text>\n<polyline fill=\"none\" stroke=\"black\" points=\"458.75,-111 458.75,-146.5\"/>\n<text text-anchor=\"middle\" x=\"499.38\" y=\"-123.7\" font-family=\"Times,serif\" font-size=\"14.00\">grad 0.5000</text>\n</g>\n<!-- 140596514492704+ -->\n<g id=\"node11\" class=\"node\">\n<title>140596514492704+</title>\n<ellipse fill=\"none\" stroke=\"black\" cx=\"605.25\" cy=\"-100.5\" rx=\"27\" ry=\"18\"/>\n<text text-anchor=\"middle\" x=\"605.25\" y=\"-95.45\" font-family=\"Times,serif\" font-size=\"14.00\">+</text>\n</g>\n<!-- 140596514495200&#45;&gt;140596514492704+ -->\n<g id=\"edge8\" class=\"edge\">\n<title>140596514495200&#45;&gt;140596514492704+</title>\n<path fill=\"none\" stroke=\"black\" d=\"M540.42,-111.01C549.89,-109.45 559,-107.95 567.21,-106.6\"/>\n<polygon fill=\"black\" stroke=\"black\" points=\"567.75,-110.05 577.05,-104.98 566.62,-103.15 567.75,-110.05\"/>\n</g>\n<!-- 140596514495200*&#45;&gt;140596514495200 -->\n<g id=\"edge3\" class=\"edge\">\n<title>140596514495200*&#45;&gt;140596514495200</title>\n<path fill=\"none\" stroke=\"black\" d=\"M288.21,-128.5C296,-128.5 305.08,-128.5 314.82,-128.5\"/>\n<polygon fill=\"black\" stroke=\"black\" points=\"314.55,-132 324.55,-128.5 314.55,-125 314.55,-132\"/>\n</g>\n<!-- 140596514496784 -->\n<g id=\"node9\" class=\"node\">\n<title>140596514496784</title>\n<polygon fill=\"none\" stroke=\"black\" points=\"711.75,-27.5 711.75,-63.5 895.5,-63.5 895.5,-27.5 711.75,-27.5\"/>\n<text text-anchor=\"middle\" x=\"723.12\" y=\"-40.7\" font-family=\"Times,serif\" font-size=\"14.00\">b</text>\n<polyline fill=\"none\" stroke=\"black\" points=\"734.5,-28 734.5,-63.5\"/>\n<text text-anchor=\"middle\" x=\"774.38\" y=\"-40.7\" font-family=\"Times,serif\" font-size=\"14.00\">data 6.8814</text>\n<polyline fill=\"none\" stroke=\"black\" points=\"814.25,-28 814.25,-63.5\"/>\n<text text-anchor=\"middle\" x=\"854.88\" y=\"-40.7\" font-family=\"Times,serif\" font-size=\"14.00\">grad 0.5000</text>\n</g>\n<!-- 140596514496784&#45;&gt;140596514492560+ -->\n<g id=\"edge6\" class=\"edge\">\n<title>140596514496784&#45;&gt;140596514492560+</title>\n<path fill=\"none\" stroke=\"black\" d=\"M895.91,-58.05C919.97,-61.36 944.58,-64.74 963.93,-67.4\"/>\n<polygon fill=\"black\" stroke=\"black\" points=\"963.36,-70.86 973.75,-68.75 964.32,-63.92 963.36,-70.86\"/>\n</g>\n<!-- 140596514492704 -->\n<g id=\"node10\" class=\"node\">\n<title>140596514492704</title>\n<polygon fill=\"none\" stroke=\"black\" points=\"668.25,-82.5 668.25,-118.5 939,-118.5 939,-82.5 668.25,-82.5\"/>\n<text text-anchor=\"middle\" x=\"720.88\" y=\"-95.7\" font-family=\"Times,serif\" font-size=\"14.00\">x1*w1 + x2*w2</text>\n<polyline fill=\"none\" stroke=\"black\" points=\"773.5,-83 773.5,-118.5\"/>\n<text text-anchor=\"middle\" x=\"815.62\" y=\"-95.7\" font-family=\"Times,serif\" font-size=\"14.00\">data &#45;6.0000</text>\n<polyline fill=\"none\" stroke=\"black\" points=\"857.75,-83 857.75,-118.5\"/>\n<text text-anchor=\"middle\" x=\"898.38\" y=\"-95.7\" font-family=\"Times,serif\" font-size=\"14.00\">grad 0.5000</text>\n</g>\n<!-- 140596514492704&#45;&gt;140596514492560+ -->\n<g id=\"edge13\" class=\"edge\">\n<title>140596514492704&#45;&gt;140596514492560+</title>\n<path fill=\"none\" stroke=\"black\" d=\"M934.24,-82.02C944.99,-80.49 955.18,-79.03 964.21,-77.75\"/>\n<polygon fill=\"black\" stroke=\"black\" points=\"964.46,-81.25 973.86,-76.37 963.47,-74.32 964.46,-81.25\"/>\n</g>\n<!-- 140596514492704+&#45;&gt;140596514492704 -->\n<g id=\"edge4\" class=\"edge\">\n<title>140596514492704+&#45;&gt;140596514492704</title>\n<path fill=\"none\" stroke=\"black\" d=\"M632.73,-100.5C639.73,-100.5 647.79,-100.5 656.52,-100.5\"/>\n<polygon fill=\"black\" stroke=\"black\" points=\"656.39,-104 666.39,-100.5 656.39,-97 656.39,-104\"/>\n</g>\n<!-- 140596514497840 -->\n<g id=\"node12\" class=\"node\">\n<title>140596514497840</title>\n<polygon fill=\"none\" stroke=\"black\" points=\"3.75,-110.5 3.75,-146.5 194.25,-146.5 194.25,-110.5 3.75,-110.5\"/>\n<text text-anchor=\"middle\" x=\"18.5\" y=\"-123.7\" font-family=\"Times,serif\" font-size=\"14.00\">x2</text>\n<polyline fill=\"none\" stroke=\"black\" points=\"33.25,-111 33.25,-146.5\"/>\n<text text-anchor=\"middle\" x=\"73.12\" y=\"-123.7\" font-family=\"Times,serif\" font-size=\"14.00\">data 0.0000</text>\n<polyline fill=\"none\" stroke=\"black\" points=\"113,-111 113,-146.5\"/>\n<text text-anchor=\"middle\" x=\"153.62\" y=\"-123.7\" font-family=\"Times,serif\" font-size=\"14.00\">grad 0.5000</text>\n</g>\n<!-- 140596514497840&#45;&gt;140596514495200* -->\n<g id=\"edge12\" class=\"edge\">\n<title>140596514497840&#45;&gt;140596514495200*</title>\n<path fill=\"none\" stroke=\"black\" d=\"M194.46,-128.5C204.21,-128.5 213.66,-128.5 222.21,-128.5\"/>\n<polygon fill=\"black\" stroke=\"black\" points=\"222.12,-132 232.12,-128.5 222.12,-125 222.12,-132\"/>\n</g>\n<!-- 140596514494912 -->\n<g id=\"node13\" class=\"node\">\n<title>140596514494912</title>\n<polygon fill=\"none\" stroke=\"black\" points=\"324,-55.5 324,-91.5 542.25,-91.5 542.25,-55.5 324,-55.5\"/>\n<text text-anchor=\"middle\" x=\"350.38\" y=\"-68.7\" font-family=\"Times,serif\" font-size=\"14.00\">x1*w1</text>\n<polyline fill=\"none\" stroke=\"black\" points=\"376.75,-56 376.75,-91.5\"/>\n<text text-anchor=\"middle\" x=\"418.88\" y=\"-68.7\" font-family=\"Times,serif\" font-size=\"14.00\">data &#45;6.0000</text>\n<polyline fill=\"none\" stroke=\"black\" points=\"461,-56 461,-91.5\"/>\n<text text-anchor=\"middle\" x=\"501.62\" y=\"-68.7\" font-family=\"Times,serif\" font-size=\"14.00\">grad 0.5000</text>\n</g>\n<!-- 140596514494912&#45;&gt;140596514492704+ -->\n<g id=\"edge10\" class=\"edge\">\n<title>140596514494912&#45;&gt;140596514492704+</title>\n<path fill=\"none\" stroke=\"black\" d=\"M542.35,-90.68C551.12,-92.07 559.54,-93.4 567.19,-94.62\"/>\n<polygon fill=\"black\" stroke=\"black\" points=\"566.59,-98.07 577.02,-96.18 567.69,-91.15 566.59,-98.07\"/>\n</g>\n<!-- 140596514494912*&#45;&gt;140596514494912 -->\n<g id=\"edge5\" class=\"edge\">\n<title>140596514494912*&#45;&gt;140596514494912</title>\n<path fill=\"none\" stroke=\"black\" d=\"M288.21,-73.5C295.29,-73.5 303.43,-73.5 312.17,-73.5\"/>\n<polygon fill=\"black\" stroke=\"black\" points=\"312.01,-77 322.01,-73.5 312.01,-70 312.01,-77\"/>\n</g>\n<!-- 140596514495968 -->\n<g id=\"node15\" class=\"node\">\n<title>140596514495968</title>\n<polygon fill=\"none\" stroke=\"black\" points=\"0,-0.5 0,-36.5 198,-36.5 198,-0.5 0,-0.5\"/>\n<text text-anchor=\"middle\" x=\"16.25\" y=\"-13.7\" font-family=\"Times,serif\" font-size=\"14.00\">w1</text>\n<polyline fill=\"none\" stroke=\"black\" points=\"32.5,-1 32.5,-36.5\"/>\n<text text-anchor=\"middle\" x=\"74.62\" y=\"-13.7\" font-family=\"Times,serif\" font-size=\"14.00\">data &#45;3.0000</text>\n<polyline fill=\"none\" stroke=\"black\" points=\"116.75,-1 116.75,-36.5\"/>\n<text text-anchor=\"middle\" x=\"157.38\" y=\"-13.7\" font-family=\"Times,serif\" font-size=\"14.00\">grad 1.0000</text>\n</g>\n<!-- 140596514495968&#45;&gt;140596514494912* -->\n<g id=\"edge9\" class=\"edge\">\n<title>140596514495968&#45;&gt;140596514494912*</title>\n<path fill=\"none\" stroke=\"black\" d=\"M168.91,-36.94C178.74,-39.93 188.67,-43.15 198,-46.5 207.96,-50.07 218.58,-54.47 228.18,-58.68\"/>\n<polygon fill=\"black\" stroke=\"black\" points=\"226.54,-61.78 237.1,-62.67 229.4,-55.39 226.54,-61.78\"/>\n</g>\n</g>\n</svg>\n",
      "text/plain": [
       "<graphviz.graphs.Digraph at 0x7fdf2d4d9b70>"
      ]
     },
     "execution_count": 52,
     "metadata": {},
     "output_type": "execute_result"
    }
   ],
   "source": [
    "o.grad = 1\n",
    "for node in reversed(topo):\n",
    "    node._backward()\n",
    "\n",
    "draw_dot(o)"
   ]
  },
  {
   "cell_type": "code",
   "execution_count": 58,
   "metadata": {},
   "outputs": [
    {
     "data": {
      "image/svg+xml": "<?xml version=\"1.0\" encoding=\"UTF-8\" standalone=\"no\"?>\n<!DOCTYPE svg PUBLIC \"-//W3C//DTD SVG 1.1//EN\"\n \"http://www.w3.org/Graphics/SVG/1.1/DTD/svg11.dtd\">\n<!-- Generated by graphviz version 10.0.1 (20240210.2158)\n -->\n<!-- Pages: 1 -->\n<svg width=\"1567pt\" height=\"210pt\"\n viewBox=\"0.00 0.00 1566.50 210.00\" xmlns=\"http://www.w3.org/2000/svg\" xmlns:xlink=\"http://www.w3.org/1999/xlink\">\n<g id=\"graph0\" class=\"graph\" transform=\"scale(1 1) rotate(0) translate(4 206)\">\n<polygon fill=\"white\" stroke=\"none\" points=\"-4,4 -4,-206 1562.5,-206 1562.5,4 -4,4\"/>\n<!-- 140596520933920 -->\n<g id=\"node1\" class=\"node\">\n<title>140596520933920</title>\n<polygon fill=\"none\" stroke=\"black\" points=\"1065,-54.5 1065,-90.5 1248.75,-90.5 1248.75,-54.5 1065,-54.5\"/>\n<text text-anchor=\"middle\" x=\"1076.38\" y=\"-67.7\" font-family=\"Times,serif\" font-size=\"14.00\">n</text>\n<polyline fill=\"none\" stroke=\"black\" points=\"1087.75,-55 1087.75,-90.5\"/>\n<text text-anchor=\"middle\" x=\"1127.62\" y=\"-67.7\" font-family=\"Times,serif\" font-size=\"14.00\">data 0.8814</text>\n<polyline fill=\"none\" stroke=\"black\" points=\"1167.5,-55 1167.5,-90.5\"/>\n<text text-anchor=\"middle\" x=\"1208.12\" y=\"-67.7\" font-family=\"Times,serif\" font-size=\"14.00\">grad 0.5000</text>\n</g>\n<!-- 140596520936272tanh -->\n<g id=\"node11\" class=\"node\">\n<title>140596520936272tanh</title>\n<ellipse fill=\"none\" stroke=\"black\" cx=\"1311.75\" cy=\"-72.5\" rx=\"27\" ry=\"18\"/>\n<text text-anchor=\"middle\" x=\"1311.75\" y=\"-67.45\" font-family=\"Times,serif\" font-size=\"14.00\">tanh</text>\n</g>\n<!-- 140596520933920&#45;&gt;140596520936272tanh -->\n<g id=\"edge8\" class=\"edge\">\n<title>140596520933920&#45;&gt;140596520936272tanh</title>\n<path fill=\"none\" stroke=\"black\" d=\"M1249.01,-72.5C1257.39,-72.5 1265.52,-72.5 1272.98,-72.5\"/>\n<polygon fill=\"black\" stroke=\"black\" points=\"1272.95,-76 1282.95,-72.5 1272.95,-69 1272.95,-76\"/>\n</g>\n<!-- 140596520933920+ -->\n<g id=\"node2\" class=\"node\">\n<title>140596520933920+</title>\n<ellipse fill=\"none\" stroke=\"black\" cx=\"1002\" cy=\"-72.5\" rx=\"27\" ry=\"18\"/>\n<text text-anchor=\"middle\" x=\"1002\" y=\"-67.45\" font-family=\"Times,serif\" font-size=\"14.00\">+</text>\n</g>\n<!-- 140596520933920+&#45;&gt;140596520933920 -->\n<g id=\"edge1\" class=\"edge\">\n<title>140596520933920+&#45;&gt;140596520933920</title>\n<path fill=\"none\" stroke=\"black\" d=\"M1029.28,-72.5C1036.42,-72.5 1044.61,-72.5 1053.32,-72.5\"/>\n<polygon fill=\"black\" stroke=\"black\" points=\"1053.06,-76 1063.06,-72.5 1053.06,-69 1053.06,-76\"/>\n</g>\n<!-- 140596520935552 -->\n<g id=\"node3\" class=\"node\">\n<title>140596520935552</title>\n<polygon fill=\"none\" stroke=\"black\" points=\"668.25,-82.5 668.25,-118.5 939,-118.5 939,-82.5 668.25,-82.5\"/>\n<text text-anchor=\"middle\" x=\"720.88\" y=\"-95.7\" font-family=\"Times,serif\" font-size=\"14.00\">x1*w1 + x2*w2</text>\n<polyline fill=\"none\" stroke=\"black\" points=\"773.5,-83 773.5,-118.5\"/>\n<text text-anchor=\"middle\" x=\"815.62\" y=\"-95.7\" font-family=\"Times,serif\" font-size=\"14.00\">data &#45;6.0000</text>\n<polyline fill=\"none\" stroke=\"black\" points=\"857.75,-83 857.75,-118.5\"/>\n<text text-anchor=\"middle\" x=\"898.38\" y=\"-95.7\" font-family=\"Times,serif\" font-size=\"14.00\">grad 0.5000</text>\n</g>\n<!-- 140596520935552&#45;&gt;140596520933920+ -->\n<g id=\"edge6\" class=\"edge\">\n<title>140596520935552&#45;&gt;140596520933920+</title>\n<path fill=\"none\" stroke=\"black\" d=\"M934.24,-82.02C944.99,-80.49 955.18,-79.03 964.21,-77.75\"/>\n<polygon fill=\"black\" stroke=\"black\" points=\"964.46,-81.25 973.86,-76.37 963.47,-74.32 964.46,-81.25\"/>\n</g>\n<!-- 140596520935552+ -->\n<g id=\"node4\" class=\"node\">\n<title>140596520935552+</title>\n<ellipse fill=\"none\" stroke=\"black\" cx=\"605.25\" cy=\"-100.5\" rx=\"27\" ry=\"18\"/>\n<text text-anchor=\"middle\" x=\"605.25\" y=\"-95.45\" font-family=\"Times,serif\" font-size=\"14.00\">+</text>\n</g>\n<!-- 140596520935552+&#45;&gt;140596520935552 -->\n<g id=\"edge2\" class=\"edge\">\n<title>140596520935552+&#45;&gt;140596520935552</title>\n<path fill=\"none\" stroke=\"black\" d=\"M632.73,-100.5C639.73,-100.5 647.79,-100.5 656.52,-100.5\"/>\n<polygon fill=\"black\" stroke=\"black\" points=\"656.39,-104 666.39,-100.5 656.39,-97 656.39,-104\"/>\n</g>\n<!-- 140596520937184 -->\n<g id=\"node5\" class=\"node\">\n<title>140596520937184</title>\n<polygon fill=\"none\" stroke=\"black\" points=\"0,-165.5 0,-201.5 198,-201.5 198,-165.5 0,-165.5\"/>\n<text text-anchor=\"middle\" x=\"16.25\" y=\"-178.7\" font-family=\"Times,serif\" font-size=\"14.00\">w1</text>\n<polyline fill=\"none\" stroke=\"black\" points=\"32.5,-166 32.5,-201.5\"/>\n<text text-anchor=\"middle\" x=\"74.62\" y=\"-178.7\" font-family=\"Times,serif\" font-size=\"14.00\">data &#45;3.0000</text>\n<polyline fill=\"none\" stroke=\"black\" points=\"116.75,-166 116.75,-201.5\"/>\n<text text-anchor=\"middle\" x=\"157.38\" y=\"-178.7\" font-family=\"Times,serif\" font-size=\"14.00\">grad 1.0000</text>\n</g>\n<!-- 140596520931616* -->\n<g id=\"node8\" class=\"node\">\n<title>140596520931616*</title>\n<ellipse fill=\"none\" stroke=\"black\" cx=\"261\" cy=\"-128.5\" rx=\"27\" ry=\"18\"/>\n<text text-anchor=\"middle\" x=\"261\" y=\"-123.45\" font-family=\"Times,serif\" font-size=\"14.00\">*</text>\n</g>\n<!-- 140596520937184&#45;&gt;140596520931616* -->\n<g id=\"edge14\" class=\"edge\">\n<title>140596520937184&#45;&gt;140596520931616*</title>\n<path fill=\"none\" stroke=\"black\" d=\"M172.12,-165.01C180.9,-162.35 189.7,-159.5 198,-156.5 208.09,-152.86 218.82,-148.27 228.47,-143.88\"/>\n<polygon fill=\"black\" stroke=\"black\" points=\"229.86,-147.09 237.45,-139.69 226.9,-140.75 229.86,-147.09\"/>\n</g>\n<!-- 140596520937232 -->\n<g id=\"node6\" class=\"node\">\n<title>140596520937232</title>\n<polygon fill=\"none\" stroke=\"black\" points=\"2.25,-55.5 2.25,-91.5 195.75,-91.5 195.75,-55.5 2.25,-55.5\"/>\n<text text-anchor=\"middle\" x=\"18.5\" y=\"-68.7\" font-family=\"Times,serif\" font-size=\"14.00\">w2</text>\n<polyline fill=\"none\" stroke=\"black\" points=\"34.75,-56 34.75,-91.5\"/>\n<text text-anchor=\"middle\" x=\"74.62\" y=\"-68.7\" font-family=\"Times,serif\" font-size=\"14.00\">data 1.0000</text>\n<polyline fill=\"none\" stroke=\"black\" points=\"114.5,-56 114.5,-91.5\"/>\n<text text-anchor=\"middle\" x=\"155.12\" y=\"-68.7\" font-family=\"Times,serif\" font-size=\"14.00\">grad 0.0000</text>\n</g>\n<!-- 140596520934736* -->\n<g id=\"node13\" class=\"node\">\n<title>140596520934736*</title>\n<ellipse fill=\"none\" stroke=\"black\" cx=\"261\" cy=\"-73.5\" rx=\"27\" ry=\"18\"/>\n<text text-anchor=\"middle\" x=\"261\" y=\"-68.45\" font-family=\"Times,serif\" font-size=\"14.00\">*</text>\n</g>\n<!-- 140596520937232&#45;&gt;140596520934736* -->\n<g id=\"edge9\" class=\"edge\">\n<title>140596520937232&#45;&gt;140596520934736*</title>\n<path fill=\"none\" stroke=\"black\" d=\"M195.84,-73.5C205.14,-73.5 214.15,-73.5 222.32,-73.5\"/>\n<polygon fill=\"black\" stroke=\"black\" points=\"222.13,-77 232.13,-73.5 222.13,-70 222.13,-77\"/>\n</g>\n<!-- 140596520931616 -->\n<g id=\"node7\" class=\"node\">\n<title>140596520931616</title>\n<polygon fill=\"none\" stroke=\"black\" points=\"324,-110.5 324,-146.5 542.25,-146.5 542.25,-110.5 324,-110.5\"/>\n<text text-anchor=\"middle\" x=\"350.38\" y=\"-123.7\" font-family=\"Times,serif\" font-size=\"14.00\">x1*w1</text>\n<polyline fill=\"none\" stroke=\"black\" points=\"376.75,-111 376.75,-146.5\"/>\n<text text-anchor=\"middle\" x=\"418.88\" y=\"-123.7\" font-family=\"Times,serif\" font-size=\"14.00\">data &#45;6.0000</text>\n<polyline fill=\"none\" stroke=\"black\" points=\"461,-111 461,-146.5\"/>\n<text text-anchor=\"middle\" x=\"501.62\" y=\"-123.7\" font-family=\"Times,serif\" font-size=\"14.00\">grad 0.5000</text>\n</g>\n<!-- 140596520931616&#45;&gt;140596520935552+ -->\n<g id=\"edge11\" class=\"edge\">\n<title>140596520931616&#45;&gt;140596520935552+</title>\n<path fill=\"none\" stroke=\"black\" d=\"M542.35,-110.69C551.12,-109.24 559.54,-107.86 567.19,-106.6\"/>\n<polygon fill=\"black\" stroke=\"black\" points=\"567.72,-110.06 577.02,-104.98 566.58,-103.15 567.72,-110.06\"/>\n</g>\n<!-- 140596520931616*&#45;&gt;140596520931616 -->\n<g id=\"edge3\" class=\"edge\">\n<title>140596520931616*&#45;&gt;140596520931616</title>\n<path fill=\"none\" stroke=\"black\" d=\"M288.21,-128.5C295.29,-128.5 303.43,-128.5 312.17,-128.5\"/>\n<polygon fill=\"black\" stroke=\"black\" points=\"312.01,-132 322.01,-128.5 312.01,-125 312.01,-132\"/>\n</g>\n<!-- 140596520940832 -->\n<g id=\"node9\" class=\"node\">\n<title>140596520940832</title>\n<polygon fill=\"none\" stroke=\"black\" points=\"3.75,-0.5 3.75,-36.5 194.25,-36.5 194.25,-0.5 3.75,-0.5\"/>\n<text text-anchor=\"middle\" x=\"18.5\" y=\"-13.7\" font-family=\"Times,serif\" font-size=\"14.00\">x2</text>\n<polyline fill=\"none\" stroke=\"black\" points=\"33.25,-1 33.25,-36.5\"/>\n<text text-anchor=\"middle\" x=\"73.12\" y=\"-13.7\" font-family=\"Times,serif\" font-size=\"14.00\">data 0.0000</text>\n<polyline fill=\"none\" stroke=\"black\" points=\"113,-1 113,-36.5\"/>\n<text text-anchor=\"middle\" x=\"153.62\" y=\"-13.7\" font-family=\"Times,serif\" font-size=\"14.00\">grad 0.5000</text>\n</g>\n<!-- 140596520940832&#45;&gt;140596520934736* -->\n<g id=\"edge12\" class=\"edge\">\n<title>140596520940832&#45;&gt;140596520934736*</title>\n<path fill=\"none\" stroke=\"black\" d=\"M172.12,-36.99C180.9,-39.65 189.7,-42.5 198,-45.5 208.09,-49.14 218.82,-53.73 228.47,-58.12\"/>\n<polygon fill=\"black\" stroke=\"black\" points=\"226.9,-61.25 237.45,-62.31 229.86,-54.91 226.9,-61.25\"/>\n</g>\n<!-- 140596520936272 -->\n<g id=\"node10\" class=\"node\">\n<title>140596520936272</title>\n<polygon fill=\"none\" stroke=\"black\" points=\"1374.75,-54.5 1374.75,-90.5 1558.5,-90.5 1558.5,-54.5 1374.75,-54.5\"/>\n<text text-anchor=\"middle\" x=\"1386.12\" y=\"-67.7\" font-family=\"Times,serif\" font-size=\"14.00\">o</text>\n<polyline fill=\"none\" stroke=\"black\" points=\"1397.5,-55 1397.5,-90.5\"/>\n<text text-anchor=\"middle\" x=\"1437.38\" y=\"-67.7\" font-family=\"Times,serif\" font-size=\"14.00\">data 0.7071</text>\n<polyline fill=\"none\" stroke=\"black\" points=\"1477.25,-55 1477.25,-90.5\"/>\n<text text-anchor=\"middle\" x=\"1517.88\" y=\"-67.7\" font-family=\"Times,serif\" font-size=\"14.00\">grad 1.0000</text>\n</g>\n<!-- 140596520936272tanh&#45;&gt;140596520936272 -->\n<g id=\"edge4\" class=\"edge\">\n<title>140596520936272tanh&#45;&gt;140596520936272</title>\n<path fill=\"none\" stroke=\"black\" d=\"M1339.03,-72.5C1346.17,-72.5 1354.36,-72.5 1363.07,-72.5\"/>\n<polygon fill=\"black\" stroke=\"black\" points=\"1362.81,-76 1372.81,-72.5 1362.81,-69 1362.81,-76\"/>\n</g>\n<!-- 140596520934736 -->\n<g id=\"node12\" class=\"node\">\n<title>140596520934736</title>\n<polygon fill=\"none\" stroke=\"black\" points=\"326.25,-55.5 326.25,-91.5 540,-91.5 540,-55.5 326.25,-55.5\"/>\n<text text-anchor=\"middle\" x=\"352.62\" y=\"-68.7\" font-family=\"Times,serif\" font-size=\"14.00\">x2*w2</text>\n<polyline fill=\"none\" stroke=\"black\" points=\"379,-56 379,-91.5\"/>\n<text text-anchor=\"middle\" x=\"418.88\" y=\"-68.7\" font-family=\"Times,serif\" font-size=\"14.00\">data 0.0000</text>\n<polyline fill=\"none\" stroke=\"black\" points=\"458.75,-56 458.75,-91.5\"/>\n<text text-anchor=\"middle\" x=\"499.38\" y=\"-68.7\" font-family=\"Times,serif\" font-size=\"14.00\">grad 0.5000</text>\n</g>\n<!-- 140596520934736&#45;&gt;140596520935552+ -->\n<g id=\"edge10\" class=\"edge\">\n<title>140596520934736&#45;&gt;140596520935552+</title>\n<path fill=\"none\" stroke=\"black\" d=\"M540.42,-90.37C549.89,-91.87 559,-93.32 567.21,-94.62\"/>\n<polygon fill=\"black\" stroke=\"black\" points=\"566.63,-98.07 577.05,-96.18 567.72,-91.16 566.63,-98.07\"/>\n</g>\n<!-- 140596520934736*&#45;&gt;140596520934736 -->\n<g id=\"edge5\" class=\"edge\">\n<title>140596520934736*&#45;&gt;140596520934736</title>\n<path fill=\"none\" stroke=\"black\" d=\"M288.21,-73.5C296,-73.5 305.08,-73.5 314.82,-73.5\"/>\n<polygon fill=\"black\" stroke=\"black\" points=\"314.55,-77 324.55,-73.5 314.55,-70 314.55,-77\"/>\n</g>\n<!-- 140596520939392 -->\n<g id=\"node14\" class=\"node\">\n<title>140596520939392</title>\n<polygon fill=\"none\" stroke=\"black\" points=\"1.5,-110.5 1.5,-146.5 196.5,-146.5 196.5,-110.5 1.5,-110.5\"/>\n<text text-anchor=\"middle\" x=\"16.25\" y=\"-123.7\" font-family=\"Times,serif\" font-size=\"14.00\">x1</text>\n<polyline fill=\"none\" stroke=\"black\" points=\"31,-111 31,-146.5\"/>\n<text text-anchor=\"middle\" x=\"70.88\" y=\"-123.7\" font-family=\"Times,serif\" font-size=\"14.00\">data 2.0000</text>\n<polyline fill=\"none\" stroke=\"black\" points=\"110.75,-111 110.75,-146.5\"/>\n<text text-anchor=\"middle\" x=\"153.62\" y=\"-123.7\" font-family=\"Times,serif\" font-size=\"14.00\">grad &#45;1.5000</text>\n</g>\n<!-- 140596520939392&#45;&gt;140596520931616* -->\n<g id=\"edge13\" class=\"edge\">\n<title>140596520939392&#45;&gt;140596520931616*</title>\n<path fill=\"none\" stroke=\"black\" d=\"M196.76,-128.5C205.77,-128.5 214.47,-128.5 222.4,-128.5\"/>\n<polygon fill=\"black\" stroke=\"black\" points=\"222.25,-132 232.25,-128.5 222.25,-125 222.25,-132\"/>\n</g>\n<!-- 140596520939440 -->\n<g id=\"node15\" class=\"node\">\n<title>140596520939440</title>\n<polygon fill=\"none\" stroke=\"black\" points=\"711.75,-27.5 711.75,-63.5 895.5,-63.5 895.5,-27.5 711.75,-27.5\"/>\n<text text-anchor=\"middle\" x=\"723.12\" y=\"-40.7\" font-family=\"Times,serif\" font-size=\"14.00\">b</text>\n<polyline fill=\"none\" stroke=\"black\" points=\"734.5,-28 734.5,-63.5\"/>\n<text text-anchor=\"middle\" x=\"774.38\" y=\"-40.7\" font-family=\"Times,serif\" font-size=\"14.00\">data 6.8814</text>\n<polyline fill=\"none\" stroke=\"black\" points=\"814.25,-28 814.25,-63.5\"/>\n<text text-anchor=\"middle\" x=\"854.88\" y=\"-40.7\" font-family=\"Times,serif\" font-size=\"14.00\">grad 0.5000</text>\n</g>\n<!-- 140596520939440&#45;&gt;140596520933920+ -->\n<g id=\"edge7\" class=\"edge\">\n<title>140596520939440&#45;&gt;140596520933920+</title>\n<path fill=\"none\" stroke=\"black\" d=\"M895.91,-58.05C919.97,-61.36 944.58,-64.74 963.93,-67.4\"/>\n<polygon fill=\"black\" stroke=\"black\" points=\"963.36,-70.86 973.75,-68.75 964.32,-63.92 963.36,-70.86\"/>\n</g>\n</g>\n</svg>\n",
      "text/plain": [
       "<graphviz.graphs.Digraph at 0x7fdf2d4d99f0>"
      ]
     },
     "execution_count": 58,
     "metadata": {},
     "output_type": "execute_result"
    }
   ],
   "source": [
    "o.backward()\n",
    "draw_dot(o)"
   ]
  },
  {
   "attachments": {},
   "cell_type": "markdown",
   "metadata": {},
   "source": [
    "## tanh\n",
    "![image.png](imgs/tanh.png)"
   ]
  },
  {
   "cell_type": "code",
   "execution_count": 76,
   "metadata": {},
   "outputs": [
    {
     "data": {
      "image/svg+xml": "<?xml version=\"1.0\" encoding=\"UTF-8\" standalone=\"no\"?>\n<!DOCTYPE svg PUBLIC \"-//W3C//DTD SVG 1.1//EN\"\n \"http://www.w3.org/Graphics/SVG/1.1/DTD/svg11.dtd\">\n<!-- Generated by graphviz version 10.0.1 (20240210.2158)\n -->\n<!-- Pages: 1 -->\n<svg width=\"2929pt\" height=\"236pt\"\n viewBox=\"0.00 0.00 2929.25 236.00\" xmlns=\"http://www.w3.org/2000/svg\" xmlns:xlink=\"http://www.w3.org/1999/xlink\">\n<g id=\"graph0\" class=\"graph\" transform=\"scale(1 1) rotate(0) translate(4 232)\">\n<polygon fill=\"white\" stroke=\"none\" points=\"-4,4 -4,-232 2925.25,-232 2925.25,4 -4,4\"/>\n<!-- 140596488615440 -->\n<g id=\"node1\" class=\"node\">\n<title>140596488615440</title>\n<polygon fill=\"none\" stroke=\"black\" points=\"1066.5,-164.5 1066.5,-200.5 1247.25,-200.5 1247.25,-164.5 1066.5,-164.5\"/>\n<text text-anchor=\"middle\" x=\"1076.38\" y=\"-177.7\" font-family=\"Times,serif\" font-size=\"14.00\"> </text>\n<polyline fill=\"none\" stroke=\"black\" points=\"1086.25,-165 1086.25,-200.5\"/>\n<text text-anchor=\"middle\" x=\"1126.12\" y=\"-177.7\" font-family=\"Times,serif\" font-size=\"14.00\">data 2.0000</text>\n<polyline fill=\"none\" stroke=\"black\" points=\"1166,-165 1166,-200.5\"/>\n<text text-anchor=\"middle\" x=\"1206.62\" y=\"-177.7\" font-family=\"Times,serif\" font-size=\"14.00\">grad 0.2203</text>\n</g>\n<!-- 140596520458880* -->\n<g id=\"node7\" class=\"node\">\n<title>140596520458880*</title>\n<ellipse fill=\"none\" stroke=\"black\" cx=\"1311.75\" cy=\"-154.5\" rx=\"27\" ry=\"18\"/>\n<text text-anchor=\"middle\" x=\"1311.75\" y=\"-149.45\" font-family=\"Times,serif\" font-size=\"14.00\">*</text>\n</g>\n<!-- 140596488615440&#45;&gt;140596520458880* -->\n<g id=\"edge21\" class=\"edge\">\n<title>140596488615440&#45;&gt;140596520458880*</title>\n<path fill=\"none\" stroke=\"black\" d=\"M1247.69,-166.05C1256.94,-164.35 1265.93,-162.71 1274.08,-161.22\"/>\n<polygon fill=\"black\" stroke=\"black\" points=\"1274.67,-164.67 1283.87,-159.42 1273.41,-157.78 1274.67,-164.67\"/>\n</g>\n<!-- 140596520461856 -->\n<g id=\"node2\" class=\"node\">\n<title>140596520461856</title>\n<polygon fill=\"none\" stroke=\"black\" points=\"2737.5,-135.5 2737.5,-171.5 2921.25,-171.5 2921.25,-135.5 2737.5,-135.5\"/>\n<text text-anchor=\"middle\" x=\"2748.88\" y=\"-148.7\" font-family=\"Times,serif\" font-size=\"14.00\">o</text>\n<polyline fill=\"none\" stroke=\"black\" points=\"2760.25,-136 2760.25,-171.5\"/>\n<text text-anchor=\"middle\" x=\"2800.12\" y=\"-148.7\" font-family=\"Times,serif\" font-size=\"14.00\">data 0.7071</text>\n<polyline fill=\"none\" stroke=\"black\" points=\"2840,-136 2840,-171.5\"/>\n<text text-anchor=\"middle\" x=\"2880.62\" y=\"-148.7\" font-family=\"Times,serif\" font-size=\"14.00\">grad 1.0000</text>\n</g>\n<!-- 140596520461856* -->\n<g id=\"node3\" class=\"node\">\n<title>140596520461856*</title>\n<ellipse fill=\"none\" stroke=\"black\" cx=\"2674.5\" cy=\"-153.5\" rx=\"27\" ry=\"18\"/>\n<text text-anchor=\"middle\" x=\"2674.5\" y=\"-148.45\" font-family=\"Times,serif\" font-size=\"14.00\">*</text>\n</g>\n<!-- 140596520461856*&#45;&gt;140596520461856 -->\n<g id=\"edge1\" class=\"edge\">\n<title>140596520461856*&#45;&gt;140596520461856</title>\n<path fill=\"none\" stroke=\"black\" d=\"M2701.78,-153.5C2708.92,-153.5 2717.11,-153.5 2725.82,-153.5\"/>\n<polygon fill=\"black\" stroke=\"black\" points=\"2725.56,-157 2735.56,-153.5 2725.56,-150 2725.56,-157\"/>\n</g>\n<!-- 140596520455808 -->\n<g id=\"node4\" class=\"node\">\n<title>140596520455808</title>\n<polygon fill=\"none\" stroke=\"black\" points=\"1992.75,-163.5 1992.75,-199.5 2178,-199.5 2178,-163.5 1992.75,-163.5\"/>\n<text text-anchor=\"middle\" x=\"2002.62\" y=\"-176.7\" font-family=\"Times,serif\" font-size=\"14.00\"> </text>\n<polyline fill=\"none\" stroke=\"black\" points=\"2012.5,-164 2012.5,-199.5\"/>\n<text text-anchor=\"middle\" x=\"2052.38\" y=\"-176.7\" font-family=\"Times,serif\" font-size=\"14.00\">data 6.8284</text>\n<polyline fill=\"none\" stroke=\"black\" points=\"2092.25,-164 2092.25,-199.5\"/>\n<text text-anchor=\"middle\" x=\"2135.12\" y=\"-176.7\" font-family=\"Times,serif\" font-size=\"14.00\">grad &#45;0.1036</text>\n</g>\n<!-- 140596520453888**&#45;1 -->\n<g id=\"node14\" class=\"node\">\n<title>140596520453888**&#45;1</title>\n<ellipse fill=\"none\" stroke=\"black\" cx=\"2304.38\" cy=\"-181.5\" rx=\"27.81\" ry=\"18\"/>\n<text text-anchor=\"middle\" x=\"2304.38\" y=\"-176.45\" font-family=\"Times,serif\" font-size=\"14.00\">**&#45;1</text>\n</g>\n<!-- 140596520455808&#45;&gt;140596520453888**&#45;1 -->\n<g id=\"edge11\" class=\"edge\">\n<title>140596520455808&#45;&gt;140596520453888**&#45;1</title>\n<path fill=\"none\" stroke=\"black\" d=\"M2178.4,-181.5C2208.64,-181.5 2240.63,-181.5 2264.67,-181.5\"/>\n<polygon fill=\"black\" stroke=\"black\" points=\"2264.62,-185 2274.62,-181.5 2264.62,-178 2264.62,-185\"/>\n</g>\n<!-- 140596520455808+ -->\n<g id=\"node5\" class=\"node\">\n<title>140596520455808+</title>\n<ellipse fill=\"none\" stroke=\"black\" cx=\"1929.75\" cy=\"-181.5\" rx=\"27\" ry=\"18\"/>\n<text text-anchor=\"middle\" x=\"1929.75\" y=\"-176.45\" font-family=\"Times,serif\" font-size=\"14.00\">+</text>\n</g>\n<!-- 140596520455808+&#45;&gt;140596520455808 -->\n<g id=\"edge2\" class=\"edge\">\n<title>140596520455808+&#45;&gt;140596520455808</title>\n<path fill=\"none\" stroke=\"black\" d=\"M1957.16,-181.5C1964.2,-181.5 1972.25,-181.5 1980.8,-181.5\"/>\n<polygon fill=\"black\" stroke=\"black\" points=\"1980.79,-185 1990.79,-181.5 1980.79,-178 1980.79,-185\"/>\n</g>\n<!-- 140596520458880 -->\n<g id=\"node6\" class=\"node\">\n<title>140596520458880</title>\n<polygon fill=\"none\" stroke=\"black\" points=\"1374.75,-136.5 1374.75,-172.5 1555.5,-172.5 1555.5,-136.5 1374.75,-136.5\"/>\n<text text-anchor=\"middle\" x=\"1384.62\" y=\"-149.7\" font-family=\"Times,serif\" font-size=\"14.00\"> </text>\n<polyline fill=\"none\" stroke=\"black\" points=\"1394.5,-137 1394.5,-172.5\"/>\n<text text-anchor=\"middle\" x=\"1434.38\" y=\"-149.7\" font-family=\"Times,serif\" font-size=\"14.00\">data 1.7627</text>\n<polyline fill=\"none\" stroke=\"black\" points=\"1474.25,-137 1474.25,-172.5\"/>\n<text text-anchor=\"middle\" x=\"1514.88\" y=\"-149.7\" font-family=\"Times,serif\" font-size=\"14.00\">grad 0.2500</text>\n</g>\n<!-- 140596520461808exp -->\n<g id=\"node28\" class=\"node\">\n<title>140596520461808exp</title>\n<ellipse fill=\"none\" stroke=\"black\" cx=\"1618.5\" cy=\"-154.5\" rx=\"27\" ry=\"18\"/>\n<text text-anchor=\"middle\" x=\"1618.5\" y=\"-149.45\" font-family=\"Times,serif\" font-size=\"14.00\">exp</text>\n</g>\n<!-- 140596520458880&#45;&gt;140596520461808exp -->\n<g id=\"edge16\" class=\"edge\">\n<title>140596520458880&#45;&gt;140596520461808exp</title>\n<path fill=\"none\" stroke=\"black\" d=\"M1555.93,-154.5C1564.27,-154.5 1572.37,-154.5 1579.81,-154.5\"/>\n<polygon fill=\"black\" stroke=\"black\" points=\"1579.75,-158 1589.75,-154.5 1579.75,-151 1579.75,-158\"/>\n</g>\n<!-- 140596520458880*&#45;&gt;140596520458880 -->\n<g id=\"edge3\" class=\"edge\">\n<title>140596520458880*&#45;&gt;140596520458880</title>\n<path fill=\"none\" stroke=\"black\" d=\"M1339.12,-154.5C1346.26,-154.5 1354.45,-154.5 1363.14,-154.5\"/>\n<polygon fill=\"black\" stroke=\"black\" points=\"1362.86,-158 1372.86,-154.5 1362.86,-151 1362.86,-158\"/>\n</g>\n<!-- 140596488684688 -->\n<g id=\"node8\" class=\"node\">\n<title>140596488684688</title>\n<polygon fill=\"none\" stroke=\"black\" points=\"711.75,-137.5 711.75,-173.5 895.5,-173.5 895.5,-137.5 711.75,-137.5\"/>\n<text text-anchor=\"middle\" x=\"723.12\" y=\"-150.7\" font-family=\"Times,serif\" font-size=\"14.00\">b</text>\n<polyline fill=\"none\" stroke=\"black\" points=\"734.5,-138 734.5,-173.5\"/>\n<text text-anchor=\"middle\" x=\"774.38\" y=\"-150.7\" font-family=\"Times,serif\" font-size=\"14.00\">data 6.8814</text>\n<polyline fill=\"none\" stroke=\"black\" points=\"814.25,-138 814.25,-173.5\"/>\n<text text-anchor=\"middle\" x=\"854.88\" y=\"-150.7\" font-family=\"Times,serif\" font-size=\"14.00\">grad 0.5000</text>\n</g>\n<!-- 140596488608720+ -->\n<g id=\"node26\" class=\"node\">\n<title>140596488608720+</title>\n<ellipse fill=\"none\" stroke=\"black\" cx=\"1002\" cy=\"-127.5\" rx=\"27\" ry=\"18\"/>\n<text text-anchor=\"middle\" x=\"1002\" y=\"-122.45\" font-family=\"Times,serif\" font-size=\"14.00\">+</text>\n</g>\n<!-- 140596488684688&#45;&gt;140596488608720+ -->\n<g id=\"edge12\" class=\"edge\">\n<title>140596488684688&#45;&gt;140596488608720+</title>\n<path fill=\"none\" stroke=\"black\" d=\"M895.91,-142.48C919.97,-139.05 944.58,-135.55 963.93,-132.79\"/>\n<polygon fill=\"black\" stroke=\"black\" points=\"964.34,-136.26 973.75,-131.39 963.35,-129.33 964.34,-136.26\"/>\n</g>\n<!-- 140596488689296 -->\n<g id=\"node9\" class=\"node\">\n<title>140596488689296</title>\n<polygon fill=\"none\" stroke=\"black\" points=\"3.75,-55.5 3.75,-91.5 194.25,-91.5 194.25,-55.5 3.75,-55.5\"/>\n<text text-anchor=\"middle\" x=\"18.5\" y=\"-68.7\" font-family=\"Times,serif\" font-size=\"14.00\">x2</text>\n<polyline fill=\"none\" stroke=\"black\" points=\"33.25,-56 33.25,-91.5\"/>\n<text text-anchor=\"middle\" x=\"73.12\" y=\"-68.7\" font-family=\"Times,serif\" font-size=\"14.00\">data 0.0000</text>\n<polyline fill=\"none\" stroke=\"black\" points=\"113,-56 113,-91.5\"/>\n<text text-anchor=\"middle\" x=\"153.62\" y=\"-68.7\" font-family=\"Times,serif\" font-size=\"14.00\">grad 0.5000</text>\n</g>\n<!-- 140596514502448* -->\n<g id=\"node20\" class=\"node\">\n<title>140596514502448*</title>\n<ellipse fill=\"none\" stroke=\"black\" cx=\"261\" cy=\"-73.5\" rx=\"27\" ry=\"18\"/>\n<text text-anchor=\"middle\" x=\"261\" y=\"-68.45\" font-family=\"Times,serif\" font-size=\"14.00\">*</text>\n</g>\n<!-- 140596488689296&#45;&gt;140596514502448* -->\n<g id=\"edge23\" class=\"edge\">\n<title>140596488689296&#45;&gt;140596514502448*</title>\n<path fill=\"none\" stroke=\"black\" d=\"M194.46,-73.5C204.21,-73.5 213.66,-73.5 222.21,-73.5\"/>\n<polygon fill=\"black\" stroke=\"black\" points=\"222.12,-77 232.12,-73.5 222.12,-70 222.12,-77\"/>\n</g>\n<!-- 140596488688816 -->\n<g id=\"node10\" class=\"node\">\n<title>140596488688816</title>\n<polygon fill=\"none\" stroke=\"black\" points=\"2.25,-0.5 2.25,-36.5 195.75,-36.5 195.75,-0.5 2.25,-0.5\"/>\n<text text-anchor=\"middle\" x=\"18.5\" y=\"-13.7\" font-family=\"Times,serif\" font-size=\"14.00\">w2</text>\n<polyline fill=\"none\" stroke=\"black\" points=\"34.75,-1 34.75,-36.5\"/>\n<text text-anchor=\"middle\" x=\"74.62\" y=\"-13.7\" font-family=\"Times,serif\" font-size=\"14.00\">data 1.0000</text>\n<polyline fill=\"none\" stroke=\"black\" points=\"114.5,-1 114.5,-36.5\"/>\n<text text-anchor=\"middle\" x=\"155.12\" y=\"-13.7\" font-family=\"Times,serif\" font-size=\"14.00\">grad 0.0000</text>\n</g>\n<!-- 140596488688816&#45;&gt;140596514502448* -->\n<g id=\"edge20\" class=\"edge\">\n<title>140596488688816&#45;&gt;140596514502448*</title>\n<path fill=\"none\" stroke=\"black\" d=\"M172.12,-36.99C180.9,-39.65 189.7,-42.5 198,-45.5 208.09,-49.14 218.82,-53.73 228.47,-58.12\"/>\n<polygon fill=\"black\" stroke=\"black\" points=\"226.9,-61.25 237.45,-62.31 229.86,-54.91 226.9,-61.25\"/>\n</g>\n<!-- 140596488686272 -->\n<g id=\"node11\" class=\"node\">\n<title>140596488686272</title>\n<polygon fill=\"none\" stroke=\"black\" points=\"0,-165.5 0,-201.5 198,-201.5 198,-165.5 0,-165.5\"/>\n<text text-anchor=\"middle\" x=\"16.25\" y=\"-178.7\" font-family=\"Times,serif\" font-size=\"14.00\">w1</text>\n<polyline fill=\"none\" stroke=\"black\" points=\"32.5,-166 32.5,-201.5\"/>\n<text text-anchor=\"middle\" x=\"74.62\" y=\"-178.7\" font-family=\"Times,serif\" font-size=\"14.00\">data &#45;3.0000</text>\n<polyline fill=\"none\" stroke=\"black\" points=\"116.75,-166 116.75,-201.5\"/>\n<text text-anchor=\"middle\" x=\"157.38\" y=\"-178.7\" font-family=\"Times,serif\" font-size=\"14.00\">grad 1.0000</text>\n</g>\n<!-- 140596514504656* -->\n<g id=\"node16\" class=\"node\">\n<title>140596514504656*</title>\n<ellipse fill=\"none\" stroke=\"black\" cx=\"261\" cy=\"-128.5\" rx=\"27\" ry=\"18\"/>\n<text text-anchor=\"middle\" x=\"261\" y=\"-123.45\" font-family=\"Times,serif\" font-size=\"14.00\">*</text>\n</g>\n<!-- 140596488686272&#45;&gt;140596514504656* -->\n<g id=\"edge27\" class=\"edge\">\n<title>140596488686272&#45;&gt;140596514504656*</title>\n<path fill=\"none\" stroke=\"black\" d=\"M172.12,-165.01C180.9,-162.35 189.7,-159.5 198,-156.5 208.09,-152.86 218.82,-148.27 228.47,-143.88\"/>\n<polygon fill=\"black\" stroke=\"black\" points=\"229.86,-147.09 237.45,-139.69 226.9,-140.75 229.86,-147.09\"/>\n</g>\n<!-- 140596488686800 -->\n<g id=\"node12\" class=\"node\">\n<title>140596488686800</title>\n<polygon fill=\"none\" stroke=\"black\" points=\"1.5,-110.5 1.5,-146.5 196.5,-146.5 196.5,-110.5 1.5,-110.5\"/>\n<text text-anchor=\"middle\" x=\"16.25\" y=\"-123.7\" font-family=\"Times,serif\" font-size=\"14.00\">x1</text>\n<polyline fill=\"none\" stroke=\"black\" points=\"31,-111 31,-146.5\"/>\n<text text-anchor=\"middle\" x=\"70.88\" y=\"-123.7\" font-family=\"Times,serif\" font-size=\"14.00\">data 2.0000</text>\n<polyline fill=\"none\" stroke=\"black\" points=\"110.75,-111 110.75,-146.5\"/>\n<text text-anchor=\"middle\" x=\"153.62\" y=\"-123.7\" font-family=\"Times,serif\" font-size=\"14.00\">grad &#45;1.5000</text>\n</g>\n<!-- 140596488686800&#45;&gt;140596514504656* -->\n<g id=\"edge17\" class=\"edge\">\n<title>140596488686800&#45;&gt;140596514504656*</title>\n<path fill=\"none\" stroke=\"black\" d=\"M196.76,-128.5C205.77,-128.5 214.47,-128.5 222.4,-128.5\"/>\n<polygon fill=\"black\" stroke=\"black\" points=\"222.25,-132 232.25,-128.5 222.25,-125 222.25,-132\"/>\n</g>\n<!-- 140596520453888 -->\n<g id=\"node13\" class=\"node\">\n<title>140596520453888</title>\n<polygon fill=\"none\" stroke=\"black\" points=\"2430.75,-161.5 2430.75,-197.5 2611.5,-197.5 2611.5,-161.5 2430.75,-161.5\"/>\n<text text-anchor=\"middle\" x=\"2440.62\" y=\"-174.7\" font-family=\"Times,serif\" font-size=\"14.00\"> </text>\n<polyline fill=\"none\" stroke=\"black\" points=\"2450.5,-162 2450.5,-197.5\"/>\n<text text-anchor=\"middle\" x=\"2490.38\" y=\"-174.7\" font-family=\"Times,serif\" font-size=\"14.00\">data 0.1464</text>\n<polyline fill=\"none\" stroke=\"black\" points=\"2530.25,-162 2530.25,-197.5\"/>\n<text text-anchor=\"middle\" x=\"2570.88\" y=\"-174.7\" font-family=\"Times,serif\" font-size=\"14.00\">grad 4.8284</text>\n</g>\n<!-- 140596520453888&#45;&gt;140596520461856* -->\n<g id=\"edge28\" class=\"edge\">\n<title>140596520453888&#45;&gt;140596520461856*</title>\n<path fill=\"none\" stroke=\"black\" d=\"M2611.93,-164.08C2620.54,-162.6 2628.89,-161.16 2636.53,-159.85\"/>\n<polygon fill=\"black\" stroke=\"black\" points=\"2637.11,-163.3 2646.37,-158.16 2635.92,-156.4 2637.11,-163.3\"/>\n</g>\n<!-- 140596520453888**&#45;1&#45;&gt;140596520453888 -->\n<g id=\"edge4\" class=\"edge\">\n<title>140596520453888**&#45;1&#45;&gt;140596520453888</title>\n<path fill=\"none\" stroke=\"black\" d=\"M2332.57,-181.25C2354.68,-181.04 2387.33,-180.74 2419.22,-180.44\"/>\n<polygon fill=\"black\" stroke=\"black\" points=\"2418.96,-183.94 2428.93,-180.35 2418.9,-176.94 2418.96,-183.94\"/>\n</g>\n<!-- 140596514504656 -->\n<g id=\"node15\" class=\"node\">\n<title>140596514504656</title>\n<polygon fill=\"none\" stroke=\"black\" points=\"324,-110.5 324,-146.5 542.25,-146.5 542.25,-110.5 324,-110.5\"/>\n<text text-anchor=\"middle\" x=\"350.38\" y=\"-123.7\" font-family=\"Times,serif\" font-size=\"14.00\">x1*w1</text>\n<polyline fill=\"none\" stroke=\"black\" points=\"376.75,-111 376.75,-146.5\"/>\n<text text-anchor=\"middle\" x=\"418.88\" y=\"-123.7\" font-family=\"Times,serif\" font-size=\"14.00\">data &#45;6.0000</text>\n<polyline fill=\"none\" stroke=\"black\" points=\"461,-111 461,-146.5\"/>\n<text text-anchor=\"middle\" x=\"501.62\" y=\"-123.7\" font-family=\"Times,serif\" font-size=\"14.00\">grad 0.5000</text>\n</g>\n<!-- 140596488617840+ -->\n<g id=\"node23\" class=\"node\">\n<title>140596488617840+</title>\n<ellipse fill=\"none\" stroke=\"black\" cx=\"605.25\" cy=\"-100.5\" rx=\"27\" ry=\"18\"/>\n<text text-anchor=\"middle\" x=\"605.25\" y=\"-95.45\" font-family=\"Times,serif\" font-size=\"14.00\">+</text>\n</g>\n<!-- 140596514504656&#45;&gt;140596488617840+ -->\n<g id=\"edge24\" class=\"edge\">\n<title>140596514504656&#45;&gt;140596488617840+</title>\n<path fill=\"none\" stroke=\"black\" d=\"M542.35,-110.69C551.12,-109.24 559.54,-107.86 567.19,-106.6\"/>\n<polygon fill=\"black\" stroke=\"black\" points=\"567.72,-110.06 577.02,-104.98 566.58,-103.15 567.72,-110.06\"/>\n</g>\n<!-- 140596514504656*&#45;&gt;140596514504656 -->\n<g id=\"edge5\" class=\"edge\">\n<title>140596514504656*&#45;&gt;140596514504656</title>\n<path fill=\"none\" stroke=\"black\" d=\"M288.21,-128.5C295.29,-128.5 303.43,-128.5 312.17,-128.5\"/>\n<polygon fill=\"black\" stroke=\"black\" points=\"312.01,-132 322.01,-128.5 312.01,-125 312.01,-132\"/>\n</g>\n<!-- 140596520452880 -->\n<g id=\"node17\" class=\"node\">\n<title>140596520452880</title>\n<polygon fill=\"none\" stroke=\"black\" points=\"2214,-108.5 2214,-144.5 2394.75,-144.5 2394.75,-108.5 2214,-108.5\"/>\n<text text-anchor=\"middle\" x=\"2223.88\" y=\"-121.7\" font-family=\"Times,serif\" font-size=\"14.00\"> </text>\n<polyline fill=\"none\" stroke=\"black\" points=\"2233.75,-109 2233.75,-144.5\"/>\n<text text-anchor=\"middle\" x=\"2273.62\" y=\"-121.7\" font-family=\"Times,serif\" font-size=\"14.00\">data 4.8284</text>\n<polyline fill=\"none\" stroke=\"black\" points=\"2313.5,-109 2313.5,-144.5\"/>\n<text text-anchor=\"middle\" x=\"2354.12\" y=\"-121.7\" font-family=\"Times,serif\" font-size=\"14.00\">grad 0.1464</text>\n</g>\n<!-- 140596520452880&#45;&gt;140596520461856* -->\n<g id=\"edge13\" class=\"edge\">\n<title>140596520452880&#45;&gt;140596520461856*</title>\n<path fill=\"none\" stroke=\"black\" d=\"M2394.96,-133.07C2472.25,-138.74 2580.03,-146.64 2636.17,-150.76\"/>\n<polygon fill=\"black\" stroke=\"black\" points=\"2635.59,-154.23 2645.82,-151.47 2636.1,-147.25 2635.59,-154.23\"/>\n</g>\n<!-- 140596520452880+ -->\n<g id=\"node18\" class=\"node\">\n<title>140596520452880+</title>\n<ellipse fill=\"none\" stroke=\"black\" cx=\"1929.75\" cy=\"-126.5\" rx=\"27\" ry=\"18\"/>\n<text text-anchor=\"middle\" x=\"1929.75\" y=\"-121.45\" font-family=\"Times,serif\" font-size=\"14.00\">+</text>\n</g>\n<!-- 140596520452880+&#45;&gt;140596520452880 -->\n<g id=\"edge6\" class=\"edge\">\n<title>140596520452880+&#45;&gt;140596520452880</title>\n<path fill=\"none\" stroke=\"black\" d=\"M1957.25,-126.5C2007.51,-126.5 2119.07,-126.5 2202.03,-126.5\"/>\n<polygon fill=\"black\" stroke=\"black\" points=\"2202.02,-130 2212.02,-126.5 2202.02,-123 2202.02,-130\"/>\n</g>\n<!-- 140596514502448 -->\n<g id=\"node19\" class=\"node\">\n<title>140596514502448</title>\n<polygon fill=\"none\" stroke=\"black\" points=\"326.25,-55.5 326.25,-91.5 540,-91.5 540,-55.5 326.25,-55.5\"/>\n<text text-anchor=\"middle\" x=\"352.62\" y=\"-68.7\" font-family=\"Times,serif\" font-size=\"14.00\">x2*w2</text>\n<polyline fill=\"none\" stroke=\"black\" points=\"379,-56 379,-91.5\"/>\n<text text-anchor=\"middle\" x=\"418.88\" y=\"-68.7\" font-family=\"Times,serif\" font-size=\"14.00\">data 0.0000</text>\n<polyline fill=\"none\" stroke=\"black\" points=\"458.75,-56 458.75,-91.5\"/>\n<text text-anchor=\"middle\" x=\"499.38\" y=\"-68.7\" font-family=\"Times,serif\" font-size=\"14.00\">grad 0.5000</text>\n</g>\n<!-- 140596514502448&#45;&gt;140596488617840+ -->\n<g id=\"edge25\" class=\"edge\">\n<title>140596514502448&#45;&gt;140596488617840+</title>\n<path fill=\"none\" stroke=\"black\" d=\"M540.42,-90.37C549.89,-91.87 559,-93.32 567.21,-94.62\"/>\n<polygon fill=\"black\" stroke=\"black\" points=\"566.63,-98.07 577.05,-96.18 567.72,-91.16 566.63,-98.07\"/>\n</g>\n<!-- 140596514502448*&#45;&gt;140596514502448 -->\n<g id=\"edge7\" class=\"edge\">\n<title>140596514502448*&#45;&gt;140596514502448</title>\n<path fill=\"none\" stroke=\"black\" d=\"M288.21,-73.5C296,-73.5 305.08,-73.5 314.82,-73.5\"/>\n<polygon fill=\"black\" stroke=\"black\" points=\"314.55,-77 324.55,-73.5 314.55,-70 314.55,-77\"/>\n</g>\n<!-- 140596520460608 -->\n<g id=\"node21\" class=\"node\">\n<title>140596520460608</title>\n<polygon fill=\"none\" stroke=\"black\" points=\"1681.5,-191.5 1681.5,-227.5 1866.75,-227.5 1866.75,-191.5 1681.5,-191.5\"/>\n<text text-anchor=\"middle\" x=\"1691.38\" y=\"-204.7\" font-family=\"Times,serif\" font-size=\"14.00\"> </text>\n<polyline fill=\"none\" stroke=\"black\" points=\"1701.25,-192 1701.25,-227.5\"/>\n<text text-anchor=\"middle\" x=\"1741.12\" y=\"-204.7\" font-family=\"Times,serif\" font-size=\"14.00\">data 1.0000</text>\n<polyline fill=\"none\" stroke=\"black\" points=\"1781,-192 1781,-227.5\"/>\n<text text-anchor=\"middle\" x=\"1823.88\" y=\"-204.7\" font-family=\"Times,serif\" font-size=\"14.00\">grad &#45;0.1036</text>\n</g>\n<!-- 140596520460608&#45;&gt;140596520455808+ -->\n<g id=\"edge18\" class=\"edge\">\n<title>140596520460608&#45;&gt;140596520455808+</title>\n<path fill=\"none\" stroke=\"black\" d=\"M1867.15,-192.73C1875.89,-191.13 1884.36,-189.59 1892.08,-188.18\"/>\n<polygon fill=\"black\" stroke=\"black\" points=\"1892.45,-191.67 1901.66,-186.44 1891.19,-184.79 1892.45,-191.67\"/>\n</g>\n<!-- 140596488617840 -->\n<g id=\"node22\" class=\"node\">\n<title>140596488617840</title>\n<polygon fill=\"none\" stroke=\"black\" points=\"668.25,-82.5 668.25,-118.5 939,-118.5 939,-82.5 668.25,-82.5\"/>\n<text text-anchor=\"middle\" x=\"720.88\" y=\"-95.7\" font-family=\"Times,serif\" font-size=\"14.00\">x1*w1 + x2*w2</text>\n<polyline fill=\"none\" stroke=\"black\" points=\"773.5,-83 773.5,-118.5\"/>\n<text text-anchor=\"middle\" x=\"815.62\" y=\"-95.7\" font-family=\"Times,serif\" font-size=\"14.00\">data &#45;6.0000</text>\n<polyline fill=\"none\" stroke=\"black\" points=\"857.75,-83 857.75,-118.5\"/>\n<text text-anchor=\"middle\" x=\"898.38\" y=\"-95.7\" font-family=\"Times,serif\" font-size=\"14.00\">grad 0.5000</text>\n</g>\n<!-- 140596488617840&#45;&gt;140596488608720+ -->\n<g id=\"edge26\" class=\"edge\">\n<title>140596488617840&#45;&gt;140596488608720+</title>\n<path fill=\"none\" stroke=\"black\" d=\"M939.14,-118.99C947.95,-120.21 956.31,-121.36 963.87,-122.4\"/>\n<polygon fill=\"black\" stroke=\"black\" points=\"963.16,-125.83 973.55,-123.73 964.12,-118.9 963.16,-125.83\"/>\n</g>\n<!-- 140596488617840+&#45;&gt;140596488617840 -->\n<g id=\"edge8\" class=\"edge\">\n<title>140596488617840+&#45;&gt;140596488617840</title>\n<path fill=\"none\" stroke=\"black\" d=\"M632.73,-100.5C639.73,-100.5 647.79,-100.5 656.52,-100.5\"/>\n<polygon fill=\"black\" stroke=\"black\" points=\"656.39,-104 666.39,-100.5 656.39,-97 656.39,-104\"/>\n</g>\n<!-- 140596520455088 -->\n<g id=\"node24\" class=\"node\">\n<title>140596520455088</title>\n<polygon fill=\"none\" stroke=\"black\" points=\"1681.5,-81.5 1681.5,-117.5 1866.75,-117.5 1866.75,-81.5 1681.5,-81.5\"/>\n<text text-anchor=\"middle\" x=\"1691.38\" y=\"-94.7\" font-family=\"Times,serif\" font-size=\"14.00\"> </text>\n<polyline fill=\"none\" stroke=\"black\" points=\"1701.25,-82 1701.25,-117.5\"/>\n<text text-anchor=\"middle\" x=\"1743.38\" y=\"-94.7\" font-family=\"Times,serif\" font-size=\"14.00\">data &#45;1.0000</text>\n<polyline fill=\"none\" stroke=\"black\" points=\"1785.5,-82 1785.5,-117.5\"/>\n<text text-anchor=\"middle\" x=\"1826.12\" y=\"-94.7\" font-family=\"Times,serif\" font-size=\"14.00\">grad 0.1464</text>\n</g>\n<!-- 140596520455088&#45;&gt;140596520452880+ -->\n<g id=\"edge22\" class=\"edge\">\n<title>140596520455088&#45;&gt;140596520452880+</title>\n<path fill=\"none\" stroke=\"black\" d=\"M1867.15,-115.67C1875.89,-117.21 1884.36,-118.7 1892.08,-120.05\"/>\n<polygon fill=\"black\" stroke=\"black\" points=\"1891.2,-123.45 1901.66,-121.74 1892.41,-116.56 1891.2,-123.45\"/>\n</g>\n<!-- 140596488608720 -->\n<g id=\"node25\" class=\"node\">\n<title>140596488608720</title>\n<polygon fill=\"none\" stroke=\"black\" points=\"1065,-109.5 1065,-145.5 1248.75,-145.5 1248.75,-109.5 1065,-109.5\"/>\n<text text-anchor=\"middle\" x=\"1076.38\" y=\"-122.7\" font-family=\"Times,serif\" font-size=\"14.00\">n</text>\n<polyline fill=\"none\" stroke=\"black\" points=\"1087.75,-110 1087.75,-145.5\"/>\n<text text-anchor=\"middle\" x=\"1127.62\" y=\"-122.7\" font-family=\"Times,serif\" font-size=\"14.00\">data 0.8814</text>\n<polyline fill=\"none\" stroke=\"black\" points=\"1167.5,-110 1167.5,-145.5\"/>\n<text text-anchor=\"middle\" x=\"1208.12\" y=\"-122.7\" font-family=\"Times,serif\" font-size=\"14.00\">grad 0.5000</text>\n</g>\n<!-- 140596488608720&#45;&gt;140596520458880* -->\n<g id=\"edge19\" class=\"edge\">\n<title>140596488608720&#45;&gt;140596520458880*</title>\n<path fill=\"none\" stroke=\"black\" d=\"M1249.01,-143.6C1257.84,-145.16 1266.4,-146.67 1274.19,-148.04\"/>\n<polygon fill=\"black\" stroke=\"black\" points=\"1273.42,-151.46 1283.88,-149.75 1274.64,-144.57 1273.42,-151.46\"/>\n</g>\n<!-- 140596488608720+&#45;&gt;140596488608720 -->\n<g id=\"edge9\" class=\"edge\">\n<title>140596488608720+&#45;&gt;140596488608720</title>\n<path fill=\"none\" stroke=\"black\" d=\"M1029.28,-127.5C1036.42,-127.5 1044.61,-127.5 1053.32,-127.5\"/>\n<polygon fill=\"black\" stroke=\"black\" points=\"1053.06,-131 1063.06,-127.5 1053.06,-124 1053.06,-131\"/>\n</g>\n<!-- 140596520461808 -->\n<g id=\"node27\" class=\"node\">\n<title>140596520461808</title>\n<polygon fill=\"none\" stroke=\"black\" points=\"1682.62,-136.5 1682.62,-172.5 1865.62,-172.5 1865.62,-136.5 1682.62,-136.5\"/>\n<text text-anchor=\"middle\" x=\"1693.62\" y=\"-149.7\" font-family=\"Times,serif\" font-size=\"14.00\">e</text>\n<polyline fill=\"none\" stroke=\"black\" points=\"1704.62,-137 1704.62,-172.5\"/>\n<text text-anchor=\"middle\" x=\"1744.5\" y=\"-149.7\" font-family=\"Times,serif\" font-size=\"14.00\">data 5.8284</text>\n<polyline fill=\"none\" stroke=\"black\" points=\"1784.38,-137 1784.38,-172.5\"/>\n<text text-anchor=\"middle\" x=\"1825\" y=\"-149.7\" font-family=\"Times,serif\" font-size=\"14.00\">grad 0.0429</text>\n</g>\n<!-- 140596520461808&#45;&gt;140596520455808+ -->\n<g id=\"edge15\" class=\"edge\">\n<title>140596520461808&#45;&gt;140596520455808+</title>\n<path fill=\"none\" stroke=\"black\" d=\"M1865.82,-170.44C1874.99,-172.05 1883.88,-173.61 1891.95,-175.03\"/>\n<polygon fill=\"black\" stroke=\"black\" points=\"1891.19,-178.45 1901.64,-176.74 1892.4,-171.56 1891.19,-178.45\"/>\n</g>\n<!-- 140596520461808&#45;&gt;140596520452880+ -->\n<g id=\"edge14\" class=\"edge\">\n<title>140596520461808&#45;&gt;140596520452880+</title>\n<path fill=\"none\" stroke=\"black\" d=\"M1865.82,-137.97C1875.07,-136.28 1884.05,-134.65 1892.19,-133.16\"/>\n<polygon fill=\"black\" stroke=\"black\" points=\"1892.74,-136.62 1901.95,-131.38 1891.48,-129.73 1892.74,-136.62\"/>\n</g>\n<!-- 140596520461808exp&#45;&gt;140596520461808 -->\n<g id=\"edge10\" class=\"edge\">\n<title>140596520461808exp&#45;&gt;140596520461808</title>\n<path fill=\"none\" stroke=\"black\" d=\"M1645.91,-154.5C1653.35,-154.5 1661.92,-154.5 1671.02,-154.5\"/>\n<polygon fill=\"black\" stroke=\"black\" points=\"1670.84,-158 1680.84,-154.5 1670.84,-151 1670.84,-158\"/>\n</g>\n</g>\n</svg>\n",
      "text/plain": [
       "<graphviz.graphs.Digraph at 0x7fdf2d4d9fc0>"
      ]
     },
     "execution_count": 76,
     "metadata": {},
     "output_type": "execute_result"
    }
   ],
   "source": [
    "# Redefine o to expand tanh\n",
    "# inputs x1,x2\n",
    "x1 = Value(2.0, label='x1')\n",
    "x2 = Value(0.0, label='x2')\n",
    "# weights w1,w2\n",
    "w1 = Value(-3.0, label='w1')\n",
    "w2 = Value(1.0, label='w2')\n",
    "# bias of the neuron\n",
    "b = Value(6.8813735870195432, label='b')\n",
    "# x1*w1 + x2*w2 + b\n",
    "x1w1 = x1*w1; x1w1.label = 'x1*w1'\n",
    "x2w2 = x2*w2; x2w2.label = 'x2*w2'\n",
    "x1w1x2w2 = x1w1 + x2w2; x1w1x2w2.label = 'x1*w1 + x2*w2'\n",
    "n = x1w1x2w2 + b; n.label = 'n'\n",
    "# o = n.tanh(); o.label = 'o'\n",
    "e = (2*n).exp(); e.label = 'e'\n",
    "o = (e-1) / (e+1); o.label = 'o'\n",
    "o.backward()\n",
    "draw_dot(o)\n",
    "# equal final gradients\n"
   ]
  },
  {
   "cell_type": "code",
   "execution_count": null,
   "metadata": {},
   "outputs": [],
   "source": []
  }
 ],
 "metadata": {
  "kernelspec": {
   "display_name": "nlp",
   "language": "python",
   "name": "python3"
  },
  "language_info": {
   "codemirror_mode": {
    "name": "ipython",
    "version": 3
   },
   "file_extension": ".py",
   "mimetype": "text/x-python",
   "name": "python",
   "nbconvert_exporter": "python",
   "pygments_lexer": "ipython3",
   "version": "3.10.13 (main, Sep 11 2023, 08:39:02) [Clang 14.0.6 ]"
  },
  "orig_nbformat": 4,
  "vscode": {
   "interpreter": {
    "hash": "89b2e8084823e03a90aeac42ca3e6d432c5ee69185c690a3bb8b23dbb0a561e7"
   }
  }
 },
 "nbformat": 4,
 "nbformat_minor": 2
}
